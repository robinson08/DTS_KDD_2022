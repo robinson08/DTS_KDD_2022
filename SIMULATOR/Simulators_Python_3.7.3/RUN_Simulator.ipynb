{
 "cells": [
  {
   "cell_type": "markdown",
   "id": "988a2d93",
   "metadata": {},
   "source": [
    "# 1. Run this cell to import the necessary libraries"
   ]
  },
  {
   "cell_type": "code",
   "execution_count": 3,
   "id": "930d74a1",
   "metadata": {},
   "outputs": [],
   "source": [
    "import numpy as np\n",
    "from operator import itemgetter\n",
    "import time\n",
    "import pandas as pd\n",
    "from tqdm import tqdm"
   ]
  },
  {
   "cell_type": "markdown",
   "id": "132fcf24",
   "metadata": {},
   "source": [
    "# 2. Run this cell and wait for your result"
   ]
  },
  {
   "cell_type": "code",
   "execution_count": 4,
   "id": "1716204d",
   "metadata": {
    "scrolled": true
   },
   "outputs": [
    {
     "name": "stderr",
     "output_type": "stream",
     "text": [
      "100%|██████████| 4/4 [30:24<00:00, 456.23s/it]"
     ]
    },
    {
     "name": "stdout",
     "output_type": "stream",
     "text": [
      "Total runtime for these events was =  30.417733959356944  minutes =  0.5069622326559491  hours\n"
     ]
    },
    {
     "name": "stderr",
     "output_type": "stream",
     "text": [
      "\n"
     ]
    }
   ],
   "source": [
    "# Start timer for runtime\n",
    "start = time.time()\n",
    "\n",
    "# Import the configuration file where you defined the simulation parameters\n",
    "%run ./config.ipynb\n",
    "\n",
    "# Impor the config_mode_multiple parameters (unused if MODE != MULTIPLE)\n",
    "%run ./config_mode_multiple.ipynb\n",
    "\n",
    "# Import the queue_maker() and all related methods\n",
    "%run ./queue_maker.ipynb\n",
    "\n",
    "# Import all the individual algorithms\n",
    "%run ./ALGORITHM_PL.ipynb\n",
    "%run ./ALGORITHM_FL.ipynb\n",
    "%run ./ALGORITHM_SL.ipynb\n",
    "%run ./ALGORITHM_PSL.ipynb\n",
    "%run ./ALGORITHM_FSL.ipynb\n",
    "\n",
    "# Import the event_handler() and all related methods\n",
    "%run ./Event_handler.ipynb\n",
    "\n",
    "# Import the logger and all related methods\n",
    "%run ./Logger.ipynb\n",
    "\n",
    "# Decide whether you want to run MULTIPLE simulations, or just test one configuration out\n",
    "MODE = \"MULTIPLE\"\n",
    "# MODE = \"SINGLE\"\n",
    "# MODE = \"NN_MINI\"\n",
    "# MODE = \"NN_STD\"\n",
    "# MODE = \"dummy\"\n",
    "\n",
    "if MODE == \"MULTIPLE\":\n",
    "    # Specify what factor to divide the simulator default time output unit (seconds)\n",
    "    # If you want hours as an output, then 3600. If you want minutes, then 60, and so on\n",
    "    time_factor = 3600\n",
    "    # Pick an X axis variable\n",
    "    for X in tqdm(X_axis_variables):\n",
    "        # Pick an R variable to introduce randomness\n",
    "        for Rand in Rand_variables:\n",
    "            # Remember that the values of R are when calling the queue_maker() method!\n",
    "            # Do not plot a variable against itself\n",
    "            if X != Rand:\n",
    "                # For every value of the variable in the X_axis...\n",
    "                for i in range(total_x_ticks):\n",
    "    #             for i in range(5):\n",
    "                    # Choose a value\n",
    "                    X_value = X_dict[X][i]\n",
    "                    # Generate the values for each of the N events to be run for this value of the X_axis_variable\n",
    "                    # The amount of events is determined by the parameter in the \"config.ipynb\" file\n",
    "                    queue_maker()\n",
    "                    # Run each of the events for this X_axis_variable value with the randomness introduced by R in \n",
    "                    # each event\n",
    "                    event_handler()\n",
    "                    # Set the output file name for this set of events. The rest of the file name is found in the \n",
    "                    # Logger.ipynb file\n",
    "                    filename = 'X_' + X + '_Rand_' + Rand + '_' + str(i)\n",
    "                    # Call the logger method to finalize this instance of the loop\n",
    "                    logger_multiple(results)\n",
    "elif MODE == \"NN_MINI\":\n",
    "    # Specify what factor to divide the simulator default time output unit (seconds)\n",
    "    # If you want hours as an output, then 3600. If you want minutes, then 60, and so on\n",
    "    time_factor = 1\n",
    "    X = \"NN_MINI\"\n",
    "    Rand = None\n",
    "    # First fill up the queue with the data generated with the information from the config file\n",
    "    queue_maker()\n",
    "    # Then run the algorithms for each event in the queue\n",
    "    event_handler()\n",
    "    # Establish the output file name\n",
    "    filename = \"NN_MINI_MNIST_EPOCHS\"\n",
    "    # Log the results\n",
    "    logger_individual(results)\n",
    "elif MODE == \"NN_STD\":\n",
    "    # Specify what factor to divide the simulator default time output unit (seconds)\n",
    "    # If you want hours as an output, then 3600. If you want minutes, then 60, and so on\n",
    "    time_factor = 1\n",
    "    X = \"NN_STD\"\n",
    "    Rand = None\n",
    "    # First fill up the queue with the data generated with the information from the config file\n",
    "    queue_maker()\n",
    "    # Then run the algorithms for each event in the queue\n",
    "    event_handler()\n",
    "    # Establish the output file name\n",
    "    filename = \"NN_STD_MNIST_EPOCHS\"\n",
    "    # Log the results\n",
    "    logger_individual(results)\n",
    "elif MODE == \"SINGLE\":\n",
    "    # Specify what factor to divide the simulator default time output unit (seconds)\n",
    "    # If you want hours as an output, then 3600. If you want minutes, then 60, and so on\n",
    "    time_factor = 1\n",
    "    X = \"SINGLE\"\n",
    "    Rand = None\n",
    "    # First fill up the queue with the data generated with the information from the config file\n",
    "    queue_maker()\n",
    "    # Then run the algorithms for each event in the queue\n",
    "    event_handler()\n",
    "    # Establish the output file name\n",
    "    filename = \"Individual_Single\"\n",
    "    # Log the results\n",
    "    logger_individual(results)\n",
    "elif MODE == \"dummy\":\n",
    "    # Specify what factor to divide the simulator default time output unit (seconds)\n",
    "    # If you want hours as an output, then 3600. If you want minutes, then 60, and so on\n",
    "    while True:\n",
    "        time_factor = 3600\n",
    "        # Pick an X axis variable\n",
    "        for X in X_axis_variables:\n",
    "            # Pick an R variable to introduce randomness\n",
    "            for Rand in Rand_variables:\n",
    "                # Remember that the values of R are when calling the queue_maker() method!\n",
    "                # Do not plot a variable against itself\n",
    "                if X != Rand:\n",
    "                    # For every value of the variable in the X_axis...\n",
    "                    for i in range(total_x_ticks):\n",
    "        #             for i in range(5):\n",
    "                        # Choose a value\n",
    "                        X_value = X_dict[X][i]\n",
    "                        # Generate the values for each of the N events to be run for this value of the X_axis_variable\n",
    "                        # The amount of events is determined by the parameter in the \"config.ipynb\" file\n",
    "                        queue_maker()\n",
    "                        # Run each of the events for this X_axis_variable value with the randomness introduced by R in \n",
    "                        # each event\n",
    "                        event_handler()\n",
    "                        # Set the output file name for this set of events. The rest of the file name is found in the \n",
    "                        # Logger.ipynb file\n",
    "                        filename = 'X_' + X + '_Rand_' + Rand + '_' + str(i)\n",
    "                        # Call the logger method to finalize this instance of the loop\n",
    "                        logger_multiple(results)\n",
    "\n",
    "\n",
    "# End timer\n",
    "end = time.time()\n",
    "runtime = end - start\n",
    "print(\"Total runtime for these events was = \", runtime/60, \" minutes = \", runtime/3600, \" hours\")\n",
    "\n",
    "# Clean the global namespace after run is done\n",
    "%reset -f"
   ]
  }
 ],
 "metadata": {
  "kernelspec": {
   "display_name": "Python 3",
   "language": "python",
   "name": "python3"
  },
  "language_info": {
   "codemirror_mode": {
    "name": "ipython",
    "version": 3
   },
   "file_extension": ".py",
   "mimetype": "text/x-python",
   "name": "python",
   "nbconvert_exporter": "python",
   "pygments_lexer": "ipython3",
   "version": "3.7.10"
  }
 },
 "nbformat": 4,
 "nbformat_minor": 5
}
