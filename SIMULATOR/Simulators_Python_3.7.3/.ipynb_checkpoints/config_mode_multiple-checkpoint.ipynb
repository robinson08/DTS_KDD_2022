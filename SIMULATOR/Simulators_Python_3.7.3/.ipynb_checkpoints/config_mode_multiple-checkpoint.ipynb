{
 "cells": [
  {
   "cell_type": "markdown",
   "id": "460f7547",
   "metadata": {},
   "source": [
    "# Input the data to be used for multiple-event simulation"
   ]
  },
  {
   "cell_type": "code",
   "execution_count": null,
   "id": "48559137",
   "metadata": {},
   "outputs": [],
   "source": [
    "# Create the dictionary with all of the values for each of the ticks in the X axis for each of the\n",
    "# X_axis_variables\n",
    "\n",
    "# X_axis_variables = ['G_base', 'C', 'fraction_server', 'R', 'B', 'client_amount', 'D_clients_in',\n",
    "#                    'D_clients_out', 'D_weights']\n",
    "X_axis_variables = ['G_base', 'C', 'client_amount', 'B']\n",
    "\n",
    "# Variables that will introduce randomness into each of the X_axis_variable values. These are necessary to \n",
    "# generate the Box Plots\n",
    "Rand_variables = X_axis_variables[:]\n",
    "\n",
    "# Results V2\n",
    "X_dict = {}\n",
    "X_dict['G_base'] = [630, 10000, 20000, 40000, 60480]\n",
    "X_dict['C'] = [7365, 11000, 13000, 15000, 19500]\n",
    "X_dict['fraction_server'] = [0.51, 0.65, 0.75, 0.85, 0.95]\n",
    "X_dict['R'] = [64, 100, 150, 250, 320]\n",
    "X_dict['B'] = [1.25, 5, 7.5, 10, 12.5]\n",
    "X_dict['client_amount'] = [1, 3, 4, 5, 7]\n",
    "X_dict['D_clients_in'] = [0.1, 0.4, 0.6, 0.8, 1.0]\n",
    "X_dict['D_clients_out'] = [1, 4, 6, 8, 10]\n",
    "X_dict['D_weights'] = X_dict['D_clients_out'][:]\n",
    "\n",
    "# Run and log the results\n",
    "# Set the number of x_ticks to be used on the X_axis of each plot. This number must be equivalent to the length\n",
    "# of each of the previous dictionary entries\n",
    "total_x_ticks = len(X_dict['G_base'])"
   ]
  }
 ],
 "metadata": {
  "kernelspec": {
   "display_name": "Python 3",
   "language": "python",
   "name": "python3"
  },
  "language_info": {
   "codemirror_mode": {
    "name": "ipython",
    "version": 3
   },
   "file_extension": ".py",
   "mimetype": "text/x-python",
   "name": "python",
   "nbconvert_exporter": "python",
   "pygments_lexer": "ipython3",
   "version": "3.7.10"
  }
 },
 "nbformat": 4,
 "nbformat_minor": 5
}
