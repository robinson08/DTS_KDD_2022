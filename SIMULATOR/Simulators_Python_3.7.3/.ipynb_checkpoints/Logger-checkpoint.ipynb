{
 "cells": [
  {
   "cell_type": "markdown",
   "id": "44b36013",
   "metadata": {},
   "source": [
    "# Logger"
   ]
  },
  {
   "cell_type": "code",
   "execution_count": 2,
   "id": "b1a75fb6",
   "metadata": {},
   "outputs": [],
   "source": [
    "def logger_individual(results):\n",
    "\n",
    "        # Log the results in a Pandas DataFrame\n",
    "\n",
    "        # Set the column names\n",
    "        column_names = [\"Event Name\", \"No. of Processors\", \"No. of Layers\", \"Min. Split\", \"Min. Clients\",\n",
    "                       \"NN Flops [TFLOPs]\", \"NN Memory [GB]\", \"Fraction Aggregator\",\"Fraction Server / Edge\",\n",
    "                        \"Fraction Clients\", \"Avg. Processor Power [GFLOP/s]\",\"Avg. Processor Full Residual [GB]\", \n",
    "                        \"Avg. Processor Portion\",\"Avg. Link Bandwidth [GB/s]\", \"Avg. Input Data Size [GB]\", \n",
    "                        \"Avg. Intermediate Results Size [GB]\", \"Avg. Weights Data Size [GB]\",  \n",
    "                        \"PL Outcome\", \"PL Best Path\",\"PL Train Time [s]\", \"PL Runtime [s]\",\n",
    "                        \"FL Outcome\", \"FL Aggregator\", \"FL Clients\", \"FL Train Time [s]\", \"FL Runtime [s]\", \n",
    "                        \"SL Outcome\", \"SL Server\", \"SL Clients\", \"SL Train Time [s]\", \"SL Runtime [s]\",\n",
    "                        \"PSL Outcome\", \"PSL Server\", \"PSL Clients\", \"PSL Train Time [s]\", \"PSL Runtime [s]\", \n",
    "                        \"FSL Outcome\", \"FSL Agg Server\", \"FSL Edge Servers\", \"FSL Clients\", \"FSL Train Time [s]\", \n",
    "                        \"FSL Runtime [s]\", \"Best Architecture\", \"Best Train Time [s]\"]\n",
    "\n",
    "        # Set the row names\n",
    "        row_names = []\n",
    "        for i in range(event_amount):\n",
    "            row_names.append(\"Event \" + str(i))\n",
    "        results_df = pd.DataFrame(results, columns = column_names, index = row_names)\n",
    "\n",
    "        # Output the results to a dataframe and then to a .csv file\n",
    "        output_directory_single = \"./Results/Testbed/\"\n",
    "        # filename is taken from RUN_SIMULATOR.ipynb!\n",
    "        results_df.to_csv(output_directory_single + filename + \".csv\")"
   ]
  },
  {
   "cell_type": "code",
   "execution_count": null,
   "id": "cfd9f38b",
   "metadata": {},
   "outputs": [],
   "source": [
    "def logger_multiple(results):\n",
    "\n",
    "    # Log the results in a Pandas DataFrame\n",
    "\n",
    "    # Set the column names\n",
    "    column_names = [\"Event Name\", \"No. of Processors\", \"No. of Layers\", \"Min. Split\", \"Min. Clients\",\n",
    "                   \"NN Flops [TFLOPs]\", \"NN Memory [GB]\", \"Fraction Aggregator\",\"Fraction Server / Edge\",\n",
    "                    \"Fraction Clients\", \"Avg. Processor Power [GFLOP/s]\",\"Avg. Processor Full Residual [GB]\", \n",
    "                    \"Avg. Processor Portion\",\"Avg. Link Bandwidth [GB/s]\", \"Avg. Input Data Size [GB]\", \n",
    "                    \"Avg. Intermediate Results Size [GB]\", \"Avg. Weights Data Size [GB]\",  \n",
    "                    \"PL Outcome\", \"PL Best Path\",\"PL Train Time [h]\", \"PL Runtime [s]\",\n",
    "                    \"FL Outcome\", \"FL Aggregator\", \"FL Clients\", \"FL Train Time [h]\", \"FL Runtime [s]\", \n",
    "                    \"SL Outcome\", \"SL Server\", \"SL Clients\", \"SL Train Time [h]\", \"SL Runtime [s]\",\n",
    "                    \"PSL Outcome\", \"PSL Server\", \"PSL Clients\", \"PSL Train Time [h]\", \"PSL Runtime [s]\", \n",
    "                    \"FSL Outcome\", \"FSL Agg Server\", \"FSL Edge Servers\", \"FSL Clients\", \"FSL Train Time [h]\", \n",
    "                    \"FSL Runtime [s]\", \"Best Architecture\", \"Best Train Time [h]\"]\n",
    "\n",
    "    # Set the row names\n",
    "    row_names = []\n",
    "    for i in range(event_amount):\n",
    "        row_names.append(\"Event \" + str(i))\n",
    "    results_df = pd.DataFrame(results, columns = column_names, index = row_names)\n",
    "\n",
    "    # Output the results to a dataframe and then to a .csv file\n",
    "    output_directory_multiple = \"./Results/V5_3/\"\n",
    "    # filename is taken from RUN_SIMULATOR.ipynb!\n",
    "    results_df.to_csv(output_directory_multiple + filename + \".csv\")"
   ]
  }
 ],
 "metadata": {
  "kernelspec": {
   "display_name": "Python 3",
   "language": "python",
   "name": "python3"
  },
  "language_info": {
   "codemirror_mode": {
    "name": "ipython",
    "version": 3
   },
   "file_extension": ".py",
   "mimetype": "text/x-python",
   "name": "python",
   "nbconvert_exporter": "python",
   "pygments_lexer": "ipython3",
   "version": "3.7.10"
  }
 },
 "nbformat": 4,
 "nbformat_minor": 5
}
