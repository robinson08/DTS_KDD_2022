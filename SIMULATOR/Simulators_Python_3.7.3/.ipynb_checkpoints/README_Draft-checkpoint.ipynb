{
 "cells": [
  {
   "cell_type": "markdown",
   "id": "59b052ac",
   "metadata": {},
   "source": [
    "**NOTE TO PROFESSOR**: We do not know what the final name of the tool will be yet, so for this draft *XYZ* was chosen as the name. None of this text is final or properly \"formal\", as this is just a draft to try and understand if I did what you requested/expected. \n",
    "\n",
    "# XYZ README\n",
    "XYZ is a tool used to compare various distributed training architectures for a user-specified Deep Neural Network (DNN). The tool will determine which architecture yields the fastest training time based on the following four key criteria:\n",
    "1. Available processors' power (FLOPs)\n",
    "2. Available processors' local memory (GB)\n",
    "3. Available bandwidth between processors (GB/s)\n",
    "4. User's preferred privacy policy (# of splits)\n",
    "\n",
    "## Necessary Libraries\n",
    "* NECESSARY: The only necessary external library for XYZ to run correctly is [NumPy](https://numpy.org/).\n",
    "* OPTIONAL: If you want for each individual allocator to also output a CSV file. then [Pandas](https://pandas.pydata.org/) is required\n",
    "\n",
    "## How to Run\n",
    "To run XYZ, simply open the XYZ_RUN.ipynb file, follow the simple on-screen instructions, and run the notebook.\n",
    "\n",
    "## Supported Distributed Training Architectures\n",
    "XYZ currently supports comparisons between the five (5) following distributed training architectures:\n",
    "1. Pipeline Learning (PL)\n",
    "2. Federated Learning (FL)\n",
    "3. Split Learning (SL)\n",
    "4. Parallel Split Learning (PSL)\n",
    "5. Federated Split Learning (FSL)\n",
    "\n",
    "## Documentation\n",
    "* **SUMMARY**: For a quick recap of how each of XYZ's allocation algorithms work, take a look at *Allocation_Algorithm_Summary.pdf*\n",
    "* **IN-DEPTH**: For a MUCH more detailed version of how each allocation algorithm works, take a look at *Allocation_Algorithm_Detail.pdf*. This version is recommended for those who want to modify each of the allocation algorithms to their own liking, or would like to provide feedback for the currently used algorithms.\n",
    "* **ALLOCATOR CODE**: Each of the individual allocators can be found in the following files:\n",
    "    * Pipeline Learning Allocator: *Allocators/XXX_PL.ipynb*\n",
    "    * Federated Learning Allocator: *Allocators/XXX_FL.ipynb*\n",
    "    * Split Learning Allocator: *Allocators/XXX_SL.ipynb*\n",
    "    * Parallel Split Learning Allocator: *Allocators/XXX_PSL.ipynb*\n",
    "    * Federated Split Learning Allocator: *Allocators/XXX_FSL.ipynb*\n",
    "\n",
    "## How to Contribute\n",
    "XYZ is a work in progress, and the idea is to make it as accessible as possible. Please submit an issue or a pull request to help us implement suggestions and community feedback into the current tool.\n",
    "\n",
    "## References\n",
    "Please cite us if you use XYZ for your research. \n",
    "1. ...(citation)"
   ]
  }
 ],
 "metadata": {
  "kernelspec": {
   "display_name": "Python 3",
   "language": "python",
   "name": "python3"
  },
  "language_info": {
   "codemirror_mode": {
    "name": "ipython",
    "version": 3
   },
   "file_extension": ".py",
   "mimetype": "text/x-python",
   "name": "python",
   "nbconvert_exporter": "python",
   "pygments_lexer": "ipython3",
   "version": "3.7.10"
  }
 },
 "nbformat": 4,
 "nbformat_minor": 5
}
