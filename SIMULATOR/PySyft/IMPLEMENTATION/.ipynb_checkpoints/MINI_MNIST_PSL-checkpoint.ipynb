{
 "cells": [
  {
   "cell_type": "markdown",
   "id": "21d9b0e5",
   "metadata": {},
   "source": [
    "# Import necessary libraries"
   ]
  },
  {
   "cell_type": "code",
   "execution_count": 1,
   "id": "7ef4cba4",
   "metadata": {},
   "outputs": [],
   "source": [
    "# General\n",
    "import os\n",
    "import cv2\n",
    "import numpy as np\n",
    "from tqdm import tqdm\n",
    "import matplotlib.pyplot as plt\n",
    "import pickle\n",
    "import time\n",
    "import copy\n",
    "import pandas as pd\n",
    "\n",
    "\n",
    "# Pytorch\n",
    "import torch\n",
    "import torch.nn as nn\n",
    "import torch.nn.functional as F\n",
    "import torch.optim as optim\n",
    "from torch.utils.data import TensorDataset, DataLoader\n",
    "from torchvision import datasets, transforms\n",
    "\n",
    "\n",
    "# PySyft\n",
    "import syft as sy\n",
    "from syft.frameworks.torch.fl import utils\n",
    "from syft.workers.websocket_client import WebsocketClientWorker"
   ]
  },
  {
   "cell_type": "markdown",
   "id": "abfe54c9",
   "metadata": {},
   "source": [
    "# Pre-processing the Data"
   ]
  },
  {
   "cell_type": "code",
   "execution_count": 2,
   "id": "b933aecf",
   "metadata": {},
   "outputs": [],
   "source": [
    "# Set the image size Y where Y represents YxY \n",
    "IMG_SIZE = 50\n",
    "BATCH_SIZE = 100\n",
    "LR = 0.001"
   ]
  },
  {
   "cell_type": "code",
   "execution_count": 3,
   "id": "4380d2e4",
   "metadata": {},
   "outputs": [],
   "source": [
    "train = datasets.MNIST(r\"/media/wilfredo/Willie931GB/EURECOM_SLU_Linux/II_SEMESTER/SLU/PAPER_KDD2022/EXPERIMENTS/PySyft/Datasets/MNIST\", \n",
    "                      train = True, download = True, \n",
    "                      transform = transforms.Compose([transforms.Resize(IMG_SIZE),\n",
    "                                                      transforms.ToTensor()]))\n",
    "\n",
    "test = datasets.MNIST(r\"/media/wilfredo/Willie931GB/EURECOM_SLU_Linux/II_SEMESTER/SLU/PAPER_KDD2022/EXPERIMENTS/PySyft/Datasets/MNIST\", \n",
    "                      train = False, download = True, \n",
    "                      transform = transforms.Compose([transforms.Resize(IMG_SIZE),\n",
    "                                                      transforms.ToTensor()]))"
   ]
  },
  {
   "cell_type": "code",
   "execution_count": 4,
   "id": "4f3c12bc",
   "metadata": {},
   "outputs": [],
   "source": [
    "# Load the data from the file it was saved in. Take the ENTIRE dataset!\n",
    "training_data = torch.utils.data.DataLoader(train, batch_size = int(len(train)/2), shuffle = True)\n",
    "test_data = torch.utils.data.DataLoader(test, batch_size = int(len(test)/2), shuffle = True)"
   ]
  },
  {
   "cell_type": "markdown",
   "id": "a11f666d",
   "metadata": {},
   "source": [
    "# Create the CNN (based on VGG11)\n",
    "Source: Page 3/14, Table 1, Configuration A, https://arxiv.org/pdf/1409.1556.pdf"
   ]
  },
  {
   "cell_type": "markdown",
   "id": "df76f16c",
   "metadata": {},
   "source": [
    "## Model on clients (small portion)"
   ]
  },
  {
   "cell_type": "code",
   "execution_count": 5,
   "id": "6a8a18f5",
   "metadata": {},
   "outputs": [],
   "source": [
    "class Net_client(nn.Module):\n",
    "    def __init__(self):\n",
    "        super().__init__()\n",
    "        # Define your first convolutional layer: input = 1, output = 32 convolutional features, kernel size = 5\n",
    "        # Remember that kernel = 5 means that the \"window\" used to scan for features will be 5x5\n",
    "        self.conv1 = nn.Conv2d(1, 16, 5)\n",
    "        self.conv2 = nn.Conv2d(16, 32, 5)\n",
    "\n",
    "    # Function defining only one part of the forward pass (the convolution layers only). This will also write\n",
    "    # the output dimensions of the conv layers to self._to_linear ONCE, and this information will then be used \n",
    "    # as the input data flattened dimensions of the next fully connected layers \n",
    "    def convs(self, x):\n",
    "        # Convolutional layer 1 + activation + max_pooling\n",
    "        x = self.conv1(x)\n",
    "        x = F.relu(x)\n",
    "        x = F.max_pool2d(x, (2, 2))\n",
    "        x = self.conv2(x)\n",
    "        x = F.relu(x)\n",
    "        x = F.max_pool2d(x, (2, 2))\n",
    "        return x\n",
    "    \n",
    "    # Function defining the rest of the forward pass\n",
    "    def forward(self, x):\n",
    "        # Run the convs layers first\n",
    "        x = self.convs(x)\n",
    "        return x\n",
    "\n",
    "net_client = Net_client()"
   ]
  },
  {
   "cell_type": "markdown",
   "id": "fcc3a73c",
   "metadata": {},
   "source": [
    "## Model on Server (big portion)"
   ]
  },
  {
   "cell_type": "code",
   "execution_count": 6,
   "id": "78971eb9",
   "metadata": {},
   "outputs": [],
   "source": [
    "class Net_server(nn.Module):\n",
    "    def __init__(self):\n",
    "        super().__init__()\n",
    "        \n",
    "        # Start from the third convolutional layer\n",
    "        self.conv3 = nn.Conv2d(32, 64, 5)\n",
    "        \n",
    "        # Run the fully connected layers. We know the input of this fc1 layer is 512, because of our previous\n",
    "        # results with FL, where self.__to__linear told us this result when you run the cell that contains the \n",
    "        # NN\n",
    "        self._to_linear = 256\n",
    "        self.fc1 = nn.Linear(self._to_linear, 32)\n",
    "        self.fc2 = nn.Linear(32, 2)\n",
    "\n",
    "    # Function defining only one part of the forward pass (the convolution layers only). This will also write\n",
    "    # the output dimensions of the conv layers to self._to_linear ONCE, and this information will then be used \n",
    "    # as the input data flattened dimensions of the next fully connected layers \n",
    "    def convs(self, x):\n",
    "        # Convolutional layer 1 + activation + max_pooling\n",
    "        x = self.conv3(x)\n",
    "        x = F.relu(x)\n",
    "        x = F.max_pool2d(x, (2, 2))\n",
    "        \n",
    "        if self._to_linear is None:\n",
    "            self._to_linear = x[0].shape[0] * x[0].shape[1] * x[0].shape[2]\n",
    "        return x\n",
    "#         return x\n",
    "    \n",
    "    # Function defining the rest of the forward pass\n",
    "    def forward(self, x):\n",
    "        # Run the convs layers first\n",
    "        x = self.convs(x)\n",
    "        # Reshape the output data from the convs to be flattened\n",
    "        x = x.view(-1, self._to_linear)\n",
    "        # Pass the data through the fully connected layers now\n",
    "        x = F.relu(self.fc1(x))\n",
    "        # Pass it through the final layer\n",
    "        x = self.fc2(x)\n",
    "        # One final softmax function to make the output vector look nicer\n",
    "        x = F.softmax(x, dim = 1)\n",
    "        return x\n",
    "\n",
    "net_server = Net_server()"
   ]
  },
  {
   "cell_type": "code",
   "execution_count": 7,
   "id": "fd138ef0",
   "metadata": {},
   "outputs": [],
   "source": [
    "# Take a look at our models\n",
    "model_client = net_client\n",
    "model_server = net_server"
   ]
  },
  {
   "cell_type": "code",
   "execution_count": 8,
   "id": "e9e99116",
   "metadata": {},
   "outputs": [
    {
     "data": {
      "text/plain": [
       "Net_client(\n",
       "  (conv1): Conv2d(1, 16, kernel_size=(5, 5), stride=(1, 1))\n",
       "  (conv2): Conv2d(16, 32, kernel_size=(5, 5), stride=(1, 1))\n",
       ")"
      ]
     },
     "execution_count": 8,
     "metadata": {},
     "output_type": "execute_result"
    }
   ],
   "source": [
    "# Take a look at your model\n",
    "model_client"
   ]
  },
  {
   "cell_type": "code",
   "execution_count": 9,
   "id": "9e438605",
   "metadata": {},
   "outputs": [
    {
     "data": {
      "text/plain": [
       "Net_server(\n",
       "  (conv3): Conv2d(32, 64, kernel_size=(5, 5), stride=(1, 1))\n",
       "  (fc1): Linear(in_features=256, out_features=32, bias=True)\n",
       "  (fc2): Linear(in_features=32, out_features=2, bias=True)\n",
       ")"
      ]
     },
     "execution_count": 9,
     "metadata": {},
     "output_type": "execute_result"
    }
   ],
   "source": [
    "# Take a look at your model\n",
    "model_server"
   ]
  },
  {
   "cell_type": "markdown",
   "id": "b5fa812c",
   "metadata": {},
   "source": [
    "# Establish your loss function"
   ]
  },
  {
   "cell_type": "code",
   "execution_count": 10,
   "id": "de47ce2b",
   "metadata": {},
   "outputs": [],
   "source": [
    "# Set your loss function (MSE for images!)\n",
    "loss_function = nn.MSELoss()"
   ]
  },
  {
   "cell_type": "markdown",
   "id": "f5ad042b",
   "metadata": {},
   "source": [
    "# Separate your data into data, labels, training, testing, and scale it"
   ]
  },
  {
   "cell_type": "code",
   "execution_count": 11,
   "id": "cacdc36c",
   "metadata": {},
   "outputs": [],
   "source": [
    "# Take the data loaded onto training_data. You NEED to iterate over it to take it, even if you\n",
    "# want to take the entire thing. Make sure to convert the values to floats\n",
    "X = next(iter(training_data))[0]\n",
    "y_unformatted = next(iter(training_data))[1].type(torch.FloatTensor)\n",
    "X_test = next(iter(test_data))[0]\n",
    "y_test_unformatted = next(iter(test_data))[1].type(torch.FloatTensor)\n",
    "\n",
    "# The two other cases in this paper use 2 dimensional labels (0, 1), not only (0)\n",
    "# MNIST by default comes with labels in the format (9) instead of (9, 0). To change this:\n",
    "# Create tensors with all zeros of the same size\n",
    "y_unformatted_addition = torch.zeros(y_unformatted.size())\n",
    "y_test_unformatted_addition = torch.zeros(y_test_unformatted.size())\n",
    "# Then stack them together (0 for vertically, -1 for horizontally)\n",
    "y = torch.stack((y_unformatted, y_unformatted_addition), -1)\n",
    "y_test = torch.stack((y_test_unformatted, y_test_unformatted_addition), -1)\n"
   ]
  },
  {
   "cell_type": "code",
   "execution_count": 12,
   "id": "b4fea55e",
   "metadata": {},
   "outputs": [],
   "source": [
    "# Define your training data\n",
    "# train_X = X[:-val_size]\n",
    "# train_y = y[:-val_size]\n",
    "train_X = X\n",
    "train_y = y\n",
    "\n",
    "# Define your testing (validation) data\n",
    "# test_X = X[-val_size:]\n",
    "# test_y = y[-val_size:]\n",
    "test_X = X_test\n",
    "test_y = y_test"
   ]
  },
  {
   "cell_type": "markdown",
   "id": "e659bd4d",
   "metadata": {},
   "source": [
    "# Parallel Split Learning"
   ]
  },
  {
   "cell_type": "markdown",
   "id": "0ee6ae28",
   "metadata": {},
   "source": [
    "## Establish the virtual workers, their data, their NNs, and their optimizers"
   ]
  },
  {
   "cell_type": "code",
   "execution_count": 13,
   "id": "26c57f58",
   "metadata": {},
   "outputs": [],
   "source": [
    "# Start the hook\n",
    "hook = sy.TorchHook(torch)\n",
    "\n",
    "# Create your virtual workers and our server\n",
    "worker1 = sy.VirtualWorker(hook, id=\"worker1\")\n",
    "worker2 = sy.VirtualWorker(hook, id=\"worker2\")\n",
    "worker3 = sy.VirtualWorker(hook, id=\"worker3\")\n",
    "server = sy.VirtualWorker(hook, id=\"server\")\n",
    "\n",
    "# Put the WORKERS into a list for easier access later on\n",
    "compute_nodes = [worker1, worker2, worker3]"
   ]
  },
  {
   "cell_type": "code",
   "execution_count": 14,
   "id": "8d9deba1",
   "metadata": {},
   "outputs": [],
   "source": [
    "# Split the training data for each worker\n",
    "# General method is:\n",
    "# train_X_workerN = train_X[int((N-1) * len(train_X)/len(compute_nodes)):int(N * len(train_X)/len(compute_nodes))].view(-1, 1, IMG_SIZE, IMG_SIZE)\n",
    "train_X_worker1 = train_X[:int(len(train_X)/len(compute_nodes))].view(-1, 1, IMG_SIZE, IMG_SIZE)\n",
    "train_X_worker2 = train_X[int(len(train_X)/len(compute_nodes)):int(2 * len(train_X)/len(compute_nodes))].view(-1, 1, IMG_SIZE, IMG_SIZE)\n",
    "train_X_worker3 = train_X[int(2 * len(train_X)/len(compute_nodes)):int(3 * len(train_X)/len(compute_nodes))].view(-1, 1, IMG_SIZE, IMG_SIZE)\n",
    "\n",
    "train_y_worker1 = train_y[:int(len(train_X)/len(compute_nodes))]\n",
    "train_y_worker2 = train_y[int(len(train_X)/len(compute_nodes)):int(2 * len(train_X)/len(compute_nodes))]\n",
    "train_y_worker3 = train_y[int(2 * len(train_X)/len(compute_nodes)):int(3 * len(train_X)/len(compute_nodes))]"
   ]
  },
  {
   "cell_type": "code",
   "execution_count": 15,
   "id": "0044d603",
   "metadata": {},
   "outputs": [
    {
     "data": {
      "text/plain": [
       "<VirtualWorker id:server #objects:0>"
      ]
     },
     "execution_count": 15,
     "metadata": {},
     "output_type": "execute_result"
    }
   ],
   "source": [
    "# Clear the workers of any objects, just in case you forgot some were still there from a previous run\n",
    "worker1.clear_objects()\n",
    "worker2.clear_objects()\n",
    "worker3.clear_objects()\n",
    "server.clear_objects()"
   ]
  },
  {
   "cell_type": "code",
   "execution_count": 16,
   "id": "ff567ae0",
   "metadata": {},
   "outputs": [],
   "source": [
    "# # Establish the NN model for each worker. This is model-centric FL, so it is the same model for all workers\n",
    "worker1_model = model_client.copy()\n",
    "worker2_model = model_client.copy()\n",
    "worker3_model = model_client.copy()\n",
    "server_model = model_server.copy()\n",
    "\n",
    "# Establish the optimizer for each worker\n",
    "worker1_optimizer = optim.SGD(worker1_model.parameters(), lr=LR)\n",
    "worker2_optimizer = optim.SGD(worker2_model.parameters(), lr=LR)\n",
    "worker3_optimizer = optim.SGD(worker3_model.parameters(), lr=LR)\n",
    "server_optimizer = optim.SGD(server_model.parameters(), lr=LR)"
   ]
  },
  {
   "cell_type": "code",
   "execution_count": 17,
   "id": "30d59256",
   "metadata": {},
   "outputs": [],
   "source": [
    "# Organize the WORKER models and optimizers into lists. The server stuff must not be mixed with these\n",
    "models = [worker1_model, worker2_model, worker3_model]\n",
    "optimizers = [worker1_optimizer, worker2_optimizer, worker3_optimizer]\n",
    "\n",
    "worker_collection = [(worker1, worker1_model, worker1_optimizer), (worker2, worker2_model, worker2_optimizer), \n",
    "                    (worker3, worker3_model, worker3_optimizer)]"
   ]
  },
  {
   "cell_type": "markdown",
   "id": "359279ca",
   "metadata": {},
   "source": [
    "## Training Sequence"
   ]
  },
  {
   "cell_type": "code",
   "execution_count": 18,
   "id": "87642366",
   "metadata": {},
   "outputs": [],
   "source": [
    "def train():\n",
    "    total_batch_times = []\n",
    "    total_train_time = 0\n",
    "    batch_count = 0\n",
    "    for i in tqdm(range(0, int(len(train_X)/len(compute_nodes)), BATCH_SIZE)):\n",
    "        start_time = time.time()\n",
    "        # Get our models and optimizers from the global list\n",
    "        batch_send_time = time.time()\n",
    "        model_client1 = worker1_model\n",
    "        opt_client1 = worker1_optimizer\n",
    "        model_client2 = worker2_model\n",
    "        opt_client2 = worker2_optimizer\n",
    "        model_client3 = worker3_model\n",
    "        opt_client3 = worker3_optimizer\n",
    "        model_server = server_model\n",
    "        opt_server = server_optimizer\n",
    "        \n",
    "        # Send the models to their respective workers\n",
    "        model_client1.send(worker1)\n",
    "        model_client2.send(worker2)\n",
    "        model_client3.send(worker3)\n",
    "        model_server.send(server)\n",
    "        \n",
    "        # Obtain the data for each worker\n",
    "        batch_X_1 = train_X_worker1[i : i + BATCH_SIZE]\n",
    "        batch_X_2 = train_X_worker2[i : i + BATCH_SIZE]\n",
    "        batch_X_3 = train_X_worker3[i : i + BATCH_SIZE]\n",
    "        \n",
    "        # Send the batches to their respective workers\n",
    "        batch_X_1 = batch_X_1.send(worker1)\n",
    "        batch_X_2 = batch_X_2.send(worker2)\n",
    "        batch_X_3 = batch_X_3.send(worker3)\n",
    "        \n",
    "        # Obtain the data for each worker\n",
    "        batch_y_1 = train_y_worker1[i : i + BATCH_SIZE]\n",
    "        batch_y_2 = train_y_worker2[i : i + BATCH_SIZE]\n",
    "        batch_y_3 = train_y_worker3[i : i + BATCH_SIZE]\n",
    "        \n",
    "        # Send the batches to their respective workers\n",
    "        batch_y_1 = batch_y_1.send(server)\n",
    "        batch_y_2 = batch_y_2.send(server)\n",
    "        batch_y_3 = batch_y_3.send(server)\n",
    "#         print(\"Time to get and send batches: \", time.time() - batch_send_time)\n",
    "    \n",
    "        # Zero the sequence for all models on both workers and server!\n",
    "        opt_client1.zero_grad()\n",
    "        opt_client2.zero_grad()\n",
    "        opt_client3.zero_grad()\n",
    "        opt_server.zero_grad()\n",
    "        \n",
    "        # Start FP on the workers\n",
    "        client_FP_start_time = time.time()\n",
    "        interm1 = model_client1(batch_X_1)\n",
    "        interm2 = model_client2(batch_X_2)\n",
    "        interm3 = model_client3(batch_X_3)\n",
    "        client_FP_end_time = (time.time() - client_FP_start_time) / (len(compute_nodes)-1)\n",
    "        \n",
    "        # Send the FP to the server\n",
    "        remote_interm1 = interm1.detach().move(server).requires_grad_()\n",
    "        remote_interm2 = interm2.detach().move(server).requires_grad_()\n",
    "        remote_interm3 = interm3.detach().move(server).requires_grad_()\n",
    "#         print(\"client_FP_time = \", client_FP_end_time, \" s\")\n",
    "        \n",
    "        # Complete FPs, sequentially, on the server\n",
    "        server_FP_start_time = time.time()\n",
    "        pred1 = model_server(remote_interm1)\n",
    "        pred2 = model_server(remote_interm2)\n",
    "        pred3 = model_server(remote_interm3)\n",
    "        server_FP_end_time = time.time() - server_FP_start_time\n",
    "        \n",
    "        # Calculate loss on server for each client\n",
    "        server_BP_start_time = time.time()\n",
    "        loss1 = loss_function(pred1, batch_y_1)\n",
    "        loss2 = loss_function(pred2, batch_y_2)\n",
    "        loss3 = loss_function(pred3, batch_y_3)\n",
    "        # Do the BPs, sequentially, on server side of NN for each client's loss\n",
    "        loss1.backward()\n",
    "        opt_server.step()\n",
    "        loss2.backward()\n",
    "        opt_server.step()\n",
    "        loss3.backward()\n",
    "        opt_server.step()\n",
    "        server_BP_end_time = time.time() - server_BP_start_time\n",
    "#         print(\"server_BP_time = \", server_end_time, \" s\")\n",
    "        \n",
    "        # Send the gradients back to the clients\n",
    "        interm1.move(worker1)\n",
    "        interm2.move(worker2)\n",
    "        interm3.move(worker3)\n",
    "        \n",
    "        # Get their gradients as well\n",
    "        grad_interm1 = remote_interm1.grad.copy().move(worker1)\n",
    "        grad_interm2 = remote_interm2.grad.copy().move(worker2)\n",
    "        grad_interm3 = remote_interm3.grad.copy().move(worker3)\n",
    "        \n",
    "        # Finish the BPs on the clients as well\n",
    "        client_BP_start_time = time.time()\n",
    "        interm1.backward(grad_interm1)\n",
    "        interm2.backward(grad_interm2)\n",
    "        interm3.backward(grad_interm3)\n",
    "        opt_client1.step()\n",
    "        opt_client2.step()\n",
    "        opt_client3.step()\n",
    "        client_BP_end_time = (time.time() - client_BP_start_time) / (len(compute_nodes)-1)\n",
    "#         print(\"client_BP_end_time = \", client_BP_end_time, \" s\")\n",
    "        \n",
    "        # Total batch time\n",
    "        total_batch_time = client_FP_end_time + server_FP_end_time + server_BP_end_time + client_BP_end_time\n",
    "#         print(\"Total batch time = \", round(total_batch_time, 4), \" s\")\n",
    "        total_batch_times.append(total_batch_time)\n",
    "        total_train_time += total_batch_time\n",
    "        \n",
    "        # Get back all models\n",
    "        model_client1.get()\n",
    "        model_client2.get()\n",
    "        model_client3.get()\n",
    "        model_server.get()\n",
    "#         print(\"Time to get models: \", time.time() - model_get_time)\n",
    "        \n",
    "        # Remove all objects from workers and servers before next batch comes\n",
    "        worker1.clear_objects()\n",
    "        worker2.clear_objects()\n",
    "        worker3.clear_objects()\n",
    "        server.clear_objects()\n",
    "        \n",
    "#         batch_count += 1\n",
    "#         if batch_count >= 25:\n",
    "#             break\n",
    "        \n",
    "        # Update the timers\n",
    "#         total_train_time += client_FP_end_time + server_end_time + client_BP_end_time\n",
    "#         total_train_time += time.time() - start_time\n",
    "#         print(\"total_train_time so far: \", total_train_time, \" s\")\n",
    "        \n",
    "    # OUTSIDE For loop!  \n",
    "    # Obtain the averaged model for the clients\n",
    "    avg_model_clients = utils.federated_avg({\n",
    "            \"worker1\": model_client1,\n",
    "            \"worker2\": model_client2,\n",
    "            \"worker3\": model_client3\n",
    "        })\n",
    "    print(\"Total training time for this epoch = \", total_train_time, \" s \\n \\n\")\n",
    "    # Return the new models\n",
    "    return avg_model_clients, model_server, total_batch_times, total_train_time"
   ]
  },
  {
   "cell_type": "markdown",
   "id": "7c0a16f1",
   "metadata": {},
   "source": [
    "## Function used for testing"
   ]
  },
  {
   "cell_type": "code",
   "execution_count": 19,
   "id": "746dfb74",
   "metadata": {},
   "outputs": [],
   "source": [
    "def test(new_client_model, new_server_model):\n",
    "    \n",
    "    # Calculate the accuracy\n",
    "    correct = 0\n",
    "    total = 0\n",
    "\n",
    "    # Do not update your gradients while testing\n",
    "    with torch.no_grad():\n",
    "        print(\"Initiated model testing:\")\n",
    "        for i in tqdm(range(len(test_X))):\n",
    "            \n",
    "            # Put the model into evaluation mode so it does not update its gradients during this test\n",
    "            new_client_model.eval()\n",
    "            new_server_model.eval()\n",
    "\n",
    "            # Obtain the real class for the sample\n",
    "            real_class = torch.argmax(test_y[i])\n",
    "\n",
    "            # Obtain our prediction for said sample (not arg_maxed yet)\n",
    "            output = new_server_model(new_client_model(test_X[i].view(-1, 1, IMG_SIZE, IMG_SIZE)))[0]\n",
    "            \n",
    "            # Obtain our arg_maxed prediction for said sample\n",
    "            predicted_class = torch.argmax(output)\n",
    "\n",
    "            # Update counters\n",
    "            if predicted_class == real_class:\n",
    "                correct += 1\n",
    "            total += 1\n",
    "\n",
    "    print(\"Accuracy of the new model = \", round(correct/total, 3), \"\\n \\n\")"
   ]
  },
  {
   "cell_type": "markdown",
   "id": "8f80b36e",
   "metadata": {},
   "source": [
    "## Reset function"
   ]
  },
  {
   "cell_type": "code",
   "execution_count": 20,
   "id": "6234f235",
   "metadata": {},
   "outputs": [],
   "source": [
    "def update_models(new_client_model, new_server_model):\n",
    "    # Clear the workers of any objects, just in case you forgot some were still there from a previous run\n",
    "    worker1.clear_objects()\n",
    "    worker2.clear_objects()\n",
    "    worker3.clear_objects()\n",
    "    server.clear_objects()\n",
    "    \n",
    "    # Establish the NN model for each worker. This is model-centric FL, so it is the same model for all workers\n",
    "    global worker1_model\n",
    "    worker1_model = new_client_model.copy()\n",
    "    global worker2_model\n",
    "    worker2_model = new_client_model.copy()\n",
    "    global worker3_model\n",
    "    worker3_model = new_client_model.copy()\n",
    "    global server_model\n",
    "    server_model = new_server_model.copy()\n",
    "\n",
    "    # Establish the optimizer for each worker\n",
    "    global worker1_optimizer\n",
    "    worker1_optimizer = optim.SGD(worker1_model.parameters(), lr=LR)\n",
    "    global worker2_optimizer\n",
    "    worker2_optimizer = optim.SGD(worker2_model.parameters(), lr=LR)\n",
    "    global worker3_optimizer\n",
    "    worker3_optimizer = optim.SGD(worker3_model.parameters(), lr=LR)\n",
    "    global server_optimizer\n",
    "    server_optimizer = optim.SGD(server_model.parameters(), lr=LR)\n",
    "    \n",
    "    # Organize the WO\"RKER models and optimizers into lists. The server stuff must not be mixed with these\n",
    "    global models\n",
    "    models = [worker1_model, worker2_model, worker3_model]\n",
    "    global optimizers\n",
    "    optimizers = [worker1_optimizer, worker2_optimizer, worker3_optimizer]\n",
    "    global worker_collection\n",
    "    worker_collection = [(worker1, worker1_model, worker1_optimizer), (worker2, worker2_model, worker2_optimizer), \n",
    "                        (worker3, worker3_model, worker3_optimizer)]"
   ]
  },
  {
   "cell_type": "markdown",
   "id": "1312e813",
   "metadata": {},
   "source": [
    "# RUN THE MODEL"
   ]
  },
  {
   "cell_type": "code",
   "execution_count": 21,
   "id": "02e59d52",
   "metadata": {
    "scrolled": false
   },
   "outputs": [
    {
     "name": "stdout",
     "output_type": "stream",
     "text": [
      "Epoch Number 1\n"
     ]
    },
    {
     "name": "stderr",
     "output_type": "stream",
     "text": [
      "100%|██████████| 100/100 [11:08<00:00,  6.68s/it]\n"
     ]
    },
    {
     "name": "stdout",
     "output_type": "stream",
     "text": [
      "Total training time for this epoch =  27.21135103702545  s \n",
      " \n",
      "\n",
      "Initiated model testing:\n"
     ]
    },
    {
     "name": "stderr",
     "output_type": "stream",
     "text": [
      "100%|██████████| 5000/5000 [00:11<00:00, 432.34it/s]\n"
     ]
    },
    {
     "name": "stdout",
     "output_type": "stream",
     "text": [
      "Accuracy of the new model =  0.899 \n",
      " \n",
      "\n",
      "Epoch Number 2\n"
     ]
    },
    {
     "name": "stderr",
     "output_type": "stream",
     "text": [
      "100%|██████████| 100/100 [08:48<00:00,  5.29s/it]\n"
     ]
    },
    {
     "name": "stdout",
     "output_type": "stream",
     "text": [
      "Total training time for this epoch =  19.53579092025757  s \n",
      " \n",
      "\n",
      "Initiated model testing:\n"
     ]
    },
    {
     "name": "stderr",
     "output_type": "stream",
     "text": [
      "100%|██████████| 5000/5000 [00:11<00:00, 432.78it/s]\n"
     ]
    },
    {
     "name": "stdout",
     "output_type": "stream",
     "text": [
      "Accuracy of the new model =  0.899 \n",
      " \n",
      "\n",
      "Epoch Number 3\n"
     ]
    },
    {
     "name": "stderr",
     "output_type": "stream",
     "text": [
      "100%|██████████| 100/100 [08:50<00:00,  5.30s/it]\n"
     ]
    },
    {
     "name": "stdout",
     "output_type": "stream",
     "text": [
      "Total training time for this epoch =  19.5946182012558  s \n",
      " \n",
      "\n",
      "Initiated model testing:\n"
     ]
    },
    {
     "name": "stderr",
     "output_type": "stream",
     "text": [
      "100%|██████████| 5000/5000 [00:11<00:00, 429.01it/s]\n"
     ]
    },
    {
     "name": "stdout",
     "output_type": "stream",
     "text": [
      "Accuracy of the new model =  0.899 \n",
      " \n",
      "\n",
      "Epoch Number 4\n"
     ]
    },
    {
     "name": "stderr",
     "output_type": "stream",
     "text": [
      "100%|██████████| 100/100 [08:48<00:00,  5.29s/it]\n"
     ]
    },
    {
     "name": "stdout",
     "output_type": "stream",
     "text": [
      "Total training time for this epoch =  19.632052898406982  s \n",
      " \n",
      "\n",
      "Initiated model testing:\n"
     ]
    },
    {
     "name": "stderr",
     "output_type": "stream",
     "text": [
      "100%|██████████| 5000/5000 [00:11<00:00, 432.52it/s]\n"
     ]
    },
    {
     "name": "stdout",
     "output_type": "stream",
     "text": [
      "Accuracy of the new model =  0.899 \n",
      " \n",
      "\n",
      "Epoch Number 5\n"
     ]
    },
    {
     "name": "stderr",
     "output_type": "stream",
     "text": [
      "100%|██████████| 100/100 [10:08<00:00,  6.09s/it]\n"
     ]
    },
    {
     "name": "stdout",
     "output_type": "stream",
     "text": [
      "Total training time for this epoch =  24.42766284942627  s \n",
      " \n",
      "\n",
      "Initiated model testing:\n"
     ]
    },
    {
     "name": "stderr",
     "output_type": "stream",
     "text": [
      "100%|██████████| 5000/5000 [00:11<00:00, 448.08it/s]\n"
     ]
    },
    {
     "name": "stdout",
     "output_type": "stream",
     "text": [
      "Accuracy of the new model =  0.899 \n",
      " \n",
      "\n"
     ]
    }
   ],
   "source": [
    "# Define your number of epochs\n",
    "epochs = 5\n",
    "epoch_times = []\n",
    "\n",
    "# Train all workers for the set number of epochs\n",
    "for epoch in range(epochs):\n",
    "    \n",
    "    # Start counting the time for this epoch\n",
    "#     start_time = time.time()\n",
    "    print(f\"Epoch Number {epoch + 1}\")\n",
    "    \n",
    "#     # Send the client models to each of the workers\n",
    "#     for worker, model, optimizer in worker_collection:\n",
    "#         model.send(worker)\n",
    "#     # Send the big part of the NN to the server\n",
    "#     server_model.send(server)\n",
    "    \n",
    "    # Train the individual models, and then obtain the federated averaged model\n",
    "#     train_start_time = time.time()\n",
    "    new_client_model, new_server_model, batch_times, epoch_time = train()\n",
    "#     train_total_time = time.time() - train_start_time\n",
    "#     print(\"Total TRAIN time for epoch \", epoch, \" = \", \n",
    "#           round((train_total_time*0.5)/60, 2), \" min\")\n",
    "    # Get the full model back to my side\n",
    "#     if epoch == 0:\n",
    "#         new_worker_model.get()\n",
    "#         new_server_model.get()\n",
    "    \n",
    "    # Save the epoch time\n",
    "    epoch_times.append(epoch_time)\n",
    "    \n",
    "    # Stop counting the time\n",
    "#     total_time = time.time() - start_time\n",
    "#     print('Time for this epoch', round(total_time/60, 2), ' min')\n",
    "    \n",
    "    # Test your new model to keep a log of how good we're doing per epoch \n",
    "    test(new_client_model, new_server_model)\n",
    "    \n",
    "    # Update all models before the next epoch\n",
    "    update_models(new_client_model, new_server_model)\n",
    "    \n",
    "    # Save the batch times\n",
    "    df_batch = pd.DataFrame(batch_times)\n",
    "    df_batch.to_csv(\"./Batch_times/MINI_MNIST_PSL_epoch_\" + str(epoch) + \".csv\")\n",
    "\n",
    "# Save the epoch times\n",
    "df_epoch = pd.DataFrame(epoch_times)\n",
    "df_epoch.to_csv(\"./Epoch_times/MINI_MNIST_PSL.csv\")\n",
    "\n",
    "# Clean the global namespace after run is done\n",
    "%reset -f"
   ]
  },
  {
   "cell_type": "code",
   "execution_count": null,
   "id": "728b0dde",
   "metadata": {},
   "outputs": [],
   "source": []
  }
 ],
 "metadata": {
  "kernelspec": {
   "display_name": "Python 3",
   "language": "python",
   "name": "python3"
  },
  "language_info": {
   "codemirror_mode": {
    "name": "ipython",
    "version": 3
   },
   "file_extension": ".py",
   "mimetype": "text/x-python",
   "name": "python",
   "nbconvert_exporter": "python",
   "pygments_lexer": "ipython3",
   "version": "3.7.10"
  }
 },
 "nbformat": 4,
 "nbformat_minor": 5
}
