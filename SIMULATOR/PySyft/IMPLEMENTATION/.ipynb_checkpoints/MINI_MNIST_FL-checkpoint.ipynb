{
 "cells": [
  {
   "cell_type": "markdown",
   "id": "424432ce",
   "metadata": {},
   "source": [
    "# Import necessary libraries"
   ]
  },
  {
   "cell_type": "code",
   "execution_count": 1,
   "id": "182a9509",
   "metadata": {},
   "outputs": [],
   "source": [
    "# General\n",
    "import os\n",
    "import cv2\n",
    "import numpy as np\n",
    "from tqdm import tqdm\n",
    "import matplotlib.pyplot as plt\n",
    "import pickle\n",
    "import time\n",
    "import copy\n",
    "import pandas as pd\n",
    "\n",
    "\n",
    "# Pytorch\n",
    "import torch\n",
    "import torch.nn as nn\n",
    "import torch.nn.functional as F\n",
    "import torch.optim as optim\n",
    "from torch.utils.data import TensorDataset, DataLoader\n",
    "from torchvision import datasets, transforms\n",
    "\n",
    "\n",
    "# PySyft\n",
    "import syft as sy\n",
    "from syft.frameworks.torch.fl import utils\n",
    "from syft.workers.websocket_client import WebsocketClientWorker"
   ]
  },
  {
   "cell_type": "markdown",
   "id": "40853918",
   "metadata": {},
   "source": [
    "# Pre-processing the Data"
   ]
  },
  {
   "cell_type": "code",
   "execution_count": 2,
   "id": "38ba25b5",
   "metadata": {},
   "outputs": [],
   "source": [
    "# Set the image size Y where Y represents YxY \n",
    "IMG_SIZE = 50\n",
    "BATCH_SIZE = 100\n",
    "LR = 0.001"
   ]
  },
  {
   "cell_type": "code",
   "execution_count": 3,
   "id": "b3692937",
   "metadata": {},
   "outputs": [],
   "source": [
    "train = datasets.MNIST(r\"/media/wilfredo/Willie931GB/EURECOM_SLU_Linux/II_SEMESTER/SLU/PAPER_KDD2022/EXPERIMENTS/PySyft/Datasets/MNIST\", \n",
    "                      train = True, download = True, \n",
    "                      transform = transforms.Compose([transforms.Resize(IMG_SIZE),\n",
    "                                                      transforms.ToTensor()]))\n",
    "\n",
    "test = datasets.MNIST(r\"/media/wilfredo/Willie931GB/EURECOM_SLU_Linux/II_SEMESTER/SLU/PAPER_KDD2022/EXPERIMENTS/PySyft/Datasets/MNIST\", \n",
    "                      train = False, download = True, \n",
    "                      transform = transforms.Compose([transforms.Resize(IMG_SIZE),\n",
    "                                                      transforms.ToTensor()]))"
   ]
  },
  {
   "cell_type": "code",
   "execution_count": 4,
   "id": "179f82d7",
   "metadata": {},
   "outputs": [],
   "source": [
    "# Load the data from the file it was saved in. Take the ENTIRE dataset!\n",
    "training_data = torch.utils.data.DataLoader(train, batch_size = int(len(train)/2), shuffle = True)\n",
    "test_data = torch.utils.data.DataLoader(test, batch_size = int(len(test)/2), shuffle = True)"
   ]
  },
  {
   "cell_type": "markdown",
   "id": "2ae81a78",
   "metadata": {},
   "source": [
    "# Define your custom CNN\n",
    "Ours is baed on VGG-11. Source: Page 3/14, Table 1, Configuration A, https://arxiv.org/pdf/1409.1556.pdf"
   ]
  },
  {
   "cell_type": "markdown",
   "id": "03675237",
   "metadata": {},
   "source": [
    "## NN Mini"
   ]
  },
  {
   "cell_type": "code",
   "execution_count": 5,
   "id": "07c386d2",
   "metadata": {},
   "outputs": [],
   "source": [
    "class Net(nn.Module):\n",
    "    def __init__(self):\n",
    "        super().__init__()\n",
    "        IMG_SIZE = 50\n",
    "        # Define your first convolutional layer: input = 1, output = 32 convolutional features, kernel size = 5\n",
    "        # Remember that kernel = 5 means that the \"window\" used to scan for features will be 5x5\n",
    "        self.conv1 = nn.Conv2d(1, 16, 5)\n",
    "        self.conv2 = nn.Conv2d(16, 32, 5)\n",
    "        self.conv3 = nn.Conv2d(32, 64, 5)\n",
    "#         self.conv4 = nn.Conv2d(128, 256, 3)\n",
    "        \n",
    "        \n",
    "        # Now we need to get the output of the convolution processed to get it into a fully connected layer\n",
    "        # To know what dimensions to use for our fully connected layers, the only known way in PyTorch is to \n",
    "        # pass some data through the convolutional layers, and then examine their output. Then we manually \n",
    "        # input the dimensions of this output into the next fully connected layer and voila.\n",
    "        \n",
    "        # Create random dummy data, run the convolution layers, check the size of the output of conv3, and then \n",
    "        # give that dimension info to the fully connected layers. This will only be done ONCE\n",
    "        x = torch.randn(IMG_SIZE,IMG_SIZE).view(-1, 1, IMG_SIZE, IMG_SIZE)\n",
    "        self._to_linear = None\n",
    "        self.convs(x)\n",
    "        \n",
    "        # Run the fully connected layers\n",
    "#         self.fc1 = nn.Linear(self._to_linear, 512)\n",
    "#         self.fc2 = nn.Linear(512, 2)\n",
    "        self.fc1 = nn.Linear(self._to_linear, 32)\n",
    "        self.fc2 = nn.Linear(32, 2)\n",
    "#         self.fc3 = nn.Linear(256, 2)\n",
    "\n",
    "    # Function defining only one part of the forward pass (the convolution layers only). This will also write\n",
    "    # the output dimensions of the conv layers to self._to_linear ONCE, and this information will then be used \n",
    "    # as the input data flattened dimensions of the next fully connected layers \n",
    "    def convs(self, x):\n",
    "        # Convolutional layer 1 + activation + max_pooling\n",
    "        x = self.conv1(x)\n",
    "        x = F.relu(x)\n",
    "        x = F.max_pool2d(x, (2, 2))\n",
    "        x = self.conv2(x)\n",
    "        x = F.relu(x)\n",
    "        x = F.max_pool2d(x, (2, 2))\n",
    "        x = self.conv3(x)\n",
    "        x = F.relu(x)\n",
    "        x = F.max_pool2d(x, (2, 2))\n",
    "#         x = self.conv4(x)\n",
    "#         x = F.relu(x)\n",
    "#         x = F.max_pool2d(x, (2, 2))\n",
    "#         x = F.max_pool2d(F.relu(self.conv1(x)), (2, 2))\n",
    "#         x = F.max_pool2d(F.relu(self.conv2(x)), (2, 2))\n",
    "#         x = F.max_pool2d(F.relu(self.conv3(x)), (2, 2))\n",
    "        \n",
    "#         print(\"x[0].shape = \", x[0].shape)\n",
    "        if self._to_linear is None:\n",
    "            self._to_linear = x[0].shape[0] * x[0].shape[1] * x[0].shape[2]\n",
    "        return x\n",
    "    \n",
    "    # Function defining the rest of the forward pass\n",
    "    def forward(self, x):\n",
    "        # Run the convs layers first\n",
    "        x = self.convs(x)\n",
    "        # Reshape the output data from the convs to be flattened\n",
    "        x = x.view(-1, self._to_linear)\n",
    "        # Pass the data through the fully connected layers now\n",
    "        x = F.relu(self.fc1(x))\n",
    "#         x = F.relu(self.fc2(x))\n",
    "        # Pass it through the final layer\n",
    "        x = self.fc2(x)\n",
    "        # One final softmax function to make the output vector look nicer\n",
    "        x = F.softmax(x, dim = 1)\n",
    "        return x\n",
    "\n",
    "net = Net()"
   ]
  },
  {
   "cell_type": "code",
   "execution_count": 6,
   "id": "5d39687c",
   "metadata": {},
   "outputs": [
    {
     "data": {
      "text/plain": [
       "Net(\n",
       "  (conv1): Conv2d(1, 16, kernel_size=(5, 5), stride=(1, 1))\n",
       "  (conv2): Conv2d(16, 32, kernel_size=(5, 5), stride=(1, 1))\n",
       "  (conv3): Conv2d(32, 64, kernel_size=(5, 5), stride=(1, 1))\n",
       "  (fc1): Linear(in_features=256, out_features=32, bias=True)\n",
       "  (fc2): Linear(in_features=32, out_features=2, bias=True)\n",
       ")"
      ]
     },
     "execution_count": 6,
     "metadata": {},
     "output_type": "execute_result"
    }
   ],
   "source": [
    "# Take a look at our model\n",
    "model = net\n",
    "model"
   ]
  },
  {
   "cell_type": "markdown",
   "id": "ddceaaf5",
   "metadata": {},
   "source": [
    "# Establish your loss function"
   ]
  },
  {
   "cell_type": "code",
   "execution_count": 7,
   "id": "5380c061",
   "metadata": {},
   "outputs": [],
   "source": [
    "# Set your loss function (MSE for images!)\n",
    "loss_function = nn.MSELoss()"
   ]
  },
  {
   "cell_type": "markdown",
   "id": "e53c3de6",
   "metadata": {},
   "source": [
    "# Separate your data into data, labels, training, testing, and scale it"
   ]
  },
  {
   "cell_type": "code",
   "execution_count": 8,
   "id": "e60f66a3",
   "metadata": {},
   "outputs": [],
   "source": [
    "# Take the data loaded onto training_data. You NEED to iterate over it to take it, even if you\n",
    "# want to take the entire thing. Make sure to convert the values to floats\n",
    "X = next(iter(training_data))[0]\n",
    "y_unformatted = next(iter(training_data))[1].type(torch.FloatTensor)\n",
    "X_test = next(iter(test_data))[0]\n",
    "y_test_unformatted = next(iter(test_data))[1].type(torch.FloatTensor)\n",
    "\n",
    "# The two other cases in this paper use 2 dimensional labels (0, 1), not only (0)\n",
    "# MNIST by default comes with labels in the format (9) instead of (9, 0). To change this:\n",
    "# Create tensors with all zeros of the same size\n",
    "y_unformatted_addition = torch.zeros(y_unformatted.size())\n",
    "y_test_unformatted_addition = torch.zeros(y_test_unformatted.size())\n",
    "# Then stack them together (0 for vertically, -1 for horizontally)\n",
    "y = torch.stack((y_unformatted, y_unformatted_addition), -1)\n",
    "y_test = torch.stack((y_test_unformatted, y_test_unformatted_addition), -1)\n"
   ]
  },
  {
   "cell_type": "code",
   "execution_count": 9,
   "id": "7b73622a",
   "metadata": {},
   "outputs": [],
   "source": [
    "# Define your training data\n",
    "# train_X = X[:-val_size]\n",
    "# train_y = y[:-val_size]\n",
    "train_X = X\n",
    "train_y = y\n",
    "\n",
    "# Define your testing (validation) data\n",
    "# test_X = X[-val_size:]\n",
    "# test_y = y[-val_size:]\n",
    "test_X = X_test\n",
    "test_y = y_test"
   ]
  },
  {
   "cell_type": "markdown",
   "id": "11701737",
   "metadata": {},
   "source": [
    "# Federated Learning"
   ]
  },
  {
   "cell_type": "markdown",
   "id": "b048499d",
   "metadata": {},
   "source": [
    "## Establish the virtual workers, their data, their NNs, and their optimizers"
   ]
  },
  {
   "cell_type": "code",
   "execution_count": 10,
   "id": "6f45762e",
   "metadata": {},
   "outputs": [],
   "source": [
    "# Start the hook\n",
    "hook = sy.TorchHook(torch)\n",
    "\n",
    "# Create your virtual workers\n",
    "worker1 = sy.VirtualWorker(hook, id=\"worker1\")\n",
    "worker2 = sy.VirtualWorker(hook, id=\"worker2\")\n",
    "worker3 = sy.VirtualWorker(hook, id=\"worker3\")\n",
    "\n",
    "compute_nodes = [worker1, worker2, worker3]"
   ]
  },
  {
   "cell_type": "code",
   "execution_count": 11,
   "id": "ac305d75",
   "metadata": {},
   "outputs": [],
   "source": [
    "train_X_worker1 = train_X[:int(len(train_X)/len(compute_nodes))].view(-1, 1, IMG_SIZE, IMG_SIZE)\n",
    "train_X_worker2 = train_X[int(len(train_X)/len(compute_nodes)):int(2 * len(train_X)/len(compute_nodes))].view(-1, 1, IMG_SIZE, IMG_SIZE)\n",
    "train_X_worker3 = train_X[int(2 * len(train_X)/len(compute_nodes)):int(3 * len(train_X)/len(compute_nodes))].view(-1, 1, IMG_SIZE, IMG_SIZE)\n",
    "\n",
    "train_y_worker1 = train_y[:int(len(train_X)/len(compute_nodes))]\n",
    "train_y_worker2 = train_y[int(len(train_X)/len(compute_nodes)):int(2 * len(train_X)/len(compute_nodes))]\n",
    "train_y_worker3 = train_y[int(2 * len(train_X)/len(compute_nodes)):int(3 * len(train_X)/len(compute_nodes))]"
   ]
  },
  {
   "cell_type": "code",
   "execution_count": 12,
   "id": "9722528f",
   "metadata": {},
   "outputs": [
    {
     "data": {
      "text/plain": [
       "<VirtualWorker id:worker3 #objects:0>"
      ]
     },
     "execution_count": 12,
     "metadata": {},
     "output_type": "execute_result"
    }
   ],
   "source": [
    "# Clear the workers of any objects, just in case you forgot some were still there from a previous run\n",
    "worker1.clear_objects()\n",
    "worker2.clear_objects()\n",
    "worker3.clear_objects()"
   ]
  },
  {
   "cell_type": "code",
   "execution_count": 13,
   "id": "f9f83b8e",
   "metadata": {},
   "outputs": [],
   "source": [
    "# # Establish the NN model for each worker. This is model-centric FL, so it is the same model for all workers\n",
    "worker1_model = model.copy()\n",
    "worker2_model = model.copy()\n",
    "worker3_model = model.copy()\n",
    "\n",
    "# # Establish the optimizer for each worker\n",
    "worker1_optimizer = optim.SGD(worker1_model.parameters(), lr=LR)\n",
    "worker2_optimizer = optim.SGD(worker2_model.parameters(), lr=LR)\n",
    "worker3_optimizer = optim.SGD(worker3_model.parameters(), lr=LR)"
   ]
  },
  {
   "cell_type": "code",
   "execution_count": 14,
   "id": "5ab65e2b",
   "metadata": {},
   "outputs": [],
   "source": [
    "# # Organize the models and optimizers into lists\n",
    "models = [worker1_model, worker2_model, worker3_model]\n",
    "optimizers = [worker1_optimizer, worker2_optimizer, worker3_optimizer]"
   ]
  },
  {
   "cell_type": "markdown",
   "id": "015271bb",
   "metadata": {},
   "source": [
    "## Functions used for Training"
   ]
  },
  {
   "cell_type": "code",
   "execution_count": 15,
   "id": "40ca9780",
   "metadata": {},
   "outputs": [],
   "source": [
    "def train():\n",
    "    batch_count = 0\n",
    "    total_epoch_time = 0\n",
    "    batch_times = []\n",
    "    for i in tqdm(range(0, int(len(train_X)/len(compute_nodes)), BATCH_SIZE)):\n",
    "        \n",
    "        # Send the models to the worker. This step is not necessary in real life, as this is only done once. \n",
    "        # However, because the .rm_obj() method is not working to remove the batches at the end of each loop,\n",
    "        # we are forced to remove ALL objects from each worker, including the models, so the batches don't\n",
    "        # constantly add up, consuming more memory each time!\n",
    "        worker1_model.send(worker1)\n",
    "        worker2_model.send(worker2)\n",
    "        worker3_model.send(worker3)\n",
    "        \n",
    "        # Get the batches for each of the workers\n",
    "        batch_X_1 = train_X_worker1[i : i + BATCH_SIZE]\n",
    "        batch_y_1 = train_y_worker1[i : i + BATCH_SIZE]\n",
    "        \n",
    "        batch_X_2 = train_X_worker2[i : i + BATCH_SIZE]\n",
    "        batch_y_2 = train_y_worker2[i : i + BATCH_SIZE]\n",
    "        \n",
    "        batch_X_3 = train_X_worker3[i : i + BATCH_SIZE]\n",
    "        batch_y_3 = train_y_worker3[i : i + BATCH_SIZE]\n",
    "#         print(\"Got the batches for all workers (not sent yet)\")\n",
    "        \n",
    "        # Send the data and labels to each of the workers. This does not have to be done in real life, but \n",
    "        # must be done in this simulation\n",
    "        batch_X_1 = batch_X_1.send(worker1)\n",
    "        batch_y_1 = batch_y_1.send(worker1)\n",
    "        \n",
    "        batch_X_2 = batch_X_2.send(worker2)\n",
    "        batch_y_2 = batch_y_2.send(worker2)\n",
    "        \n",
    "        batch_X_3 = batch_X_3.send(worker3)\n",
    "        batch_y_3 = batch_y_3.send(worker3)\n",
    "#         print(\"Sent the batches for all workers\")\n",
    "        \n",
    "        # Train the models\n",
    "        # The following in real life would be done in parallel\n",
    "        FP_start_time = time.time()\n",
    "        pred1 = worker1_model(batch_X_1)\n",
    "        pred2 = worker2_model(batch_X_2)\n",
    "        pred3 = worker3_model(batch_X_3)\n",
    "        FP_end_time = (time.time() - FP_start_time)/len(compute_nodes)\n",
    "#         print(\"FP time = \", round(FP_end_time, 4), \" s\")\n",
    "#         print(\"Trained the models for all workers\")\n",
    "        \n",
    "        # Calculate the loss functions\n",
    "        BP_start_time = time.time()\n",
    "        loss1 = loss_function(pred1, batch_y_1)\n",
    "        loss2 = loss_function(pred2, batch_y_2)\n",
    "        loss3 = loss_function(pred3, batch_y_3)\n",
    "#         print(\"Calculates the loss function for all workers\")\n",
    "        \n",
    "        # Do the backwards pass\n",
    "        loss1.backward()\n",
    "        loss2.backward()\n",
    "        loss3.backward()\n",
    "#         print(\"Did the backwards propagation on all workers\")\n",
    "        \n",
    "        # Update the weights\n",
    "        worker1_optimizer.step()\n",
    "        worker2_optimizer.step()\n",
    "        worker3_optimizer.step()\n",
    "        BP_end_time = (time.time() - BP_start_time)/len(compute_nodes)\n",
    "#         print(\"BP time = \", round(BP_end_time, 4), \" s\")\n",
    "        \n",
    "        total_batch_time = FP_end_time + BP_end_time\n",
    "        batch_times.append(total_batch_time)\n",
    "        total_epoch_time += total_batch_time\n",
    "#         print(\"Total time for this batch = \", round(total_batch_time, 4), \" s \\n \\n\")\n",
    "#         print(\"Updated all the weights for all workers\")\n",
    "            \n",
    "        # Save the total training time for this batch\n",
    "    \n",
    "        # Get the models back from the workers\n",
    "        worker1_model.get()\n",
    "        worker2_model.get()\n",
    "        worker3_model.get()\n",
    "        \n",
    "        # Clear all batches from worker before next batch comes\n",
    "        worker1.clear_objects()\n",
    "        worker2.clear_objects()\n",
    "        worker3.clear_objects()\n",
    "#         print(\"Successfully finished training of all workers for batch \", counter)\n",
    "#         batch_count += 1\n",
    "#         if batch_count == 25:\n",
    "#             break\n",
    "        \n",
    "    # OUTSIDE THE FOR LOOP: After all workers are done training...\n",
    "    # Calculate the federated average and save the new model in \"fed_avg\"\n",
    "    fed_start_time = time.time()\n",
    "    fed_avg = utils.federated_avg({\n",
    "        \"worker1\": worker1_model,\n",
    "        \"worker2\": worker2_model,\n",
    "        \"worker3\": worker3_model\n",
    "    })\n",
    "    fed_end_time = time.time() - fed_start_time\n",
    "    total_epoch_time += fed_end_time\n",
    "    print(\"TOTAL TIME FOR THIS EPOCH: \", round(total_epoch_time, 4), \" s\")\n",
    "    \n",
    "    # Return the new fed_avg\n",
    "#     print(\"Obtained the federated model!\")\n",
    "    return fed_avg, batch_times, total_epoch_time"
   ]
  },
  {
   "cell_type": "markdown",
   "id": "f9f239f5",
   "metadata": {},
   "source": [
    "## Function used for testing"
   ]
  },
  {
   "cell_type": "code",
   "execution_count": 16,
   "id": "3931b91e",
   "metadata": {},
   "outputs": [],
   "source": [
    "def test(federated_model):\n",
    "    \n",
    "    # Calculate the accuracy\n",
    "    correct = 0\n",
    "    total = 0\n",
    "\n",
    "    # Do not update your gradients while testing\n",
    "    with torch.no_grad():\n",
    "        print(\"Initiated federated model testing:\")\n",
    "        for i in tqdm(range(len(test_X))):\n",
    "            \n",
    "            # Put the model into evaluation mode so it does not update its gradients during this test\n",
    "            federated_model.eval()\n",
    "\n",
    "            # Obtain the real class for the sample\n",
    "            real_class = torch.argmax(test_y[i])\n",
    "\n",
    "            # Obtain our prediction for said sample (not arg_maxed yet)\n",
    "            output = federated_model(test_X[i].view(-1, 1, IMG_SIZE, IMG_SIZE))[0]\n",
    "\n",
    "            # Obtain our arg_maxed prediction for said sample\n",
    "            predicted_class = torch.argmax(output)\n",
    "\n",
    "            # Update counters\n",
    "            if predicted_class == real_class:\n",
    "                correct += 1\n",
    "            total += 1\n",
    "\n",
    "    print(\"Accuracy of the federated model = \", round(correct/total, 3), \"\\n \\n\")"
   ]
  },
  {
   "cell_type": "markdown",
   "id": "283822cf",
   "metadata": {},
   "source": [
    "# RUN THE MODEL"
   ]
  },
  {
   "cell_type": "code",
   "execution_count": 17,
   "id": "bab41a77",
   "metadata": {
    "scrolled": false
   },
   "outputs": [
    {
     "name": "stdout",
     "output_type": "stream",
     "text": [
      "Epoch Number 1\n"
     ]
    },
    {
     "name": "stderr",
     "output_type": "stream",
     "text": [
      "100%|██████████| 100/100 [09:32<00:00,  5.73s/it]\n"
     ]
    },
    {
     "name": "stdout",
     "output_type": "stream",
     "text": [
      "TOTAL TIME FOR THIS EPOCH:  14.0087  s\n",
      "Initiated federated model testing:\n"
     ]
    },
    {
     "name": "stderr",
     "output_type": "stream",
     "text": [
      "100%|██████████| 5000/5000 [00:11<00:00, 434.47it/s]\n"
     ]
    },
    {
     "name": "stdout",
     "output_type": "stream",
     "text": [
      "Accuracy of the federated model =  0.903 \n",
      " \n",
      "\n",
      "Epoch Number 2\n"
     ]
    },
    {
     "name": "stderr",
     "output_type": "stream",
     "text": [
      "100%|██████████| 100/100 [10:19<00:00,  6.19s/it]\n"
     ]
    },
    {
     "name": "stdout",
     "output_type": "stream",
     "text": [
      "TOTAL TIME FOR THIS EPOCH:  13.9639  s\n",
      "Initiated federated model testing:\n"
     ]
    },
    {
     "name": "stderr",
     "output_type": "stream",
     "text": [
      "100%|██████████| 5000/5000 [00:12<00:00, 393.18it/s]\n"
     ]
    },
    {
     "name": "stdout",
     "output_type": "stream",
     "text": [
      "Accuracy of the federated model =  0.903 \n",
      " \n",
      "\n",
      "Epoch Number 3\n"
     ]
    },
    {
     "name": "stderr",
     "output_type": "stream",
     "text": [
      "100%|██████████| 100/100 [10:03<00:00,  6.04s/it]\n"
     ]
    },
    {
     "name": "stdout",
     "output_type": "stream",
     "text": [
      "TOTAL TIME FOR THIS EPOCH:  13.1887  s\n",
      "Initiated federated model testing:\n"
     ]
    },
    {
     "name": "stderr",
     "output_type": "stream",
     "text": [
      "100%|██████████| 5000/5000 [00:13<00:00, 379.93it/s]\n"
     ]
    },
    {
     "name": "stdout",
     "output_type": "stream",
     "text": [
      "Accuracy of the federated model =  0.903 \n",
      " \n",
      "\n",
      "Epoch Number 4\n"
     ]
    },
    {
     "name": "stderr",
     "output_type": "stream",
     "text": [
      "100%|██████████| 100/100 [15:15<00:00,  9.16s/it]\n"
     ]
    },
    {
     "name": "stdout",
     "output_type": "stream",
     "text": [
      "TOTAL TIME FOR THIS EPOCH:  19.4379  s\n",
      "Initiated federated model testing:\n"
     ]
    },
    {
     "name": "stderr",
     "output_type": "stream",
     "text": [
      "100%|██████████| 5000/5000 [00:17<00:00, 283.99it/s]\n"
     ]
    },
    {
     "name": "stdout",
     "output_type": "stream",
     "text": [
      "Accuracy of the federated model =  0.903 \n",
      " \n",
      "\n",
      "Epoch Number 5\n"
     ]
    },
    {
     "name": "stderr",
     "output_type": "stream",
     "text": [
      "100%|██████████| 100/100 [11:38<00:00,  6.98s/it]\n"
     ]
    },
    {
     "name": "stdout",
     "output_type": "stream",
     "text": [
      "TOTAL TIME FOR THIS EPOCH:  15.091  s\n",
      "Initiated federated model testing:\n"
     ]
    },
    {
     "name": "stderr",
     "output_type": "stream",
     "text": [
      "100%|██████████| 5000/5000 [00:12<00:00, 414.65it/s]\n"
     ]
    },
    {
     "name": "stdout",
     "output_type": "stream",
     "text": [
      "Accuracy of the federated model =  0.903 \n",
      " \n",
      "\n"
     ]
    }
   ],
   "source": [
    "# Define your number of epochs\n",
    "epochs = 5\n",
    "epoch_times = []\n",
    "\n",
    "# Train all workers for the set number of epochs\n",
    "for epoch in range(epochs):\n",
    "    \n",
    "    # Start counting the time for this epoch\n",
    "    epoch_start_time = time.time()\n",
    "    print(f\"Epoch Number {epoch + 1}\")\n",
    "    \n",
    "    # Train the individual models, and then obtain the federated averaged model\n",
    "#     train_start_time = time.time()\n",
    "    federated_model, batch_times, epoch_time = train()\n",
    "#     train_total_time = time.time() - train_start_time\n",
    "#     print(\"Total TRAIN time for epoch \", epoch, \" = \", \n",
    "#           round(train_total_time/(len(compute_nodes) * 60), 2), \" min\")\n",
    "#     print(\"Finished training the federated model!\")\n",
    "    \n",
    "    # Save the epoch time\n",
    "    epoch_times.append(epoch_time)\n",
    "    \n",
    "    # The model to be send and then trained on all workers from now on is the new federated model\n",
    "#     for model in models:\n",
    "#         model = federated_model.copy()\n",
    "    global worker1_model\n",
    "    worker1_model = federated_model.copy()\n",
    "    global worker2_model\n",
    "    worker2_model = federated_model.copy()\n",
    "    global worker3_model\n",
    "    worker3_model = federated_model.copy()\n",
    "#     print(\"Replaced original models with the new federated model!\")\n",
    "    \n",
    "    # Stop counting the time\n",
    "#     epoch_total_time = time.time() - epoch_start_time\n",
    "#     print('Time for this epoch', round(epoch_total_time/60, 2), 'min')\n",
    "    \n",
    "    # Test your new model to keep a log of how good we're doing per epoch \n",
    "    test(federated_model)\n",
    "#     print(\"Successfully tested the federated model!\")\n",
    "    \n",
    "    # Save the batch times\n",
    "    df_batch = pd.DataFrame(batch_times)\n",
    "    df_batch.to_csv(\"./Batch_times/MINI_MNIST_FL_epoch_\" + str(epoch) + \".csv\")\n",
    "    \n",
    "\n",
    "# OUTSIDE THE FOR LOOP\n",
    "df_epoch = pd.DataFrame(epoch_times)\n",
    "df_epoch.to_csv(\"./Epoch_times/MINI_MNIST_FL.csv\")\n",
    "    \n",
    "# Clean the global namespace after run is done\n",
    "%reset -f"
   ]
  }
 ],
 "metadata": {
  "kernelspec": {
   "display_name": "Python 3",
   "language": "python",
   "name": "python3"
  },
  "language_info": {
   "codemirror_mode": {
    "name": "ipython",
    "version": 3
   },
   "file_extension": ".py",
   "mimetype": "text/x-python",
   "name": "python",
   "nbconvert_exporter": "python",
   "pygments_lexer": "ipython3",
   "version": "3.7.10"
  }
 },
 "nbformat": 4,
 "nbformat_minor": 5
}
