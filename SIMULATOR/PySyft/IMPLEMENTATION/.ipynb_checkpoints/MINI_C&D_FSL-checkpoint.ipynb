{
 "cells": [
  {
   "cell_type": "markdown",
   "id": "626b75f1",
   "metadata": {},
   "source": [
    "# Import necessary libraries"
   ]
  },
  {
   "cell_type": "code",
   "execution_count": 1,
   "id": "2744305b",
   "metadata": {},
   "outputs": [],
   "source": [
    "# General\n",
    "import os\n",
    "import cv2\n",
    "import numpy as np\n",
    "from tqdm import tqdm\n",
    "import matplotlib.pyplot as plt\n",
    "import pickle\n",
    "import time\n",
    "import copy\n",
    "import pandas as pd\n",
    "\n",
    "\n",
    "# Pytorch\n",
    "import torch\n",
    "import torch.nn as nn\n",
    "import torch.nn.functional as F\n",
    "import torch.optim as optim\n",
    "from torch.utils.data import TensorDataset, DataLoader\n",
    "\n",
    "\n",
    "# PySyft\n",
    "import syft as sy\n",
    "from syft.frameworks.torch.fl import utils\n",
    "from syft.workers.websocket_client import WebsocketClientWorker"
   ]
  },
  {
   "cell_type": "markdown",
   "id": "65052fe4",
   "metadata": {},
   "source": [
    "# Pre-processing the Data"
   ]
  },
  {
   "cell_type": "code",
   "execution_count": 3,
   "id": "02f0c2fb",
   "metadata": {},
   "outputs": [],
   "source": [
    "# Flag to only rebuild data once\n",
    "REBUILD_DATA = False"
   ]
  },
  {
   "cell_type": "code",
   "execution_count": 4,
   "id": "45d0b66d",
   "metadata": {},
   "outputs": [],
   "source": [
    "# Set the image size Y where Y represents YxY \n",
    "IMG_SIZE = 50\n",
    "BATCH_SIZE = 100\n",
    "LR = 0.001"
   ]
  },
  {
   "cell_type": "code",
   "execution_count": 5,
   "id": "8ee28c50",
   "metadata": {},
   "outputs": [],
   "source": [
    "# Create a pre-processing class\n",
    "class CatsVSDogs_Train():\n",
    "    \n",
    "    # Define the img_size we want for ALL of the images\n",
    "    \n",
    "#     source_folder = r\"/media/wilfredo/Willie931GB/SLU/EchoNet/EchoNet-Dynamic/TRAIN/Healthy_FRAMES/\"\n",
    "    # Define where your data is stored\n",
    "    CAT = r\"/media/wilfredo/Willie931GB/EURECOM_SLU_Linux/II_SEMESTER/SLU/PAPER_KDD2022/EXPERIMENTS/PySyft/Datasets/cats_and_dogs/PetImages/Cat/\"\n",
    "    DOG = r\"/media/wilfredo/Willie931GB/EURECOM_SLU_Linux/II_SEMESTER/SLU/PAPER_KDD2022/EXPERIMENTS/PySyft/Datasets/cats_and_dogs/PetImages/Dog/\"\n",
    "#     TESTING = \"./Datasets/cats_and_dogs/PetImages/Testing\"\n",
    "    \n",
    "    # Define what each type of image is (their labels for the NN)\n",
    "    LABELS = {CAT: 0, DOG: 1}\n",
    "    \n",
    "    # Define your image size\n",
    "    IMG_SIZE = 50\n",
    "    \n",
    "    # Define your training data\n",
    "    training_data = []\n",
    "    \n",
    "    # Define your counters to check for imbalance issues\n",
    "    cat_count = 0\n",
    "    dog_count = 0\n",
    "    \n",
    "    def make_training_data(self):\n",
    "        for label in self.LABELS:\n",
    "            # Iterare over the images in the directories\n",
    "            # tqdm is just here to show a progress bar\n",
    "            for f in tqdm(os.listdir(label)):\n",
    "                # We will TRY this piece of code. Some images might lead to errors, so instead of stoppin EVERY\n",
    "                # time we find an error, let's just ignore the image\n",
    "                try: \n",
    "                    # Define the image path\n",
    "                    path = os.path.join(label, f)\n",
    "\n",
    "                    # Select the image and convert it to grayscale, because color is not a defining feature \n",
    "                    # to know if something is a cat or a dog\n",
    "                    img = cv2.imread(path, cv2.IMREAD_GRAYSCALE)\n",
    "\n",
    "                    # Resize the image\n",
    "                    img = cv2.resize(img, (self.IMG_SIZE, self.IMG_SIZE))\n",
    "\n",
    "                    # Add the image AND its label to the training data\n",
    "                    self.training_data.append([np.array(img), np.eye(2)[self.LABELS[label]]])\n",
    "                    # The label here was added as a 1-hot vector. We create an identity matrix with \n",
    "                    # numpy (np.eye), of two classes (np.eye(2)), and the corresponding output that each label \n",
    "                    # should represent label = 0 should be \"cat\", so [1, 0], and \"dog\" should be [0, 1]\n",
    "\n",
    "                    # COunt which are cats and which are dogs\n",
    "                    if label == self.CAT:\n",
    "                        self.cat_count += 1\n",
    "                    elif label == self.DOG:\n",
    "                        self.dog_count += 1\n",
    "                \n",
    "                except Exception as e:\n",
    "                    pass\n",
    "#                     print(str(e))\n",
    "        \n",
    "        # Outside the for loop but still within the function\n",
    "        # Now we shuffle the data and save it to the local directory\n",
    "        np.random.shuffle(self.training_data)\n",
    "        np.save(r\"/media/wilfredo/Willie931GB/EURECOM_SLU_Linux/II_SEMESTER/SLU/PAPER_KDD2022/EXPERIMENTS/PySyft/Datasets/cats_and_dogs/Numpy_Datasets/training_data_size_50.npy\", \n",
    "                self.training_data)\n",
    "#         np.save(r\"/media/wilfredo/Willie931GB/SLU/EchoNet/EchoNet-Dynamic/Numpy_Datasets/training_data_size_50.npy\", self.training_data)\n",
    "        print(\"Cat = \", self.cat_count)\n",
    "        print(\"Dog = \", self.dog_count)"
   ]
  },
  {
   "cell_type": "code",
   "execution_count": 7,
   "id": "b74e56bb",
   "metadata": {},
   "outputs": [],
   "source": [
    "# Run the thing IF we want to rebuild the data, and check our distribution of data\n",
    "if REBUILD_DATA:\n",
    "    data_train = CatsVSDogs_Train()\n",
    "    data_train.make_training_data()"
   ]
  },
  {
   "cell_type": "code",
   "execution_count": 8,
   "id": "58f675f0",
   "metadata": {},
   "outputs": [],
   "source": [
    "# Load the data from the file it was saved in\n",
    "training_data = np.load(r\"/media/wilfredo/Willie931GB/EURECOM_SLU_Linux/II_SEMESTER/SLU/PAPER_KDD2022/EXPERIMENTS/PySyft/Datasets/cats_and_dogs/Numpy_Datasets/training_data_size_50.npy\",\n",
    "                        allow_pickle = True)\n",
    "# test_data = np.load(r\"/media/wilfredo/Willie931GB/SLU/EchoNet/EchoNet-Dynamic/Numpy_Datasets/test_data_size_50.npy\", allow_pickle = True)"
   ]
  },
  {
   "cell_type": "markdown",
   "id": "42bb9483",
   "metadata": {},
   "source": [
    "# Create the CNN (based on VGG11)\n",
    "Source: Page 3/14, Table 1, Configuration A, https://arxiv.org/pdf/1409.1556.pdf"
   ]
  },
  {
   "cell_type": "markdown",
   "id": "cd2f56fa",
   "metadata": {},
   "source": [
    "## Individual Client Models"
   ]
  },
  {
   "cell_type": "code",
   "execution_count": 11,
   "id": "b8d55fe5",
   "metadata": {},
   "outputs": [],
   "source": [
    "class Net_client(nn.Module):\n",
    "    def __init__(self):\n",
    "        super().__init__()\n",
    "        # Define your first convolutional layer: input = 1, output = 32 convolutional features, kernel size = 5\n",
    "        # Remember that kernel = 5 means that the \"window\" used to scan for features will be 5x5\n",
    "        self.conv1 = nn.Conv2d(1, 16, 5)\n",
    "        self.conv2 = nn.Conv2d(16, 32, 5)\n",
    "\n",
    "    # Function defining only one part of the forward pass (the convolution layers only). This will also write\n",
    "    # the output dimensions of the conv layers to self._to_linear ONCE, and this information will then be used \n",
    "    # as the input data flattened dimensions of the next fully connected layers \n",
    "    def convs(self, x):\n",
    "        # Convolutional layer 1 + activation + max_pooling\n",
    "        x = self.conv1(x)\n",
    "        x = F.relu(x)\n",
    "        x = F.max_pool2d(x, (2, 2))\n",
    "        x = self.conv2(x)\n",
    "        x = F.relu(x)\n",
    "        x = F.max_pool2d(x, (2, 2))\n",
    "        return x\n",
    "    \n",
    "    # Function defining the rest of the forward pass\n",
    "    def forward(self, x):\n",
    "        # Run the convs layers first\n",
    "        x = self.convs(x)\n",
    "        return x\n",
    "\n",
    "net_client = Net_client()"
   ]
  },
  {
   "cell_type": "code",
   "execution_count": 12,
   "id": "f428e455",
   "metadata": {},
   "outputs": [],
   "source": [
    "class Net_edge(nn.Module):\n",
    "    def __init__(self):\n",
    "        super().__init__()\n",
    "        \n",
    "        # Start from the third convolutional layer\n",
    "        self.conv3 = nn.Conv2d(32, 64, 5)\n",
    "        \n",
    "        # Run the fully connected layers. We know the input of this fc1 layer is 512, because of our previous\n",
    "        # results with FL, where self.__to__linear told us this result when you run the cell that contains the \n",
    "        # NN\n",
    "        self._to_linear = 256\n",
    "        self.fc1 = nn.Linear(self._to_linear, 32)\n",
    "        self.fc2 = nn.Linear(32, 2)\n",
    "\n",
    "    # Function defining only one part of the forward pass (the convolution layers only). This will also write\n",
    "    # the output dimensions of the conv layers to self._to_linear ONCE, and this information will then be used \n",
    "    # as the input data flattened dimensions of the next fully connected layers \n",
    "    def convs(self, x):\n",
    "        # Convolutional layer 1 + activation + max_pooling\n",
    "        x = self.conv3(x)\n",
    "        x = F.relu(x)\n",
    "        x = F.max_pool2d(x, (2, 2))\n",
    "        \n",
    "        if self._to_linear is None:\n",
    "            self._to_linear = x[0].shape[0] * x[0].shape[1] * x[0].shape[2]\n",
    "        return x\n",
    "#         return x\n",
    "    \n",
    "    # Function defining the rest of the forward pass\n",
    "    def forward(self, x):\n",
    "        # Run the convs layers first\n",
    "        x = self.convs(x)\n",
    "        # Reshape the output data from the convs to be flattened\n",
    "        x = x.view(-1, self._to_linear)\n",
    "        # Pass the data through the fully connected layers now\n",
    "        x = F.relu(self.fc1(x))\n",
    "        # Pass it through the final layer\n",
    "        x = self.fc2(x)\n",
    "        # One final softmax function to make the output vector look nicer\n",
    "        x = F.softmax(x, dim = 1)\n",
    "        return x\n",
    "\n",
    "net_edge = Net_edge()"
   ]
  },
  {
   "cell_type": "code",
   "execution_count": 13,
   "id": "0a2d7ca7",
   "metadata": {},
   "outputs": [],
   "source": [
    "# Take a look at our models\n",
    "model_client = net_client\n",
    "model_edge = net_edge"
   ]
  },
  {
   "cell_type": "code",
   "execution_count": 14,
   "id": "c5ba92e1",
   "metadata": {},
   "outputs": [],
   "source": [
    "def count_parameters(model):\n",
    "    return sum(p.numel() for p in model.parameters() if p.requires_grad)"
   ]
  },
  {
   "cell_type": "code",
   "execution_count": 15,
   "id": "63681ca9",
   "metadata": {
    "scrolled": true
   },
   "outputs": [
    {
     "data": {
      "text/plain": [
       "Net_client(\n",
       "  (conv1): Conv2d(1, 16, kernel_size=(5, 5), stride=(1, 1))\n",
       "  (conv2): Conv2d(16, 32, kernel_size=(5, 5), stride=(1, 1))\n",
       ")"
      ]
     },
     "execution_count": 15,
     "metadata": {},
     "output_type": "execute_result"
    }
   ],
   "source": [
    "model_client"
   ]
  },
  {
   "cell_type": "code",
   "execution_count": 16,
   "id": "0b36421a",
   "metadata": {},
   "outputs": [
    {
     "data": {
      "text/plain": [
       "Net_edge(\n",
       "  (conv3): Conv2d(32, 64, kernel_size=(5, 5), stride=(1, 1))\n",
       "  (fc1): Linear(in_features=256, out_features=32, bias=True)\n",
       "  (fc2): Linear(in_features=32, out_features=2, bias=True)\n",
       ")"
      ]
     },
     "execution_count": 16,
     "metadata": {},
     "output_type": "execute_result"
    }
   ],
   "source": [
    "model_edge"
   ]
  },
  {
   "cell_type": "code",
   "execution_count": 17,
   "id": "ba0c84d6",
   "metadata": {},
   "outputs": [
    {
     "name": "stdout",
     "output_type": "stream",
     "text": [
      "72802\n"
     ]
    }
   ],
   "source": [
    "total_parameters = (count_parameters(model_client) \n",
    "                    + count_parameters(model_edge))\n",
    "print(total_parameters)"
   ]
  },
  {
   "cell_type": "markdown",
   "id": "a4314463",
   "metadata": {},
   "source": [
    "# Establish your loss function"
   ]
  },
  {
   "cell_type": "code",
   "execution_count": 18,
   "id": "269e56b7",
   "metadata": {},
   "outputs": [],
   "source": [
    "# Set your loss function (MSE for images!)\n",
    "loss_function = nn.MSELoss()"
   ]
  },
  {
   "cell_type": "markdown",
   "id": "984e487d",
   "metadata": {},
   "source": [
    "# Separate your data into data, labels, training, testing, and scale it"
   ]
  },
  {
   "cell_type": "code",
   "execution_count": 12,
   "id": "c3d978b9",
   "metadata": {},
   "outputs": [],
   "source": [
    "########################## TRAIN DATA ##########################\n",
    "# Separate the x's and the y's\n",
    "X = torch.Tensor([i[0] for i in training_data]).view(-1, 1, IMG_SIZE, IMG_SIZE)\n",
    "\n",
    "# Scale the images. The pixel values are between 0-255, but we want them to be between 0-1\n",
    "X = X/255.0\n",
    "\n",
    "# Get your y's\n",
    "y = torch.Tensor([i[1] for i in training_data])\n",
    "\n",
    "########################## TEST DATA ##########################\n",
    "# Separate the x's and the y's\n",
    "# X_test = torch.Tensor([i[0] for i in test_data]).view(-1, 1, IMG_SIZE, IMG_SIZE)\n",
    "\n",
    "# Scale the images. The pixel values are between 0-255, but we want them to be between 0-1\n",
    "# X_test = X_test/255.0\n",
    "\n",
    "# Get your y's\n",
    "# y_test = torch.Tensor([i[1] for i in test_data])"
   ]
  },
  {
   "cell_type": "code",
   "execution_count": 25,
   "id": "3d67479b",
   "metadata": {},
   "outputs": [],
   "source": [
    "# Set your validation data percentage\n",
    "VAL_PCT = 0.1\n",
    "val_size = int(len(X)*VAL_PCT)"
   ]
  },
  {
   "cell_type": "code",
   "execution_count": 26,
   "id": "7f6d54af",
   "metadata": {},
   "outputs": [],
   "source": [
    "# Define your training data\n",
    "train_X = X[:-val_size]\n",
    "train_y = y[:-val_size]\n",
    "# train_X = X\n",
    "# train_y = y\n",
    "\n",
    "# Define your testing (validation) data\n",
    "test_X = X[-val_size:]\n",
    "test_y = y[-val_size:]\n",
    "# test_X = X_test\n",
    "# test_y = y_test"
   ]
  },
  {
   "cell_type": "markdown",
   "id": "464da24f",
   "metadata": {},
   "source": [
    "# Federated Split Learning"
   ]
  },
  {
   "cell_type": "markdown",
   "id": "ee845ed7",
   "metadata": {},
   "source": [
    "## Establish the virtual workers, their data, their NNs, and their optimizers"
   ]
  },
  {
   "cell_type": "code",
   "execution_count": 22,
   "id": "0f351b51",
   "metadata": {},
   "outputs": [],
   "source": [
    "# Start the hook\n",
    "hook = sy.TorchHook(torch)\n",
    "\n",
    "# Create your virtual workers and our server\n",
    "client1 = sy.VirtualWorker(hook, id=\"client1\")\n",
    "client2 = sy.VirtualWorker(hook, id=\"client2\")\n",
    "client3 = sy.VirtualWorker(hook, id=\"client3\")\n",
    "edge1 = sy.VirtualWorker(hook, id=\"edge1\")\n",
    "edge2 = sy.VirtualWorker(hook, id=\"edge2\")\n",
    "edge3 = sy.VirtualWorker(hook, id=\"edge3\")\n",
    "\n",
    "# Put the WORKERS into a list for easier access later on\n",
    "clients = [client1, client2, client3]\n",
    "edges = [edge1, edge2, edge3]"
   ]
  },
  {
   "cell_type": "code",
   "execution_count": 23,
   "id": "c8b02b80",
   "metadata": {},
   "outputs": [],
   "source": [
    "# Split the training data for each worker\n",
    "# General method is:\n",
    "# train_X_workerN = train_X[int((N-1) * len(train_X)/len(compute_nodes)):int(N * len(train_X)/len(compute_nodes))].view(-1, 1, IMG_SIZE, IMG_SIZE)\n",
    "train_X_client1 = train_X[:int(len(train_X)/len(clients))].view(-1, 1, IMG_SIZE, IMG_SIZE)\n",
    "train_X_client2 = train_X[int(len(train_X)/len(clients)):int(2 * len(train_X)/len(clients))].view(-1, 1, IMG_SIZE, IMG_SIZE)\n",
    "train_X_client3 = train_X[int(2 * len(train_X)/len(clients)):int(3 * len(train_X)/len(clients))].view(-1, 1, IMG_SIZE, IMG_SIZE)\n",
    "\n",
    "train_y_edge1 = train_y[:int(len(train_X)/len(clients))]\n",
    "train_y_edge2 = train_y[int(len(train_X)/len(clients)):int(2 * len(train_X)/len(clients))]\n",
    "train_y_edge3 = train_y[int(2 * len(train_X)/len(clients)):int(3 * len(train_X)/len(clients))]"
   ]
  },
  {
   "cell_type": "code",
   "execution_count": 24,
   "id": "b2726e27",
   "metadata": {},
   "outputs": [
    {
     "data": {
      "text/plain": [
       "<VirtualWorker id:edge3 #objects:0>"
      ]
     },
     "execution_count": 24,
     "metadata": {},
     "output_type": "execute_result"
    }
   ],
   "source": [
    "# Clear the workers of any objects, just in case you forgot some were still there from a previous run\n",
    "client1.clear_objects()\n",
    "client2.clear_objects()\n",
    "client3.clear_objects()\n",
    "edge1.clear_objects()\n",
    "edge2.clear_objects()\n",
    "edge3.clear_objects()"
   ]
  },
  {
   "cell_type": "code",
   "execution_count": 25,
   "id": "f05f4d1e",
   "metadata": {},
   "outputs": [],
   "source": [
    "# # Establish the NN model for each worker. This is model-centric FL, so it is the same model for all workers\n",
    "client1_model = model_client.copy()\n",
    "client2_model = model_client.copy()\n",
    "client3_model = model_client.copy()\n",
    "\n",
    "edge1_model = model_edge.copy()\n",
    "edge2_model = model_edge.copy()\n",
    "edge3_model = model_edge.copy()\n",
    "\n",
    "# Establish the optimizer for each worker\n",
    "client1_optimizer = optim.SGD(client1_model.parameters(), lr=LR)\n",
    "client2_optimizer = optim.SGD(client2_model.parameters(), lr=LR)\n",
    "client3_optimizer = optim.SGD(client3_model.parameters(), lr=LR)\n",
    "\n",
    "edge1_optimizer = optim.SGD(edge1_model.parameters(), lr=LR)\n",
    "edge2_optimizer = optim.SGD(edge2_model.parameters(), lr=LR)\n",
    "edge3_optimizer = optim.SGD(edge3_model.parameters(), lr=LR)"
   ]
  },
  {
   "cell_type": "code",
   "execution_count": 26,
   "id": "286f8976",
   "metadata": {},
   "outputs": [],
   "source": [
    "# Organize the WORKER models and optimizers into lists. The server stuff must not be mixed with these\n",
    "client_models = [client1_model, client2_model, client3_model]\n",
    "client_optimizers = [client1_optimizer, client2_optimizer, client3_optimizer]\n",
    "edge_models = [edge1_model, edge2_model, edge3_model]\n",
    "edge_optimizers = [edge1_optimizer, edge2_optimizer, edge3_optimizer]\n",
    "\n",
    "worker_collection = [[client1, client1_model, client1_optimizer, edge1, edge1_model, edge1_optimizer],\n",
    "                     [client2, client2_model, client2_optimizer, edge2, edge2_model, edge2_optimizer],\n",
    "                     [client3, client3_model, client3_optimizer, edge3, edge3_model, edge3_optimizer],\n",
    "                     ]"
   ]
  },
  {
   "cell_type": "markdown",
   "id": "8bd44054",
   "metadata": {},
   "source": [
    "## Federated Split Training"
   ]
  },
  {
   "cell_type": "code",
   "execution_count": 27,
   "id": "01228ec8",
   "metadata": {},
   "outputs": [],
   "source": [
    "def train():\n",
    "    batch_count = 0\n",
    "    total_epoch_time = 0\n",
    "    batch_times = []\n",
    "    for i in tqdm(range(0, int(len(train_X)/len(clients)), BATCH_SIZE)):\n",
    "        \n",
    "        # Send the models to their appropriate locations\n",
    "        client1_model.send(client1)\n",
    "        client2_model.send(client2)\n",
    "        client3_model.send(client3)\n",
    "        edge1_model.send(edge1)\n",
    "        edge2_model.send(edge2)\n",
    "        edge3_model.send(edge3)\n",
    "        # This is only done because at the END of each epoch I clear ALL objects from the clients and edges. \n",
    "        # In real life this sending and receiving must not be done, but I do it here to save memory because I \n",
    "        # am testing on a laptop\n",
    "        \n",
    "        # Send the data to the clients and the labels to the edges\n",
    "        batch_X_1 = train_X_client1[i : i + BATCH_SIZE]\n",
    "        batch_X_2 = train_X_client2[i : i + BATCH_SIZE]\n",
    "        batch_X_3 = train_X_client3[i : i + BATCH_SIZE]\n",
    "        \n",
    "        batch_y_1 = train_y_edge1[i : i + BATCH_SIZE]\n",
    "        batch_y_2 = train_y_edge2[i : i + BATCH_SIZE]\n",
    "        batch_y_3 = train_y_edge3[i : i + BATCH_SIZE]\n",
    "        \n",
    "        batch_X_1 = batch_X_1.send(client1)\n",
    "        batch_X_2 = batch_X_2.send(client2)\n",
    "        batch_X_3 = batch_X_3.send(client3)\n",
    "        \n",
    "        batch_y_1 = batch_y_1.send(edge1)\n",
    "        batch_y_2 = batch_y_2.send(edge2)\n",
    "        batch_y_3 = batch_y_3.send(edge3)\n",
    "        \n",
    "        # Zero the sequence for all models on both workers and server!\n",
    "        client1_optimizer.zero_grad()\n",
    "        client2_optimizer.zero_grad()\n",
    "        client3_optimizer.zero_grad()\n",
    "        edge1_optimizer.zero_grad()\n",
    "        edge2_optimizer.zero_grad()\n",
    "        edge3_optimizer.zero_grad()\n",
    "#         print(\"Zeroed the grads for all workers\")\n",
    "        \n",
    "        \n",
    "        # Start FP on clients\n",
    "        FP_client_start_time = time.time()\n",
    "        intermediate_1 = client1_model(batch_X_1)\n",
    "        intermediate_2 = client2_model(batch_X_2)\n",
    "        intermediate_3 = client3_model(batch_X_3)\n",
    "        FP_client_end_time = time.time() - FP_client_start_time\n",
    "#         print(\"Finished FP on \", worker1.id)\n",
    "        \n",
    "        # Send the results to edges. This is where you split the computational graph with .detach()!!!\n",
    "        data_for_edge1 = intermediate_1.detach().move(edge1).requires_grad_()\n",
    "        data_for_edge2 = intermediate_2.detach().move(edge2).requires_grad_()\n",
    "        data_for_edge3 = intermediate_3.detach().move(edge3).requires_grad_()\n",
    "#         print(\"Sent FP status to \", worker2.id)\n",
    "\n",
    "        # Finish FP on edges\n",
    "        FP_edge_start_time = time.time()\n",
    "        pred1 = edge1_model(data_for_edge1)\n",
    "        pred2 = edge2_model(data_for_edge2)\n",
    "        pred3 = edge3_model(data_for_edge3)\n",
    "        FP_edge_end_time = time.time() - FP_edge_start_time\n",
    "        \n",
    "        # Calculate losses\n",
    "        BP_edge_start_time = time.time()\n",
    "        loss1 = loss_function(pred1, batch_y_1)\n",
    "        loss2 = loss_function(pred2, batch_y_2)\n",
    "        loss3 = loss_function(pred3, batch_y_3)\n",
    "#         print(\"Calculated the loss on \", worker3.id)\n",
    "\n",
    "        # Do BP on edges\n",
    "        loss1.backward()\n",
    "        loss2.backward()\n",
    "        loss3.backward()\n",
    "        edge1_optimizer.step()\n",
    "        edge2_optimizer.step()\n",
    "        edge3_optimizer.step()\n",
    "        BP_edge_end_time = time.time() - BP_edge_start_time\n",
    "#         print(\"Finished the BP on \", worker3.id)\n",
    "        \n",
    "        # Send gradients back to workers and finish BP\n",
    "        intermediate_1.move(client1)\n",
    "        grad_intermediate_1 = data_for_edge1.grad.copy().move(client1)\n",
    "        intermediate_2.move(client2)\n",
    "        grad_intermediate_2 = data_for_edge2.grad.copy().move(client2)\n",
    "        intermediate_3.move(client3)\n",
    "        grad_intermediate_3 = data_for_edge3.grad.copy().move(client3)\n",
    "        \n",
    "        # Do BP on clients\n",
    "        BP_client_start_time = time.time()\n",
    "        intermediate_1.backward(grad_intermediate_1)\n",
    "        client1_optimizer.step()\n",
    "        \n",
    "        intermediate_2.backward(grad_intermediate_2)\n",
    "        client2_optimizer.step()\n",
    "        \n",
    "        intermediate_3.backward(grad_intermediate_3)\n",
    "        client3_optimizer.step()\n",
    "        BP_client_end_time = time.time() - BP_client_start_time\n",
    "        \n",
    "        # Total time\n",
    "        total_batch_time = (FP_client_end_time + FP_edge_end_time \n",
    "                            + BP_edge_end_time + BP_client_end_time)/len(clients)\n",
    "        batch_times.append(total_batch_time)\n",
    "        total_epoch_time += total_batch_time\n",
    "#         print(\"Total batch time = \", round(total_batch_time, 4), \" s \\n \\n\")\n",
    "        \n",
    "        # This following step must NOT be done in real life. It is only done here because I cannot remove only\n",
    "        # ONE specific object from the workers!\n",
    "        client1_model.get()\n",
    "        client2_model.get()\n",
    "        client3_model.get()\n",
    "        edge1_model.get()\n",
    "        edge2_model.get()\n",
    "        edge3_model.get()\n",
    "        \n",
    "        # Remove batches from workers before next batch\n",
    "        client1.clear_objects()\n",
    "        client2.clear_objects()\n",
    "        client3.clear_objects()\n",
    "        edge1.clear_objects()\n",
    "        edge2.clear_objects()\n",
    "        edge3.clear_objects()\n",
    "        \n",
    "#         batch_count += 1\n",
    "#         if batch_count == 25:\n",
    "#             break\n",
    "            \n",
    "    # OUTSIDE THE FOR LOOP    \n",
    "    # Average the models\n",
    "    fed_client_start_time = time.time()\n",
    "    fed_avg_client = utils.federated_avg({\n",
    "        \"client1\": client1_model,\n",
    "        \"client2\": client2_model,\n",
    "        \"client3\": client3_model\n",
    "    })\n",
    "    fed_client_end_time = time.time() - fed_client_start_time\n",
    "    total_epoch_time += fed_client_end_time\n",
    "    \n",
    "    fed_edge_start_time = time.time()\n",
    "    fed_avg_edge = utils.federated_avg({\n",
    "        \"edge1\": edge1_model,\n",
    "        \"edge2\": edge2_model,\n",
    "        \"edge3\": edge3_model\n",
    "    })\n",
    "    fed_edge_end_time = time.time() - fed_edge_start_time\n",
    "    total_epoch_time += fed_edge_end_time\n",
    "    print(\"TOTAL TIME FOR THIS EPOCH = \", round(total_epoch_time, 4), \" s\")\n",
    "#     Return the new model on the server\n",
    "    return fed_avg_client, fed_avg_edge, batch_times, total_epoch_time"
   ]
  },
  {
   "cell_type": "markdown",
   "id": "b07369ac",
   "metadata": {},
   "source": [
    "## Function used for testing"
   ]
  },
  {
   "cell_type": "code",
   "execution_count": 28,
   "id": "3cd62d89",
   "metadata": {},
   "outputs": [],
   "source": [
    "def test(new_client_model, new_edge_model):\n",
    "    \n",
    "    # Calculate the accuracy\n",
    "    correct = 0\n",
    "    total = 0\n",
    "\n",
    "    # Do not update your gradients while testing\n",
    "    with torch.no_grad():\n",
    "        print(\"Initiated model testing:\")\n",
    "        for i in tqdm(range(len(test_X))):\n",
    "            \n",
    "            # Put the model into evaluation mode so it does not update its gradients during this test\n",
    "            new_client_model.eval()\n",
    "            new_edge_model.eval()\n",
    "            \n",
    "            # Obtain the real class for the sample\n",
    "            real_class = torch.argmax(test_y[i])\n",
    "\n",
    "            # Obtain our prediction for said sample (not arg_maxed yet)\n",
    "            output = new_client_model(test_X[i].view(-1, 1, IMG_SIZE, IMG_SIZE))\n",
    "            output = new_edge_model(output)[0]\n",
    "        \n",
    "            # Obtain our arg_maxed prediction for said sample\n",
    "            predicted_class = torch.argmax(output)\n",
    "\n",
    "            # Update counters\n",
    "            if predicted_class == real_class:\n",
    "                correct += 1\n",
    "            total += 1\n",
    "\n",
    "    print(\"Accuracy of the new model = \", round(correct/total, 3), \" \\n \\n\")"
   ]
  },
  {
   "cell_type": "code",
   "execution_count": 29,
   "id": "b1ce31d3",
   "metadata": {},
   "outputs": [],
   "source": [
    "def update_models(new_client_model, new_edge_model):\n",
    "    # Clear the workers of any objects, just in case you forgot some were still there from a previous run\n",
    "    client1.clear_objects()\n",
    "    client2.clear_objects()\n",
    "    client3.clear_objects()\n",
    "    edge1.clear_objects()\n",
    "    edge2.clear_objects()\n",
    "    edge3.clear_objects()\n",
    "    \n",
    "    # Establish the NN model for each worker. This is model-centric FL, so it is the same model for all workers\n",
    "    global client1_model\n",
    "    client1_model = new_client_model.copy()\n",
    "    global client2_model\n",
    "    client2_model = new_client_model.copy()\n",
    "    global client3_model\n",
    "    client3_model = new_client_model.copy()\n",
    "    \n",
    "    global edge1_model\n",
    "    edge1_model = new_edge_model.copy()\n",
    "    global edge2_model\n",
    "    edge2_model = new_edge_model.copy()\n",
    "    global edge3_model\n",
    "    edge3_model = new_edge_model.copy()\n",
    "    \n",
    "    # Establish the optimizer for each worker\n",
    "    global client1_optimizer\n",
    "    client1_optimizer = optim.SGD(client1_model.parameters(), lr=LR)\n",
    "    global client2_optimizer\n",
    "    client2_optimizer = optim.SGD(client2_model.parameters(), lr=LR)\n",
    "    global client3_optimizer\n",
    "    client3_optimizer = optim.SGD(client3_model.parameters(), lr=LR)\n",
    "    \n",
    "    global edge1_optimizer\n",
    "    edge1_optimizer = optim.SGD(edge1_model.parameters(), lr=LR)\n",
    "    global edge2_optimizer\n",
    "    edge2_optimizer = optim.SGD(edge2_model.parameters(), lr=LR)\n",
    "    global edge3_optimizer\n",
    "    edge3_optimizer = optim.SGD(edge3_model.parameters(), lr=LR)\n",
    "        \n",
    "    # Organize the WORKER models and optimizers into lists. The server stuff must not be mixed with these\n",
    "    global worker_collection\n",
    "    worker_collection = [[client1, client1_model, client1_optimizer, edge1, edge1_model, edge1_optimizer],\n",
    "                         [client2, client2_model, client2_optimizer, edge2, edge2_model, edge2_optimizer],\n",
    "                         [client3, client3_model, client3_optimizer, edge3, edge3_model, edge3_optimizer]\n",
    "                        ]"
   ]
  },
  {
   "cell_type": "code",
   "execution_count": 30,
   "id": "4658a77c",
   "metadata": {},
   "outputs": [],
   "source": [
    "# # Get all objects as a dictionary, as keys, or remove a specific object\n",
    "# worker1.object_store._objects.keys()\n",
    "# worker1.object_store.rm_obj( obj_id = )"
   ]
  },
  {
   "cell_type": "markdown",
   "id": "9ac3d7c2",
   "metadata": {},
   "source": [
    "# RUN THE MODEL"
   ]
  },
  {
   "cell_type": "code",
   "execution_count": 31,
   "id": "d4831077",
   "metadata": {
    "scrolled": false
   },
   "outputs": [
    {
     "name": "stdout",
     "output_type": "stream",
     "text": [
      "Epoch Number 1\n"
     ]
    },
    {
     "name": "stderr",
     "output_type": "stream",
     "text": [
      "100%|██████████| 124/124 [28:29<00:00, 13.79s/it]\n"
     ]
    },
    {
     "name": "stdout",
     "output_type": "stream",
     "text": [
      "TOTAL TIME FOR THIS EPOCH =  45.0543  s\n",
      "Initiated model testing:\n"
     ]
    },
    {
     "name": "stderr",
     "output_type": "stream",
     "text": [
      "100%|██████████| 6472/6472 [00:21<00:00, 305.35it/s]\n"
     ]
    },
    {
     "name": "stdout",
     "output_type": "stream",
     "text": [
      "Accuracy of the new model =  0.504  \n",
      " \n",
      "\n",
      "Epoch Number 2\n"
     ]
    },
    {
     "name": "stderr",
     "output_type": "stream",
     "text": [
      "100%|██████████| 124/124 [26:44<00:00, 12.94s/it]\n"
     ]
    },
    {
     "name": "stdout",
     "output_type": "stream",
     "text": [
      "TOTAL TIME FOR THIS EPOCH =  42.4879  s\n",
      "Initiated model testing:\n"
     ]
    },
    {
     "name": "stderr",
     "output_type": "stream",
     "text": [
      "100%|██████████| 6472/6472 [00:22<00:00, 284.15it/s]\n"
     ]
    },
    {
     "name": "stdout",
     "output_type": "stream",
     "text": [
      "Accuracy of the new model =  0.504  \n",
      " \n",
      "\n",
      "Epoch Number 3\n"
     ]
    },
    {
     "name": "stderr",
     "output_type": "stream",
     "text": [
      "100%|██████████| 124/124 [29:00<00:00, 14.03s/it]\n"
     ]
    },
    {
     "name": "stdout",
     "output_type": "stream",
     "text": [
      "TOTAL TIME FOR THIS EPOCH =  46.2591  s\n",
      "Initiated model testing:\n"
     ]
    },
    {
     "name": "stderr",
     "output_type": "stream",
     "text": [
      "100%|██████████| 6472/6472 [00:25<00:00, 252.59it/s]\n"
     ]
    },
    {
     "name": "stdout",
     "output_type": "stream",
     "text": [
      "Accuracy of the new model =  0.504  \n",
      " \n",
      "\n",
      "Epoch Number 4\n"
     ]
    },
    {
     "name": "stderr",
     "output_type": "stream",
     "text": [
      " 32%|███▏      | 40/124 [09:48<20:35, 14.71s/it]\n"
     ]
    },
    {
     "ename": "KeyboardInterrupt",
     "evalue": "",
     "output_type": "error",
     "traceback": [
      "\u001b[0;31m---------------------------------------------------------------------------\u001b[0m",
      "\u001b[0;31mKeyboardInterrupt\u001b[0m                         Traceback (most recent call last)",
      "\u001b[0;32m<ipython-input-31-e470a4056379>\u001b[0m in \u001b[0;36m<module>\u001b[0;34m\u001b[0m\n\u001b[1;32m     11\u001b[0m     \u001b[0;31m# Train the individual models, and then obtain the federated averaged model\u001b[0m\u001b[0;34m\u001b[0m\u001b[0;34m\u001b[0m\u001b[0;34m\u001b[0m\u001b[0m\n\u001b[1;32m     12\u001b[0m \u001b[0;31m#     train_start_time = time.time()\u001b[0m\u001b[0;34m\u001b[0m\u001b[0;34m\u001b[0m\u001b[0;34m\u001b[0m\u001b[0m\n\u001b[0;32m---> 13\u001b[0;31m     \u001b[0mnew_client_model\u001b[0m\u001b[0;34m,\u001b[0m \u001b[0mnew_edge_model\u001b[0m\u001b[0;34m,\u001b[0m \u001b[0mbatch_times\u001b[0m \u001b[0;34m=\u001b[0m \u001b[0mtrain\u001b[0m\u001b[0;34m(\u001b[0m\u001b[0;34m)\u001b[0m\u001b[0;34m\u001b[0m\u001b[0;34m\u001b[0m\u001b[0m\n\u001b[0m\u001b[1;32m     14\u001b[0m \u001b[0;31m#     train_total_time = time.time() - train_start_time\u001b[0m\u001b[0;34m\u001b[0m\u001b[0;34m\u001b[0m\u001b[0;34m\u001b[0m\u001b[0m\n\u001b[1;32m     15\u001b[0m \u001b[0;31m#     print(\"Total TRAIN time for epoch \", epoch, \" = \",\u001b[0m\u001b[0;34m\u001b[0m\u001b[0;34m\u001b[0m\u001b[0;34m\u001b[0m\u001b[0m\n",
      "\u001b[0;32m<ipython-input-27-861b5547562b>\u001b[0m in \u001b[0;36mtrain\u001b[0;34m()\u001b[0m\n\u001b[1;32m     27\u001b[0m         \u001b[0mbatch_X_1\u001b[0m \u001b[0;34m=\u001b[0m \u001b[0mbatch_X_1\u001b[0m\u001b[0;34m.\u001b[0m\u001b[0msend\u001b[0m\u001b[0;34m(\u001b[0m\u001b[0mclient1\u001b[0m\u001b[0;34m)\u001b[0m\u001b[0;34m\u001b[0m\u001b[0;34m\u001b[0m\u001b[0m\n\u001b[1;32m     28\u001b[0m         \u001b[0mbatch_X_2\u001b[0m \u001b[0;34m=\u001b[0m \u001b[0mbatch_X_2\u001b[0m\u001b[0;34m.\u001b[0m\u001b[0msend\u001b[0m\u001b[0;34m(\u001b[0m\u001b[0mclient2\u001b[0m\u001b[0;34m)\u001b[0m\u001b[0;34m\u001b[0m\u001b[0;34m\u001b[0m\u001b[0m\n\u001b[0;32m---> 29\u001b[0;31m         \u001b[0mbatch_X_3\u001b[0m \u001b[0;34m=\u001b[0m \u001b[0mbatch_X_3\u001b[0m\u001b[0;34m.\u001b[0m\u001b[0msend\u001b[0m\u001b[0;34m(\u001b[0m\u001b[0mclient3\u001b[0m\u001b[0;34m)\u001b[0m\u001b[0;34m\u001b[0m\u001b[0;34m\u001b[0m\u001b[0m\n\u001b[0m\u001b[1;32m     30\u001b[0m \u001b[0;34m\u001b[0m\u001b[0m\n\u001b[1;32m     31\u001b[0m         \u001b[0mbatch_y_1\u001b[0m \u001b[0;34m=\u001b[0m \u001b[0mbatch_y_1\u001b[0m\u001b[0;34m.\u001b[0m\u001b[0msend\u001b[0m\u001b[0;34m(\u001b[0m\u001b[0medge1\u001b[0m\u001b[0;34m)\u001b[0m\u001b[0;34m\u001b[0m\u001b[0;34m\u001b[0m\u001b[0m\n",
      "\u001b[0;32m~/anaconda3/envs/PySyft_SLU/lib/python3.7/site-packages/syft/generic/abstract/hookable.py\u001b[0m in \u001b[0;36mhooked_method\u001b[0;34m(self, *args, **kwargs)\u001b[0m\n\u001b[1;32m     39\u001b[0m     \u001b[0;32mdef\u001b[0m \u001b[0mhooked_method\u001b[0m\u001b[0;34m(\u001b[0m\u001b[0mself\u001b[0m\u001b[0;34m,\u001b[0m \u001b[0;34m*\u001b[0m\u001b[0margs\u001b[0m\u001b[0;34m,\u001b[0m \u001b[0;34m**\u001b[0m\u001b[0mkwargs\u001b[0m\u001b[0;34m)\u001b[0m\u001b[0;34m:\u001b[0m\u001b[0;34m\u001b[0m\u001b[0;34m\u001b[0m\u001b[0m\n\u001b[1;32m     40\u001b[0m         \u001b[0mmap_chain_call\u001b[0m\u001b[0;34m(\u001b[0m\u001b[0mself\u001b[0m\u001b[0;34m,\u001b[0m \u001b[0;34mf\"_before_{method_name}\"\u001b[0m\u001b[0;34m,\u001b[0m \u001b[0;34m*\u001b[0m\u001b[0margs\u001b[0m\u001b[0;34m,\u001b[0m \u001b[0;34m**\u001b[0m\u001b[0mkwargs\u001b[0m\u001b[0;34m)\u001b[0m\u001b[0;34m\u001b[0m\u001b[0;34m\u001b[0m\u001b[0m\n\u001b[0;32m---> 41\u001b[0;31m         \u001b[0mreturn_val\u001b[0m \u001b[0;34m=\u001b[0m \u001b[0mhookable_method\u001b[0m\u001b[0;34m(\u001b[0m\u001b[0mself\u001b[0m\u001b[0;34m,\u001b[0m \u001b[0;34m*\u001b[0m\u001b[0margs\u001b[0m\u001b[0;34m,\u001b[0m \u001b[0;34m**\u001b[0m\u001b[0mkwargs\u001b[0m\u001b[0;34m)\u001b[0m\u001b[0;34m\u001b[0m\u001b[0;34m\u001b[0m\u001b[0m\n\u001b[0m\u001b[1;32m     42\u001b[0m         \u001b[0mreturn_val\u001b[0m \u001b[0;34m=\u001b[0m \u001b[0mreduce_chain_call\u001b[0m\u001b[0;34m(\u001b[0m\u001b[0mself\u001b[0m\u001b[0;34m,\u001b[0m \u001b[0;34mf\"_after_{method_name}\"\u001b[0m\u001b[0;34m,\u001b[0m \u001b[0mreturn_val\u001b[0m\u001b[0;34m,\u001b[0m \u001b[0;34m*\u001b[0m\u001b[0margs\u001b[0m\u001b[0;34m,\u001b[0m \u001b[0;34m**\u001b[0m\u001b[0mkwargs\u001b[0m\u001b[0;34m)\u001b[0m\u001b[0;34m\u001b[0m\u001b[0;34m\u001b[0m\u001b[0m\n\u001b[1;32m     43\u001b[0m         \u001b[0;32mreturn\u001b[0m \u001b[0mreturn_val\u001b[0m\u001b[0;34m\u001b[0m\u001b[0;34m\u001b[0m\u001b[0m\n",
      "\u001b[0;32m~/anaconda3/envs/PySyft_SLU/lib/python3.7/site-packages/syft/frameworks/torch/tensors/interpreters/native.py\u001b[0m in \u001b[0;36msend\u001b[0;34m(self, inplace, user, local_autograd, requires_grad, preinitialize_grad, no_wrap, garbage_collect_data, *location)\u001b[0m\n\u001b[1;32m    488\u001b[0m                 \u001b[0mrequires_grad\u001b[0m\u001b[0;34m=\u001b[0m\u001b[0mrequires_grad\u001b[0m\u001b[0;34m,\u001b[0m\u001b[0;34m\u001b[0m\u001b[0;34m\u001b[0m\u001b[0m\n\u001b[1;32m    489\u001b[0m                 \u001b[0mpreinitialize_grad\u001b[0m\u001b[0;34m=\u001b[0m\u001b[0mpreinitialize_grad\u001b[0m\u001b[0;34m,\u001b[0m\u001b[0;34m\u001b[0m\u001b[0;34m\u001b[0m\u001b[0m\n\u001b[0;32m--> 490\u001b[0;31m                 \u001b[0mgarbage_collect_data\u001b[0m\u001b[0;34m=\u001b[0m\u001b[0mgarbage_collect_data\u001b[0m\u001b[0;34m,\u001b[0m\u001b[0;34m\u001b[0m\u001b[0;34m\u001b[0m\u001b[0m\n\u001b[0m\u001b[1;32m    491\u001b[0m             )\n\u001b[1;32m    492\u001b[0m \u001b[0;34m\u001b[0m\u001b[0m\n",
      "\u001b[0;32m~/anaconda3/envs/PySyft_SLU/lib/python3.7/site-packages/syft/workers/base.py\u001b[0m in \u001b[0;36msend\u001b[0;34m(self, obj, workers, ptr_id, garbage_collect_data, requires_grad, create_pointer, **kwargs)\u001b[0m\n\u001b[1;32m    429\u001b[0m \u001b[0;34m\u001b[0m\u001b[0m\n\u001b[1;32m    430\u001b[0m         \u001b[0;31m# Send the object\u001b[0m\u001b[0;34m\u001b[0m\u001b[0;34m\u001b[0m\u001b[0;34m\u001b[0m\u001b[0m\n\u001b[0;32m--> 431\u001b[0;31m         \u001b[0mself\u001b[0m\u001b[0;34m.\u001b[0m\u001b[0msend_obj\u001b[0m\u001b[0;34m(\u001b[0m\u001b[0mobj\u001b[0m\u001b[0;34m,\u001b[0m \u001b[0mworker\u001b[0m\u001b[0;34m)\u001b[0m\u001b[0;34m\u001b[0m\u001b[0;34m\u001b[0m\u001b[0m\n\u001b[0m\u001b[1;32m    432\u001b[0m \u001b[0;34m\u001b[0m\u001b[0m\n\u001b[1;32m    433\u001b[0m         \u001b[0;32mif\u001b[0m \u001b[0mrequires_grad\u001b[0m\u001b[0;34m:\u001b[0m\u001b[0;34m\u001b[0m\u001b[0;34m\u001b[0m\u001b[0m\n",
      "\u001b[0;32m~/anaconda3/envs/PySyft_SLU/lib/python3.7/site-packages/syft/workers/base.py\u001b[0m in \u001b[0;36msend_obj\u001b[0;34m(self, obj, location)\u001b[0m\n\u001b[1;32m    587\u001b[0m                 \u001b[0mreceive\u001b[0m \u001b[0mthe\u001b[0m \u001b[0mobject\u001b[0m\u001b[0;34m.\u001b[0m\u001b[0;34m\u001b[0m\u001b[0;34m\u001b[0m\u001b[0m\n\u001b[1;32m    588\u001b[0m         \"\"\"\n\u001b[0;32m--> 589\u001b[0;31m         \u001b[0;32mreturn\u001b[0m \u001b[0mself\u001b[0m\u001b[0;34m.\u001b[0m\u001b[0msend_msg\u001b[0m\u001b[0;34m(\u001b[0m\u001b[0mObjectMessage\u001b[0m\u001b[0;34m(\u001b[0m\u001b[0mobj\u001b[0m\u001b[0;34m)\u001b[0m\u001b[0;34m,\u001b[0m \u001b[0mlocation\u001b[0m\u001b[0;34m)\u001b[0m\u001b[0;34m\u001b[0m\u001b[0;34m\u001b[0m\u001b[0m\n\u001b[0m\u001b[1;32m    590\u001b[0m \u001b[0;34m\u001b[0m\u001b[0m\n\u001b[1;32m    591\u001b[0m     def request_obj(\n",
      "\u001b[0;32m~/anaconda3/envs/PySyft_SLU/lib/python3.7/site-packages/syft/workers/base.py\u001b[0m in \u001b[0;36msend_msg\u001b[0;34m(self, message, location)\u001b[0m\n\u001b[1;32m    311\u001b[0m \u001b[0;34m\u001b[0m\u001b[0m\n\u001b[1;32m    312\u001b[0m         \u001b[0;31m# Step 1: serialize the message to a binary\u001b[0m\u001b[0;34m\u001b[0m\u001b[0;34m\u001b[0m\u001b[0;34m\u001b[0m\u001b[0m\n\u001b[0;32m--> 313\u001b[0;31m         \u001b[0mbin_message\u001b[0m \u001b[0;34m=\u001b[0m \u001b[0msy\u001b[0m\u001b[0;34m.\u001b[0m\u001b[0mserde\u001b[0m\u001b[0;34m.\u001b[0m\u001b[0mserialize\u001b[0m\u001b[0;34m(\u001b[0m\u001b[0mmessage\u001b[0m\u001b[0;34m,\u001b[0m \u001b[0mworker\u001b[0m\u001b[0;34m=\u001b[0m\u001b[0mself\u001b[0m\u001b[0;34m)\u001b[0m\u001b[0;34m\u001b[0m\u001b[0;34m\u001b[0m\u001b[0m\n\u001b[0m\u001b[1;32m    314\u001b[0m \u001b[0;34m\u001b[0m\u001b[0m\n\u001b[1;32m    315\u001b[0m         \u001b[0;31m# Step 2: send the message and wait for a response\u001b[0m\u001b[0;34m\u001b[0m\u001b[0;34m\u001b[0m\u001b[0;34m\u001b[0m\u001b[0m\n",
      "\u001b[0;32m~/anaconda3/envs/PySyft_SLU/lib/python3.7/site-packages/syft/serde/serde.py\u001b[0m in \u001b[0;36mserialize\u001b[0;34m(obj, worker, simplified, force_full_simplification, strategy)\u001b[0m\n\u001b[1;32m     45\u001b[0m         \u001b[0mstrategy\u001b[0m \u001b[0;34m=\u001b[0m \u001b[0mmsgpack_serialize\u001b[0m\u001b[0;34m\u001b[0m\u001b[0;34m\u001b[0m\u001b[0m\n\u001b[1;32m     46\u001b[0m \u001b[0;34m\u001b[0m\u001b[0m\n\u001b[0;32m---> 47\u001b[0;31m     \u001b[0;32mreturn\u001b[0m \u001b[0mstrategy\u001b[0m\u001b[0;34m(\u001b[0m\u001b[0mobj\u001b[0m\u001b[0;34m,\u001b[0m \u001b[0mworker\u001b[0m\u001b[0;34m,\u001b[0m \u001b[0msimplified\u001b[0m\u001b[0;34m,\u001b[0m \u001b[0mforce_full_simplification\u001b[0m\u001b[0;34m)\u001b[0m\u001b[0;34m\u001b[0m\u001b[0;34m\u001b[0m\u001b[0m\n\u001b[0m\u001b[1;32m     48\u001b[0m \u001b[0;34m\u001b[0m\u001b[0m\n\u001b[1;32m     49\u001b[0m \u001b[0;34m\u001b[0m\u001b[0m\n",
      "\u001b[0;32m~/anaconda3/envs/PySyft_SLU/lib/python3.7/site-packages/syft/serde/msgpack/serde.py\u001b[0m in \u001b[0;36mserialize\u001b[0;34m(obj, worker, simplified, force_full_simplification)\u001b[0m\n\u001b[1;32m    341\u001b[0m \u001b[0;34m\u001b[0m\u001b[0m\n\u001b[1;32m    342\u001b[0m     \u001b[0msimple_objects\u001b[0m \u001b[0;34m=\u001b[0m \u001b[0m_serialize_msgpack_simple\u001b[0m\u001b[0;34m(\u001b[0m\u001b[0mobj\u001b[0m\u001b[0;34m,\u001b[0m \u001b[0mworker\u001b[0m\u001b[0;34m,\u001b[0m \u001b[0msimplified\u001b[0m\u001b[0;34m,\u001b[0m \u001b[0mforce_full_simplification\u001b[0m\u001b[0;34m)\u001b[0m\u001b[0;34m\u001b[0m\u001b[0;34m\u001b[0m\u001b[0m\n\u001b[0;32m--> 343\u001b[0;31m     \u001b[0;32mreturn\u001b[0m \u001b[0m_serialize_msgpack_binary\u001b[0m\u001b[0;34m(\u001b[0m\u001b[0msimple_objects\u001b[0m\u001b[0;34m)\u001b[0m\u001b[0;34m\u001b[0m\u001b[0;34m\u001b[0m\u001b[0m\n\u001b[0m\u001b[1;32m    344\u001b[0m \u001b[0;34m\u001b[0m\u001b[0m\n\u001b[1;32m    345\u001b[0m \u001b[0;34m\u001b[0m\u001b[0m\n",
      "\u001b[0;32m~/anaconda3/envs/PySyft_SLU/lib/python3.7/site-packages/syft/serde/msgpack/serde.py\u001b[0m in \u001b[0;36m_serialize_msgpack_binary\u001b[0;34m(simple_objects, worker, simplified, force_full_simplification)\u001b[0m\n\u001b[1;32m    295\u001b[0m     \u001b[0;31m# 2) Serialize\u001b[0m\u001b[0;34m\u001b[0m\u001b[0;34m\u001b[0m\u001b[0;34m\u001b[0m\u001b[0m\n\u001b[1;32m    296\u001b[0m     \u001b[0;31m# serialize into a binary\u001b[0m\u001b[0;34m\u001b[0m\u001b[0;34m\u001b[0m\u001b[0;34m\u001b[0m\u001b[0m\n\u001b[0;32m--> 297\u001b[0;31m     \u001b[0mbinary\u001b[0m \u001b[0;34m=\u001b[0m \u001b[0mmsgpack_lib\u001b[0m\u001b[0;34m.\u001b[0m\u001b[0mdumps\u001b[0m\u001b[0;34m(\u001b[0m\u001b[0msimple_objects\u001b[0m\u001b[0;34m)\u001b[0m\u001b[0;34m\u001b[0m\u001b[0;34m\u001b[0m\u001b[0m\n\u001b[0m\u001b[1;32m    298\u001b[0m \u001b[0;34m\u001b[0m\u001b[0m\n\u001b[1;32m    299\u001b[0m     \u001b[0;31m# 3) Compress\u001b[0m\u001b[0;34m\u001b[0m\u001b[0;34m\u001b[0m\u001b[0;34m\u001b[0m\u001b[0m\n",
      "\u001b[0;32m~/anaconda3/envs/PySyft_SLU/lib/python3.7/site-packages/msgpack/__init__.py\u001b[0m in \u001b[0;36mpackb\u001b[0;34m(o, **kwargs)\u001b[0m\n\u001b[1;32m     33\u001b[0m     \u001b[0mSee\u001b[0m \u001b[0;34m:\u001b[0m\u001b[0;32mclass\u001b[0m\u001b[0;34m:\u001b[0m\u001b[0;31m`\u001b[0m\u001b[0mPacker\u001b[0m\u001b[0;31m`\u001b[0m \u001b[0;32mfor\u001b[0m \u001b[0moptions\u001b[0m\u001b[0;34m.\u001b[0m\u001b[0;34m\u001b[0m\u001b[0;34m\u001b[0m\u001b[0m\n\u001b[1;32m     34\u001b[0m     \"\"\"\n\u001b[0;32m---> 35\u001b[0;31m     \u001b[0;32mreturn\u001b[0m \u001b[0mPacker\u001b[0m\u001b[0;34m(\u001b[0m\u001b[0;34m**\u001b[0m\u001b[0mkwargs\u001b[0m\u001b[0;34m)\u001b[0m\u001b[0;34m.\u001b[0m\u001b[0mpack\u001b[0m\u001b[0;34m(\u001b[0m\u001b[0mo\u001b[0m\u001b[0;34m)\u001b[0m\u001b[0;34m\u001b[0m\u001b[0;34m\u001b[0m\u001b[0m\n\u001b[0m\u001b[1;32m     36\u001b[0m \u001b[0;34m\u001b[0m\u001b[0m\n\u001b[1;32m     37\u001b[0m \u001b[0;34m\u001b[0m\u001b[0m\n",
      "\u001b[0;31mKeyboardInterrupt\u001b[0m: "
     ]
    }
   ],
   "source": [
    "# Define your number of epochs\n",
    "epochs = 5\n",
    "epoch_times = []\n",
    "\n",
    "# Train all workers for the set number of epochs\n",
    "for epoch in range(epochs):\n",
    "    \n",
    "    # Start counting the time for this epoch\n",
    "#     start_time = time.time()\n",
    "    print(f\"Epoch Number {epoch + 1}\")\n",
    "        \n",
    "    # Train the individual models, and then obtain the federated averaged model\n",
    "#     train_start_time = time.time()\n",
    "    new_client_model, new_edge_model, batch_times, epoch_time = train()\n",
    "#     train_total_time = time.time() - train_start_time\n",
    "#     print(\"Total TRAIN time for epoch \", epoch, \" = \", \n",
    "#           round(train_total_time/(len(clients) * 60), 2), \" min\")\n",
    "    \n",
    "    # Save the epoch times\n",
    "    epoch_times.append(epoch_time)\n",
    "    \n",
    "    # Stop counting the time\n",
    "#     total_time = time.time() - start_time\n",
    "#     print('Time for this epoch', round(total_time/60, 2), \" min\")\n",
    "    \n",
    "    # Test your new model to keep a log of how good we're doing per epoch \n",
    "    test(new_client_model, new_edge_model)\n",
    "\n",
    "    # Re-organize everything before starting next epoch\n",
    "    update_models(new_client_model, new_edge_model)\n",
    "    \n",
    "    # Save the batch times\n",
    "    df_batch = pd.DataFrame(batch_times)\n",
    "    df_batch.to_csv(\"./Batch_times/MINI_C&D_FSL_epoch_\" + str(epoch) + \".csv\")\n",
    "\n",
    "# OUTSIDE THE FOR LOOP\n",
    "# Save the epoch times\n",
    "df_epoch = pd.DataFrame(epoch_times)\n",
    "df_epoch.to_csv(\"./Epoch_times/MINI_C&D_FSL.csv\")\n",
    "    \n",
    "# Clean the global namespace after run is done\n",
    "%reset -f"
   ]
  },
  {
   "cell_type": "code",
   "execution_count": null,
   "id": "5f789edc",
   "metadata": {},
   "outputs": [],
   "source": []
  }
 ],
 "metadata": {
  "kernelspec": {
   "display_name": "Python 3",
   "language": "python",
   "name": "python3"
  },
  "language_info": {
   "codemirror_mode": {
    "name": "ipython",
    "version": 3
   },
   "file_extension": ".py",
   "mimetype": "text/x-python",
   "name": "python",
   "nbconvert_exporter": "python",
   "pygments_lexer": "ipython3",
   "version": "3.7.10"
  }
 },
 "nbformat": 4,
 "nbformat_minor": 5
}
