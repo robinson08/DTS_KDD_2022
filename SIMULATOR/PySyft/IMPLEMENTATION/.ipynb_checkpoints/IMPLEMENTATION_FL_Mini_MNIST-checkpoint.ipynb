{
 "cells": [
  {
   "cell_type": "markdown",
   "id": "313c8126",
   "metadata": {},
   "source": [
    "# Import necessary libraries"
   ]
  },
  {
   "cell_type": "code",
   "execution_count": 14,
   "id": "34b7a7b0",
   "metadata": {},
   "outputs": [],
   "source": [
    "# General\n",
    "import os\n",
    "import cv2\n",
    "import numpy as np\n",
    "from tqdm import tqdm\n",
    "import matplotlib.pyplot as plt\n",
    "import pickle\n",
    "import time\n",
    "import copy\n",
    "import pandas as pd\n",
    "\n",
    "\n",
    "# Pytorch\n",
    "import torch\n",
    "import torch.nn as nn\n",
    "import torch.nn.functional as F\n",
    "import torch.optim as optim\n",
    "from torch.utils.data import TensorDataset, DataLoader\n",
    "\n",
    "\n",
    "# PySyft\n",
    "import syft as sy\n",
    "from syft.frameworks.torch.fl import utils\n",
    "from syft.workers.websocket_client import WebsocketClientWorker"
   ]
  },
  {
   "cell_type": "markdown",
   "id": "c6f13b98",
   "metadata": {},
   "source": [
    "# Pre-processing the Data"
   ]
  },
  {
   "cell_type": "code",
   "execution_count": 15,
   "id": "0f5c6c07",
   "metadata": {},
   "outputs": [],
   "source": [
    "# Flag to only rebuild data once\n",
    "REBUILD_DATA = False"
   ]
  },
  {
   "cell_type": "code",
   "execution_count": 16,
   "id": "de3a02e5",
   "metadata": {},
   "outputs": [],
   "source": [
    "# Set the image size Y where Y represents YxY \n",
    "IMG_SIZE = 50\n",
    "BATCH_SIZE = 100\n",
    "LR = 0.001"
   ]
  },
  {
   "cell_type": "code",
   "execution_count": 17,
   "id": "703f0718",
   "metadata": {},
   "outputs": [],
   "source": [
    "# Create a pre-processing class\n",
    "class CatsVSDogs_Train():\n",
    "    \n",
    "    # Define the img_size we want for ALL of the images\n",
    "    \n",
    "#     source_folder = r\"/media/wilfredo/Willie931GB/SLU/EchoNet/EchoNet-Dynamic/TRAIN/Healthy_FRAMES/\"\n",
    "    # Define where your data is stored\n",
    "    CAT = r\"/media/wilfredo/Willie931GB/EURECOM_SLU_Linux/II_SEMESTER/SLU/PAPER_KDD2022/EXPERIMENTS/PySyft/Datasets/cats_and_dogs/PetImages/Cat/\"\n",
    "    DOG = r\"/media/wilfredo/Willie931GB/EURECOM_SLU_Linux/II_SEMESTER/SLU/PAPER_KDD2022/EXPERIMENTS/PySyft/Datasets/cats_and_dogs/PetImages/Dog/\"\n",
    "#     TESTING = \"./Datasets/cats_and_dogs/PetImages/Testing\"\n",
    "    \n",
    "    # Define what each type of image is (their labels for the NN)\n",
    "    LABELS = {CAT: 0, DOG: 1}\n",
    "    \n",
    "    # Define your image size\n",
    "    IMG_SIZE = 50\n",
    "    \n",
    "    # Define your training data\n",
    "    training_data = []\n",
    "    \n",
    "    # Define your counters to check for imbalance issues\n",
    "    cat_count = 0\n",
    "    dog_count = 0\n",
    "    \n",
    "    def make_training_data(self):\n",
    "        for label in self.LABELS:\n",
    "            # Iterare over the images in the directories\n",
    "            # tqdm is just here to show a progress bar\n",
    "            for f in tqdm(os.listdir(label)):\n",
    "                # We will TRY this piece of code. Some images might lead to errors, so instead of stoppin EVERY\n",
    "                # time we find an error, let's just ignore the image\n",
    "                try: \n",
    "                    # Define the image path\n",
    "                    path = os.path.join(label, f)\n",
    "\n",
    "                    # Select the image and convert it to grayscale, because color is not a defining feature \n",
    "                    # to know if something is a cat or a dog\n",
    "                    img = cv2.imread(path, cv2.IMREAD_GRAYSCALE)\n",
    "\n",
    "                    # Resize the image\n",
    "                    img = cv2.resize(img, (self.IMG_SIZE, self.IMG_SIZE))\n",
    "\n",
    "                    # Add the image AND its label to the training data\n",
    "                    self.training_data.append([np.array(img), np.eye(2)[self.LABELS[label]]])\n",
    "                    # The label here was added as a 1-hot vector. We create an identity matrix with \n",
    "                    # numpy (np.eye), of two classes (np.eye(2)), and the corresponding output that each label \n",
    "                    # should represent label = 0 should be \"cat\", so [1, 0], and \"dog\" should be [0, 1]\n",
    "\n",
    "                    # COunt which are cats and which are dogs\n",
    "                    if label == self.CAT:\n",
    "                        self.cat_count += 1\n",
    "                    elif label == self.DOG:\n",
    "                        self.dog_count += 1\n",
    "                \n",
    "                except Exception as e:\n",
    "                    pass\n",
    "#                     print(str(e))\n",
    "        \n",
    "        # Outside the for loop but still within the function\n",
    "        # Now we shuffle the data and save it to the local directory\n",
    "        np.random.shuffle(self.training_data)\n",
    "        np.save(r\"/media/wilfredo/Willie931GB/EURECOM_SLU_Linux/II_SEMESTER/SLU/PAPER_KDD2022/EXPERIMENTS/PySyft/Datasets/cats_and_dogs/Numpy_Datasets/training_data_size_50.npy\", \n",
    "                self.training_data)\n",
    "#         np.save(r\"/media/wilfredo/Willie931GB/SLU/EchoNet/EchoNet-Dynamic/Numpy_Datasets/training_data_size_50.npy\", self.training_data)\n",
    "        print(\"Cat = \", self.cat_count)\n",
    "        print(\"Dog = \", self.dog_count)"
   ]
  },
  {
   "cell_type": "code",
   "execution_count": 18,
   "id": "ba4caa4f",
   "metadata": {},
   "outputs": [],
   "source": [
    "# # Create a pre-processing class\n",
    "# class EchoData_Test():\n",
    "    \n",
    "#     # Define the img_size we want for ALL of the images\n",
    "    \n",
    "# #     source_folder = r\"/media/wilfredo/Willie931GB/SLU/EchoNet/EchoNet-Dynamic/TRAIN/Healthy_FRAMES/\"\n",
    "#     # Define where your data is stored\n",
    "#     HEALTHY = r\"/media/wilfredo/Willie931GB/SLU/EchoNet/EchoNet-Dynamic/TEST/Healthy_FRAMES/\"\n",
    "#     ALERT = r\"/media/wilfredo/Willie931GB/SLU/EchoNet/EchoNet-Dynamic/TEST/Alert_FRAMES/\"\n",
    "# #     TESTING = \"./Datasets/cats_and_dogs/PetImages/Testing\"\n",
    "    \n",
    "#     # Define what each type of image is (their labels for the NN)\n",
    "#     LABELS = {HEALTHY: 0, ALERT: 1}\n",
    "    \n",
    "#     # Define your image size\n",
    "#     IMG_SIZE = 50\n",
    "    \n",
    "#     # Define your training data\n",
    "#     test_data = []\n",
    "    \n",
    "#     # Define your counters to check for imbalance issues\n",
    "#     healthy_count = 0\n",
    "#     alert_count = 0\n",
    "    \n",
    "#     def make_test_data(self):\n",
    "#         for label in self.LABELS:\n",
    "#             # Iterare over the images in the directories\n",
    "#             # tqdm is just here to show a progress bar\n",
    "#             for f in tqdm(os.listdir(label)):\n",
    "                \n",
    "#                 # We will TRY this piece of code. Some images might lead to errors, so instead of stoppin EVERY\n",
    "#                 # time we find an error, let's just ignore the image\n",
    "#                 try: \n",
    "#                     # Define the image path\n",
    "#                     path = os.path.join(label, f)\n",
    "\n",
    "#                     # Select the image and convert it to grayscale, because color is not a defining feature \n",
    "#                     # to know if something is a cat or a dog\n",
    "#                     img = cv2.imread(path, cv2.IMREAD_GRAYSCALE)\n",
    "\n",
    "#                     # Resize the image\n",
    "#                     img = cv2.resize(img, (self.IMG_SIZE, self.IMG_SIZE))\n",
    "\n",
    "#                     # Add the image AND its label to the training data\n",
    "#                     self.test_data.append([np.array(img), np.eye(2)[self.LABELS[label]]])\n",
    "#                     # The label here was added as a 1-hot vector. We create an identity matrix with \n",
    "#                     # numpy (np.eye), of two classes (np.eye(2)), and the corresponding output that each label \n",
    "#                     # should represent label = 0 should be \"cat\", so [1, 0], and \"dog\" should be [0, 1]\n",
    "\n",
    "#                     # COunt which are cats and which are dogs\n",
    "#                     if label == self.HEALTHY:\n",
    "#                         self.healthy_count += 1\n",
    "#                     elif label == self.ALERT:\n",
    "#                         self.alert_count += 1\n",
    "                \n",
    "#                 except Exception as e:\n",
    "#                     pass\n",
    "# #                     print(str(e))\n",
    "        \n",
    "#         # Outside the for loop but still within the function\n",
    "#         # Now we shuffle the data and save it to the local directory\n",
    "#         np.random.shuffle(self.test_data)\n",
    "#         np.save(r\"/media/wilfredo/Willie931GB/SLU/EchoNet/EchoNet-Dynamic/Numpy_Datasets/test_data_size_50.npy\", self.test_data)\n",
    "#         print(\"Healthy = \", self.healthy_count)\n",
    "#         print(\"Alert = \", self.alert_count)"
   ]
  },
  {
   "cell_type": "code",
   "execution_count": 19,
   "id": "0a16b530",
   "metadata": {},
   "outputs": [
    {
     "name": "stderr",
     "output_type": "stream",
     "text": [
      "100%|██████████| 12501/12501 [03:43<00:00, 55.90it/s]\n",
      "100%|██████████| 12501/12501 [03:05<00:00, 67.41it/s] \n"
     ]
    },
    {
     "name": "stdout",
     "output_type": "stream",
     "text": [
      "Cat =  12476\n",
      "Dog =  12470\n"
     ]
    }
   ],
   "source": [
    "# Run the thing IF we want to rebuild the data, and check our distribution of data\n",
    "if REBUILD_DATA:\n",
    "    data_train = CatsVSDogs_Train()\n",
    "    data_train.make_training_data()\n",
    "#     data_test = CatsVSDogs_Test()\n",
    "#     data_test.make_test_data()"
   ]
  },
  {
   "cell_type": "code",
   "execution_count": 20,
   "id": "b4f66e26",
   "metadata": {},
   "outputs": [],
   "source": [
    "# Load the data from the file it was saved in\n",
    "training_data = np.load(r\"/media/wilfredo/Willie931GB/EURECOM_SLU_Linux/II_SEMESTER/SLU/PAPER_KDD2022/EXPERIMENTS/PySyft/Datasets/cats_and_dogs/Numpy_Datasets/training_data_size_50.npy\",\n",
    "                        allow_pickle = True)\n",
    "# test_data = np.load(r\"/media/wilfredo/Willie931GB/SLU/EchoNet/EchoNet-Dynamic/Numpy_Datasets/test_data_size_50.npy\", allow_pickle = True)"
   ]
  },
  {
   "cell_type": "markdown",
   "id": "5a043365",
   "metadata": {},
   "source": [
    "# Define your custom CNN\n",
    "Ours is baed on VGG-11. Source: Page 3/14, Table 1, Configuration A, https://arxiv.org/pdf/1409.1556.pdf"
   ]
  },
  {
   "cell_type": "markdown",
   "id": "60f55823",
   "metadata": {},
   "source": [
    "## NN Mini"
   ]
  },
  {
   "cell_type": "code",
   "execution_count": 21,
   "id": "31b20dcd",
   "metadata": {},
   "outputs": [],
   "source": [
    "class Net(nn.Module):\n",
    "    def __init__(self):\n",
    "        super().__init__()\n",
    "        IMG_SIZE = 50\n",
    "        # Define your first convolutional layer: input = 1, output = 32 convolutional features, kernel size = 5\n",
    "        # Remember that kernel = 5 means that the \"window\" used to scan for features will be 5x5\n",
    "        self.conv1 = nn.Conv2d(1, 16, 5)\n",
    "        self.conv2 = nn.Conv2d(16, 32, 5)\n",
    "        self.conv3 = nn.Conv2d(32, 64, 5)\n",
    "#         self.conv4 = nn.Conv2d(128, 256, 3)\n",
    "        \n",
    "        \n",
    "        # Now we need to get the output of the convolution processed to get it into a fully connected layer\n",
    "        # To know what dimensions to use for our fully connected layers, the only known way in PyTorch is to \n",
    "        # pass some data through the convolutional layers, and then examine their output. Then we manually \n",
    "        # input the dimensions of this output into the next fully connected layer and voila.\n",
    "        \n",
    "        # Create random dummy data, run the convolution layers, check the size of the output of conv3, and then \n",
    "        # give that dimension info to the fully connected layers. This will only be done ONCE\n",
    "        x = torch.randn(IMG_SIZE,IMG_SIZE).view(-1, 1, IMG_SIZE, IMG_SIZE)\n",
    "        self._to_linear = None\n",
    "        self.convs(x)\n",
    "        \n",
    "        # Run the fully connected layers\n",
    "#         self.fc1 = nn.Linear(self._to_linear, 512)\n",
    "#         self.fc2 = nn.Linear(512, 2)\n",
    "        self.fc1 = nn.Linear(self._to_linear, 32)\n",
    "        self.fc2 = nn.Linear(32, 2)\n",
    "#         self.fc3 = nn.Linear(256, 2)\n",
    "\n",
    "    # Function defining only one part of the forward pass (the convolution layers only). This will also write\n",
    "    # the output dimensions of the conv layers to self._to_linear ONCE, and this information will then be used \n",
    "    # as the input data flattened dimensions of the next fully connected layers \n",
    "    def convs(self, x):\n",
    "        # Convolutional layer 1 + activation + max_pooling\n",
    "        x = self.conv1(x)\n",
    "        x = F.relu(x)\n",
    "        x = F.max_pool2d(x, (2, 2))\n",
    "        x = self.conv2(x)\n",
    "        x = F.relu(x)\n",
    "        x = F.max_pool2d(x, (2, 2))\n",
    "        x = self.conv3(x)\n",
    "        x = F.relu(x)\n",
    "        x = F.max_pool2d(x, (2, 2))\n",
    "#         x = self.conv4(x)\n",
    "#         x = F.relu(x)\n",
    "#         x = F.max_pool2d(x, (2, 2))\n",
    "#         x = F.max_pool2d(F.relu(self.conv1(x)), (2, 2))\n",
    "#         x = F.max_pool2d(F.relu(self.conv2(x)), (2, 2))\n",
    "#         x = F.max_pool2d(F.relu(self.conv3(x)), (2, 2))\n",
    "        \n",
    "#         print(\"x[0].shape = \", x[0].shape)\n",
    "        if self._to_linear is None:\n",
    "            self._to_linear = x[0].shape[0] * x[0].shape[1] * x[0].shape[2]\n",
    "        return x\n",
    "    \n",
    "    # Function defining the rest of the forward pass\n",
    "    def forward(self, x):\n",
    "        # Run the convs layers first\n",
    "        x = self.convs(x)\n",
    "        # Reshape the output data from the convs to be flattened\n",
    "        x = x.view(-1, self._to_linear)\n",
    "        # Pass the data through the fully connected layers now\n",
    "        x = F.relu(self.fc1(x))\n",
    "#         x = F.relu(self.fc2(x))\n",
    "        # Pass it through the final layer\n",
    "        x = self.fc2(x)\n",
    "        # One final softmax function to make the output vector look nicer\n",
    "        x = F.softmax(x, dim = 1)\n",
    "        return x\n",
    "\n",
    "net = Net()"
   ]
  },
  {
   "cell_type": "code",
   "execution_count": 22,
   "id": "21296f01",
   "metadata": {},
   "outputs": [
    {
     "data": {
      "text/plain": [
       "Net(\n",
       "  (conv1): Conv2d(1, 16, kernel_size=(5, 5), stride=(1, 1))\n",
       "  (conv2): Conv2d(16, 32, kernel_size=(5, 5), stride=(1, 1))\n",
       "  (conv3): Conv2d(32, 64, kernel_size=(5, 5), stride=(1, 1))\n",
       "  (fc1): Linear(in_features=256, out_features=32, bias=True)\n",
       "  (fc2): Linear(in_features=32, out_features=2, bias=True)\n",
       ")"
      ]
     },
     "execution_count": 22,
     "metadata": {},
     "output_type": "execute_result"
    }
   ],
   "source": [
    "# Take a look at our model\n",
    "model = net\n",
    "model"
   ]
  },
  {
   "cell_type": "markdown",
   "id": "ed6c1f25",
   "metadata": {},
   "source": [
    "# Establish your loss function"
   ]
  },
  {
   "cell_type": "code",
   "execution_count": 23,
   "id": "ef6f412a",
   "metadata": {},
   "outputs": [],
   "source": [
    "# Set your loss function (MSE for images!)\n",
    "loss_function = nn.MSELoss()"
   ]
  },
  {
   "cell_type": "markdown",
   "id": "5b4cb289",
   "metadata": {},
   "source": [
    "# Separate your data into data, labels, training, testing, and scale it"
   ]
  },
  {
   "cell_type": "code",
   "execution_count": 24,
   "id": "0f0c7e5b",
   "metadata": {},
   "outputs": [],
   "source": [
    "########################## TRAIN DATA ##########################\n",
    "# Separate the x's and the y's\n",
    "X = torch.Tensor([i[0] for i in training_data]).view(-1, 1, IMG_SIZE, IMG_SIZE)\n",
    "\n",
    "# Scale the images. The pixel values are between 0-255, but we want them to be between 0-1\n",
    "X = X/255.0\n",
    "\n",
    "# Get your y's\n",
    "y = torch.Tensor([i[1] for i in training_data])\n",
    "\n",
    "########################## TEST DATA ##########################\n",
    "# Separate the x's and the y's\n",
    "# X_test = torch.Tensor([i[0] for i in test_data]).view(-1, 1, IMG_SIZE, IMG_SIZE)\n",
    "\n",
    "# Scale the images. The pixel values are between 0-255, but we want them to be between 0-1\n",
    "# X_test = X_test/255.0\n",
    "\n",
    "# Get your y's\n",
    "# y_test = torch.Tensor([i[1] for i in test_data])"
   ]
  },
  {
   "cell_type": "code",
   "execution_count": 25,
   "id": "89c85cf5",
   "metadata": {},
   "outputs": [],
   "source": [
    "# Set your validation data percentage\n",
    "VAL_PCT = 0.1\n",
    "val_size = int(len(X)*VAL_PCT)"
   ]
  },
  {
   "cell_type": "code",
   "execution_count": 26,
   "id": "2a0d579b",
   "metadata": {},
   "outputs": [],
   "source": [
    "# Define your training data\n",
    "train_X = X[:-val_size]\n",
    "train_y = y[:-val_size]\n",
    "# train_X = X\n",
    "# train_y = y\n",
    "\n",
    "# Define your testing (validation) data\n",
    "test_X = X[-val_size:]\n",
    "test_y = y[-val_size:]\n",
    "# test_X = X_test\n",
    "# test_y = y_test"
   ]
  },
  {
   "cell_type": "markdown",
   "id": "de35d227",
   "metadata": {},
   "source": [
    "# Federated Learning"
   ]
  },
  {
   "cell_type": "markdown",
   "id": "e3db25ed",
   "metadata": {},
   "source": [
    "## Establish the virtual workers, their data, their NNs, and their optimizers"
   ]
  },
  {
   "cell_type": "code",
   "execution_count": 27,
   "id": "13dfcdc9",
   "metadata": {},
   "outputs": [],
   "source": [
    "# Start the hook\n",
    "hook = sy.TorchHook(torch)\n",
    "\n",
    "# Create your virtual workers\n",
    "worker1 = sy.VirtualWorker(hook, id=\"worker1\")\n",
    "worker2 = sy.VirtualWorker(hook, id=\"worker2\")\n",
    "worker3 = sy.VirtualWorker(hook, id=\"worker3\")\n",
    "\n",
    "compute_nodes = [worker1, worker2, worker3]"
   ]
  },
  {
   "cell_type": "code",
   "execution_count": 28,
   "id": "07e0924d",
   "metadata": {},
   "outputs": [],
   "source": [
    "train_X_worker1 = train_X[:int(len(train_X)/len(compute_nodes))].view(-1, 1, IMG_SIZE, IMG_SIZE)\n",
    "train_X_worker2 = train_X[int(len(train_X)/len(compute_nodes)):int(2 * len(train_X)/len(compute_nodes))].view(-1, 1, IMG_SIZE, IMG_SIZE)\n",
    "train_X_worker3 = train_X[int(2 * len(train_X)/len(compute_nodes)):int(3 * len(train_X)/len(compute_nodes))].view(-1, 1, IMG_SIZE, IMG_SIZE)\n",
    "\n",
    "train_y_worker1 = train_y[:int(len(train_X)/len(compute_nodes))]\n",
    "train_y_worker2 = train_y[int(len(train_X)/len(compute_nodes)):int(2 * len(train_X)/len(compute_nodes))]\n",
    "train_y_worker3 = train_y[int(2 * len(train_X)/len(compute_nodes)):int(3 * len(train_X)/len(compute_nodes))]"
   ]
  },
  {
   "cell_type": "code",
   "execution_count": 29,
   "id": "0de094c3",
   "metadata": {},
   "outputs": [
    {
     "data": {
      "text/plain": [
       "<VirtualWorker id:worker3 #objects:0>"
      ]
     },
     "execution_count": 29,
     "metadata": {},
     "output_type": "execute_result"
    }
   ],
   "source": [
    "# Clear the workers of any objects, just in case you forgot some were still there from a previous run\n",
    "worker1.clear_objects()\n",
    "worker2.clear_objects()\n",
    "worker3.clear_objects()"
   ]
  },
  {
   "cell_type": "code",
   "execution_count": 30,
   "id": "007a99f4",
   "metadata": {},
   "outputs": [],
   "source": [
    "# # Establish the NN model for each worker. This is model-centric FL, so it is the same model for all workers\n",
    "worker1_model = model.copy()\n",
    "worker2_model = model.copy()\n",
    "worker3_model = model.copy()\n",
    "\n",
    "# # Establish the optimizer for each worker\n",
    "worker1_optimizer = optim.SGD(worker1_model.parameters(), lr=LR)\n",
    "worker2_optimizer = optim.SGD(worker2_model.parameters(), lr=LR)\n",
    "worker3_optimizer = optim.SGD(worker3_model.parameters(), lr=LR)"
   ]
  },
  {
   "cell_type": "code",
   "execution_count": 31,
   "id": "e426e3f5",
   "metadata": {},
   "outputs": [],
   "source": [
    "# # Organize the models and optimizers into lists\n",
    "models = [worker1_model, worker2_model, worker3_model]\n",
    "optimizers = [worker1_optimizer, worker2_optimizer, worker3_optimizer]"
   ]
  },
  {
   "cell_type": "markdown",
   "id": "dfb91f4e",
   "metadata": {},
   "source": [
    "## Functions used for Training"
   ]
  },
  {
   "cell_type": "code",
   "execution_count": 32,
   "id": "7ddc1ae8",
   "metadata": {},
   "outputs": [],
   "source": [
    "def train():\n",
    "    batch_count = 0\n",
    "    total_epoch_time = 0\n",
    "    batch_times = []\n",
    "    for i in tqdm(range(0, int(len(train_X)/len(compute_nodes)), BATCH_SIZE)):\n",
    "        \n",
    "        # Send the models to the worker. This step is not necessary in real life, as this is only done once. \n",
    "        # However, because the .rm_obj() method is not working to remove the batches at the end of each loop,\n",
    "        # we are forced to remove ALL objects from each worker, including the models, so the batches don't\n",
    "        # constantly add up, consuming more memory each time!\n",
    "        worker1_model.send(worker1)\n",
    "        worker2_model.send(worker2)\n",
    "        worker3_model.send(worker3)\n",
    "        \n",
    "        # Get the batches for each of the workers\n",
    "        batch_X_1 = train_X_worker1[i : i + BATCH_SIZE]\n",
    "        batch_y_1 = train_y_worker1[i : i + BATCH_SIZE]\n",
    "        \n",
    "        batch_X_2 = train_X_worker2[i : i + BATCH_SIZE]\n",
    "        batch_y_2 = train_y_worker2[i : i + BATCH_SIZE]\n",
    "        \n",
    "        batch_X_3 = train_X_worker3[i : i + BATCH_SIZE]\n",
    "        batch_y_3 = train_y_worker3[i : i + BATCH_SIZE]\n",
    "#         print(\"Got the batches for all workers (not sent yet)\")\n",
    "        \n",
    "        # Send the data and labels to each of the workers. This does not have to be done in real life, but \n",
    "        # must be done in this simulation\n",
    "        batch_X_1 = batch_X_1.send(worker1)\n",
    "        batch_y_1 = batch_y_1.send(worker1)\n",
    "        \n",
    "        batch_X_2 = batch_X_2.send(worker2)\n",
    "        batch_y_2 = batch_y_2.send(worker2)\n",
    "        \n",
    "        batch_X_3 = batch_X_3.send(worker3)\n",
    "        batch_y_3 = batch_y_3.send(worker3)\n",
    "#         print(\"Sent the batches for all workers\")\n",
    "        \n",
    "        # Train the models\n",
    "        # The following in real life would be done in parallel\n",
    "        FP_start_time = time.time()\n",
    "        pred1 = worker1_model(batch_X_1)\n",
    "        pred2 = worker2_model(batch_X_2)\n",
    "        pred3 = worker3_model(batch_X_3)\n",
    "        FP_end_time = (time.time() - FP_start_time)/len(compute_nodes)\n",
    "#         print(\"FP time = \", round(FP_end_time, 4), \" s\")\n",
    "#         print(\"Trained the models for all workers\")\n",
    "        \n",
    "        # Calculate the loss functions\n",
    "        BP_start_time = time.time()\n",
    "        loss1 = loss_function(pred1, batch_y_1)\n",
    "        loss2 = loss_function(pred2, batch_y_2)\n",
    "        loss3 = loss_function(pred3, batch_y_3)\n",
    "#         print(\"Calculates the loss function for all workers\")\n",
    "        \n",
    "        # Do the backwards pass\n",
    "        loss1.backward()\n",
    "        loss2.backward()\n",
    "        loss3.backward()\n",
    "#         print(\"Did the backwards propagation on all workers\")\n",
    "        \n",
    "        # Update the weights\n",
    "        worker1_optimizer.step()\n",
    "        worker2_optimizer.step()\n",
    "        worker3_optimizer.step()\n",
    "        BP_end_time = (time.time() - BP_start_time)/len(compute_nodes)\n",
    "#         print(\"BP time = \", round(BP_end_time, 4), \" s\")\n",
    "        \n",
    "        total_batch_time = FP_end_time + BP_end_time\n",
    "        batch_times.append(total_batch_time)\n",
    "        total_epoch_time += total_batch_time\n",
    "#         print(\"Total time for this batch = \", round(total_batch_time, 4), \" s \\n \\n\")\n",
    "#         print(\"Updated all the weights for all workers\")\n",
    "            \n",
    "        # Save the total training time for this batch\n",
    "    \n",
    "        # Get the models back from the workers\n",
    "        worker1_model.get()\n",
    "        worker2_model.get()\n",
    "        worker3_model.get()\n",
    "        \n",
    "        # Clear all batches from worker before next batch comes\n",
    "        worker1.clear_objects()\n",
    "        worker2.clear_objects()\n",
    "        worker3.clear_objects()\n",
    "#         print(\"Successfully finished training of all workers for batch \", counter)\n",
    "#         batch_count += 1\n",
    "#         if batch_count == 25:\n",
    "#             break\n",
    "        \n",
    "    # OUTSIDE THE FOR LOOP: After all workers are done training...\n",
    "    # Calculate the federated average and save the new model in \"fed_avg\"\n",
    "    fed_start_time = time.time()\n",
    "    fed_avg = utils.federated_avg({\n",
    "        \"worker1\": worker1_model,\n",
    "        \"worker2\": worker2_model,\n",
    "        \"worker3\": worker3_model\n",
    "    })\n",
    "    fed_end_time = time.time() - fed_start_time\n",
    "    total_epoch_time += fed_end_time\n",
    "    print(\"TOTAL TIME FOR THIS EPOCH: \", round(total_epoch_time, 4), \" s \\n\")\n",
    "    \n",
    "    # Return the new fed_avg\n",
    "#     print(\"Obtained the federated model!\")\n",
    "    return fed_avg, batch_times, total_epoch_time"
   ]
  },
  {
   "cell_type": "markdown",
   "id": "af67e2ba",
   "metadata": {},
   "source": [
    "## Function used for testing"
   ]
  },
  {
   "cell_type": "code",
   "execution_count": 33,
   "id": "8cda5f58",
   "metadata": {},
   "outputs": [],
   "source": [
    "def test(federated_model):\n",
    "    \n",
    "    # Calculate the accuracy\n",
    "    correct = 0\n",
    "    total = 0\n",
    "\n",
    "    # Do not update your gradients while testing\n",
    "    with torch.no_grad():\n",
    "        print(\"Initiated federated model testing:\")\n",
    "        for i in tqdm(range(len(test_X))):\n",
    "            \n",
    "            # Put the model into evaluation mode so it does not update its gradients during this test\n",
    "            federated_model.eval()\n",
    "\n",
    "            # Obtain the real class for the sample\n",
    "            real_class = torch.argmax(test_y[i])\n",
    "\n",
    "            # Obtain our prediction for said sample (not arg_maxed yet)\n",
    "            output = federated_model(test_X[i].view(-1, 1, IMG_SIZE, IMG_SIZE))[0]\n",
    "\n",
    "            # Obtain our arg_maxed prediction for said sample\n",
    "            predicted_class = torch.argmax(output)\n",
    "\n",
    "            # Update counters\n",
    "            if predicted_class == real_class:\n",
    "                correct += 1\n",
    "            total += 1\n",
    "\n",
    "    print(\"Accuracy of the federated model = \", round(correct/total, 3), \"\\n \\n\")"
   ]
  },
  {
   "cell_type": "markdown",
   "id": "0155abd1",
   "metadata": {},
   "source": [
    "# RUN THE MODEL"
   ]
  },
  {
   "cell_type": "code",
   "execution_count": 34,
   "id": "cbafdd9f",
   "metadata": {
    "scrolled": false
   },
   "outputs": [
    {
     "name": "stderr",
     "output_type": "stream",
     "text": [
      "100%|██████████| 75/75 [10:01<00:00,  8.02s/it]\n"
     ]
    },
    {
     "name": "stdout",
     "output_type": "stream",
     "text": [
      "TOTAL TIME FOR THIS EPOCH:  10.3214  s \n",
      "\n",
      "Initiated federated model testing:\n"
     ]
    },
    {
     "name": "stderr",
     "output_type": "stream",
     "text": [
      "100%|██████████| 2494/2494 [00:05<00:00, 445.07it/s]\n"
     ]
    },
    {
     "name": "stdout",
     "output_type": "stream",
     "text": [
      "Accuracy of the federated model =  0.505 \n",
      " \n",
      "\n"
     ]
    },
    {
     "name": "stderr",
     "output_type": "stream",
     "text": [
      "  7%|▋         | 5/75 [00:42<09:56,  8.53s/it]\n"
     ]
    },
    {
     "ename": "KeyboardInterrupt",
     "evalue": "",
     "output_type": "error",
     "traceback": [
      "\u001b[0;31m---------------------------------------------------------------------------\u001b[0m",
      "\u001b[0;31mKeyboardInterrupt\u001b[0m                         Traceback (most recent call last)",
      "\u001b[0;32m<ipython-input-34-58493ba4e9d6>\u001b[0m in \u001b[0;36m<module>\u001b[0;34m\u001b[0m\n\u001b[1;32m     12\u001b[0m     \u001b[0;31m# Train the individual models, and then obtain the federated averaged model\u001b[0m\u001b[0;34m\u001b[0m\u001b[0;34m\u001b[0m\u001b[0;34m\u001b[0m\u001b[0m\n\u001b[1;32m     13\u001b[0m \u001b[0;31m#     train_start_time = time.time()\u001b[0m\u001b[0;34m\u001b[0m\u001b[0;34m\u001b[0m\u001b[0;34m\u001b[0m\u001b[0m\n\u001b[0;32m---> 14\u001b[0;31m     \u001b[0mfederated_model\u001b[0m\u001b[0;34m,\u001b[0m \u001b[0mbatch_times\u001b[0m\u001b[0;34m,\u001b[0m \u001b[0mepoch_time\u001b[0m \u001b[0;34m=\u001b[0m \u001b[0mtrain\u001b[0m\u001b[0;34m(\u001b[0m\u001b[0;34m)\u001b[0m\u001b[0;34m\u001b[0m\u001b[0;34m\u001b[0m\u001b[0m\n\u001b[0m\u001b[1;32m     15\u001b[0m \u001b[0;34m\u001b[0m\u001b[0m\n\u001b[1;32m     16\u001b[0m     \u001b[0;31m# Save your current epoch time\u001b[0m\u001b[0;34m\u001b[0m\u001b[0;34m\u001b[0m\u001b[0;34m\u001b[0m\u001b[0m\n",
      "\u001b[0;32m<ipython-input-32-94aae230adf4>\u001b[0m in \u001b[0;36mtrain\u001b[0;34m()\u001b[0m\n\u001b[1;32m     26\u001b[0m         \u001b[0;31m# Send the data and labels to each of the workers. This does not have to be done in real life, but\u001b[0m\u001b[0;34m\u001b[0m\u001b[0;34m\u001b[0m\u001b[0;34m\u001b[0m\u001b[0m\n\u001b[1;32m     27\u001b[0m         \u001b[0;31m# must be done in this simulation\u001b[0m\u001b[0;34m\u001b[0m\u001b[0;34m\u001b[0m\u001b[0;34m\u001b[0m\u001b[0m\n\u001b[0;32m---> 28\u001b[0;31m         \u001b[0mbatch_X_1\u001b[0m \u001b[0;34m=\u001b[0m \u001b[0mbatch_X_1\u001b[0m\u001b[0;34m.\u001b[0m\u001b[0msend\u001b[0m\u001b[0;34m(\u001b[0m\u001b[0mworker1\u001b[0m\u001b[0;34m)\u001b[0m\u001b[0;34m\u001b[0m\u001b[0;34m\u001b[0m\u001b[0m\n\u001b[0m\u001b[1;32m     29\u001b[0m         \u001b[0mbatch_y_1\u001b[0m \u001b[0;34m=\u001b[0m \u001b[0mbatch_y_1\u001b[0m\u001b[0;34m.\u001b[0m\u001b[0msend\u001b[0m\u001b[0;34m(\u001b[0m\u001b[0mworker1\u001b[0m\u001b[0;34m)\u001b[0m\u001b[0;34m\u001b[0m\u001b[0;34m\u001b[0m\u001b[0m\n\u001b[1;32m     30\u001b[0m \u001b[0;34m\u001b[0m\u001b[0m\n",
      "\u001b[0;32m~/anaconda3/envs/PySyft_SLU/lib/python3.7/site-packages/syft/generic/abstract/hookable.py\u001b[0m in \u001b[0;36mhooked_method\u001b[0;34m(self, *args, **kwargs)\u001b[0m\n\u001b[1;32m     39\u001b[0m     \u001b[0;32mdef\u001b[0m \u001b[0mhooked_method\u001b[0m\u001b[0;34m(\u001b[0m\u001b[0mself\u001b[0m\u001b[0;34m,\u001b[0m \u001b[0;34m*\u001b[0m\u001b[0margs\u001b[0m\u001b[0;34m,\u001b[0m \u001b[0;34m**\u001b[0m\u001b[0mkwargs\u001b[0m\u001b[0;34m)\u001b[0m\u001b[0;34m:\u001b[0m\u001b[0;34m\u001b[0m\u001b[0;34m\u001b[0m\u001b[0m\n\u001b[1;32m     40\u001b[0m         \u001b[0mmap_chain_call\u001b[0m\u001b[0;34m(\u001b[0m\u001b[0mself\u001b[0m\u001b[0;34m,\u001b[0m \u001b[0;34mf\"_before_{method_name}\"\u001b[0m\u001b[0;34m,\u001b[0m \u001b[0;34m*\u001b[0m\u001b[0margs\u001b[0m\u001b[0;34m,\u001b[0m \u001b[0;34m**\u001b[0m\u001b[0mkwargs\u001b[0m\u001b[0;34m)\u001b[0m\u001b[0;34m\u001b[0m\u001b[0;34m\u001b[0m\u001b[0m\n\u001b[0;32m---> 41\u001b[0;31m         \u001b[0mreturn_val\u001b[0m \u001b[0;34m=\u001b[0m \u001b[0mhookable_method\u001b[0m\u001b[0;34m(\u001b[0m\u001b[0mself\u001b[0m\u001b[0;34m,\u001b[0m \u001b[0;34m*\u001b[0m\u001b[0margs\u001b[0m\u001b[0;34m,\u001b[0m \u001b[0;34m**\u001b[0m\u001b[0mkwargs\u001b[0m\u001b[0;34m)\u001b[0m\u001b[0;34m\u001b[0m\u001b[0;34m\u001b[0m\u001b[0m\n\u001b[0m\u001b[1;32m     42\u001b[0m         \u001b[0mreturn_val\u001b[0m \u001b[0;34m=\u001b[0m \u001b[0mreduce_chain_call\u001b[0m\u001b[0;34m(\u001b[0m\u001b[0mself\u001b[0m\u001b[0;34m,\u001b[0m \u001b[0;34mf\"_after_{method_name}\"\u001b[0m\u001b[0;34m,\u001b[0m \u001b[0mreturn_val\u001b[0m\u001b[0;34m,\u001b[0m \u001b[0;34m*\u001b[0m\u001b[0margs\u001b[0m\u001b[0;34m,\u001b[0m \u001b[0;34m**\u001b[0m\u001b[0mkwargs\u001b[0m\u001b[0;34m)\u001b[0m\u001b[0;34m\u001b[0m\u001b[0;34m\u001b[0m\u001b[0m\n\u001b[1;32m     43\u001b[0m         \u001b[0;32mreturn\u001b[0m \u001b[0mreturn_val\u001b[0m\u001b[0;34m\u001b[0m\u001b[0;34m\u001b[0m\u001b[0m\n",
      "\u001b[0;32m~/anaconda3/envs/PySyft_SLU/lib/python3.7/site-packages/syft/frameworks/torch/tensors/interpreters/native.py\u001b[0m in \u001b[0;36msend\u001b[0;34m(self, inplace, user, local_autograd, requires_grad, preinitialize_grad, no_wrap, garbage_collect_data, *location)\u001b[0m\n\u001b[1;32m    488\u001b[0m                 \u001b[0mrequires_grad\u001b[0m\u001b[0;34m=\u001b[0m\u001b[0mrequires_grad\u001b[0m\u001b[0;34m,\u001b[0m\u001b[0;34m\u001b[0m\u001b[0;34m\u001b[0m\u001b[0m\n\u001b[1;32m    489\u001b[0m                 \u001b[0mpreinitialize_grad\u001b[0m\u001b[0;34m=\u001b[0m\u001b[0mpreinitialize_grad\u001b[0m\u001b[0;34m,\u001b[0m\u001b[0;34m\u001b[0m\u001b[0;34m\u001b[0m\u001b[0m\n\u001b[0;32m--> 490\u001b[0;31m                 \u001b[0mgarbage_collect_data\u001b[0m\u001b[0;34m=\u001b[0m\u001b[0mgarbage_collect_data\u001b[0m\u001b[0;34m,\u001b[0m\u001b[0;34m\u001b[0m\u001b[0;34m\u001b[0m\u001b[0m\n\u001b[0m\u001b[1;32m    491\u001b[0m             )\n\u001b[1;32m    492\u001b[0m \u001b[0;34m\u001b[0m\u001b[0m\n",
      "\u001b[0;32m~/anaconda3/envs/PySyft_SLU/lib/python3.7/site-packages/syft/workers/base.py\u001b[0m in \u001b[0;36msend\u001b[0;34m(self, obj, workers, ptr_id, garbage_collect_data, requires_grad, create_pointer, **kwargs)\u001b[0m\n\u001b[1;32m    429\u001b[0m \u001b[0;34m\u001b[0m\u001b[0m\n\u001b[1;32m    430\u001b[0m         \u001b[0;31m# Send the object\u001b[0m\u001b[0;34m\u001b[0m\u001b[0;34m\u001b[0m\u001b[0;34m\u001b[0m\u001b[0m\n\u001b[0;32m--> 431\u001b[0;31m         \u001b[0mself\u001b[0m\u001b[0;34m.\u001b[0m\u001b[0msend_obj\u001b[0m\u001b[0;34m(\u001b[0m\u001b[0mobj\u001b[0m\u001b[0;34m,\u001b[0m \u001b[0mworker\u001b[0m\u001b[0;34m)\u001b[0m\u001b[0;34m\u001b[0m\u001b[0;34m\u001b[0m\u001b[0m\n\u001b[0m\u001b[1;32m    432\u001b[0m \u001b[0;34m\u001b[0m\u001b[0m\n\u001b[1;32m    433\u001b[0m         \u001b[0;32mif\u001b[0m \u001b[0mrequires_grad\u001b[0m\u001b[0;34m:\u001b[0m\u001b[0;34m\u001b[0m\u001b[0;34m\u001b[0m\u001b[0m\n",
      "\u001b[0;32m~/anaconda3/envs/PySyft_SLU/lib/python3.7/site-packages/syft/workers/base.py\u001b[0m in \u001b[0;36msend_obj\u001b[0;34m(self, obj, location)\u001b[0m\n\u001b[1;32m    587\u001b[0m                 \u001b[0mreceive\u001b[0m \u001b[0mthe\u001b[0m \u001b[0mobject\u001b[0m\u001b[0;34m.\u001b[0m\u001b[0;34m\u001b[0m\u001b[0;34m\u001b[0m\u001b[0m\n\u001b[1;32m    588\u001b[0m         \"\"\"\n\u001b[0;32m--> 589\u001b[0;31m         \u001b[0;32mreturn\u001b[0m \u001b[0mself\u001b[0m\u001b[0;34m.\u001b[0m\u001b[0msend_msg\u001b[0m\u001b[0;34m(\u001b[0m\u001b[0mObjectMessage\u001b[0m\u001b[0;34m(\u001b[0m\u001b[0mobj\u001b[0m\u001b[0;34m)\u001b[0m\u001b[0;34m,\u001b[0m \u001b[0mlocation\u001b[0m\u001b[0;34m)\u001b[0m\u001b[0;34m\u001b[0m\u001b[0;34m\u001b[0m\u001b[0m\n\u001b[0m\u001b[1;32m    590\u001b[0m \u001b[0;34m\u001b[0m\u001b[0m\n\u001b[1;32m    591\u001b[0m     def request_obj(\n",
      "\u001b[0;32m~/anaconda3/envs/PySyft_SLU/lib/python3.7/site-packages/syft/workers/base.py\u001b[0m in \u001b[0;36msend_msg\u001b[0;34m(self, message, location)\u001b[0m\n\u001b[1;32m    314\u001b[0m \u001b[0;34m\u001b[0m\u001b[0m\n\u001b[1;32m    315\u001b[0m         \u001b[0;31m# Step 2: send the message and wait for a response\u001b[0m\u001b[0;34m\u001b[0m\u001b[0;34m\u001b[0m\u001b[0;34m\u001b[0m\u001b[0m\n\u001b[0;32m--> 316\u001b[0;31m         \u001b[0mbin_response\u001b[0m \u001b[0;34m=\u001b[0m \u001b[0mself\u001b[0m\u001b[0;34m.\u001b[0m\u001b[0m_send_msg\u001b[0m\u001b[0;34m(\u001b[0m\u001b[0mbin_message\u001b[0m\u001b[0;34m,\u001b[0m \u001b[0mlocation\u001b[0m\u001b[0;34m)\u001b[0m\u001b[0;34m\u001b[0m\u001b[0;34m\u001b[0m\u001b[0m\n\u001b[0m\u001b[1;32m    317\u001b[0m \u001b[0;34m\u001b[0m\u001b[0m\n\u001b[1;32m    318\u001b[0m         \u001b[0;31m# Step 3: deserialize the response\u001b[0m\u001b[0;34m\u001b[0m\u001b[0;34m\u001b[0m\u001b[0;34m\u001b[0m\u001b[0m\n",
      "\u001b[0;32m~/anaconda3/envs/PySyft_SLU/lib/python3.7/site-packages/syft/workers/virtual.py\u001b[0m in \u001b[0;36m_send_msg\u001b[0;34m(self, message, location)\u001b[0m\n\u001b[1;32m     10\u001b[0m         \u001b[0;34m\"\"\"send message to worker location\"\"\"\u001b[0m\u001b[0;34m\u001b[0m\u001b[0;34m\u001b[0m\u001b[0m\n\u001b[1;32m     11\u001b[0m \u001b[0;34m\u001b[0m\u001b[0m\n\u001b[0;32m---> 12\u001b[0;31m         \u001b[0;32mreturn\u001b[0m \u001b[0mlocation\u001b[0m\u001b[0;34m.\u001b[0m\u001b[0m_recv_msg\u001b[0m\u001b[0;34m(\u001b[0m\u001b[0mmessage\u001b[0m\u001b[0;34m)\u001b[0m\u001b[0;34m\u001b[0m\u001b[0;34m\u001b[0m\u001b[0m\n\u001b[0m\u001b[1;32m     13\u001b[0m \u001b[0;34m\u001b[0m\u001b[0m\n\u001b[1;32m     14\u001b[0m     \u001b[0;32mdef\u001b[0m \u001b[0m_recv_msg\u001b[0m\u001b[0;34m(\u001b[0m\u001b[0mself\u001b[0m\u001b[0;34m,\u001b[0m \u001b[0mmessage\u001b[0m\u001b[0;34m:\u001b[0m \u001b[0mbin\u001b[0m\u001b[0;34m)\u001b[0m \u001b[0;34m->\u001b[0m \u001b[0mbin\u001b[0m\u001b[0;34m:\u001b[0m\u001b[0;34m\u001b[0m\u001b[0;34m\u001b[0m\u001b[0m\n",
      "\u001b[0;32m~/anaconda3/envs/PySyft_SLU/lib/python3.7/site-packages/syft/workers/virtual.py\u001b[0m in \u001b[0;36m_recv_msg\u001b[0;34m(self, message)\u001b[0m\n\u001b[1;32m     20\u001b[0m             \u001b[0msleep\u001b[0m\u001b[0;34m(\u001b[0m\u001b[0mself\u001b[0m\u001b[0;34m.\u001b[0m\u001b[0mmessage_pending_time\u001b[0m\u001b[0;34m)\u001b[0m\u001b[0;34m\u001b[0m\u001b[0;34m\u001b[0m\u001b[0m\n\u001b[1;32m     21\u001b[0m \u001b[0;34m\u001b[0m\u001b[0m\n\u001b[0;32m---> 22\u001b[0;31m         \u001b[0;32mreturn\u001b[0m \u001b[0mself\u001b[0m\u001b[0;34m.\u001b[0m\u001b[0mrecv_msg\u001b[0m\u001b[0;34m(\u001b[0m\u001b[0mmessage\u001b[0m\u001b[0;34m)\u001b[0m\u001b[0;34m\u001b[0m\u001b[0;34m\u001b[0m\u001b[0m\n\u001b[0m\u001b[1;32m     23\u001b[0m \u001b[0;34m\u001b[0m\u001b[0m\n\u001b[1;32m     24\u001b[0m     \u001b[0;31m# For backwards compatibility with Udacity course\u001b[0m\u001b[0;34m\u001b[0m\u001b[0;34m\u001b[0m\u001b[0;34m\u001b[0m\u001b[0m\n",
      "\u001b[0;32m~/anaconda3/envs/PySyft_SLU/lib/python3.7/site-packages/syft/workers/base.py\u001b[0m in \u001b[0;36mrecv_msg\u001b[0;34m(self, bin_message)\u001b[0m\n\u001b[1;32m    336\u001b[0m         \"\"\"\n\u001b[1;32m    337\u001b[0m         \u001b[0;31m# Step 0: deserialize message\u001b[0m\u001b[0;34m\u001b[0m\u001b[0;34m\u001b[0m\u001b[0;34m\u001b[0m\u001b[0m\n\u001b[0;32m--> 338\u001b[0;31m         \u001b[0mmsg\u001b[0m \u001b[0;34m=\u001b[0m \u001b[0msy\u001b[0m\u001b[0;34m.\u001b[0m\u001b[0mserde\u001b[0m\u001b[0;34m.\u001b[0m\u001b[0mdeserialize\u001b[0m\u001b[0;34m(\u001b[0m\u001b[0mbin_message\u001b[0m\u001b[0;34m,\u001b[0m \u001b[0mworker\u001b[0m\u001b[0;34m=\u001b[0m\u001b[0mself\u001b[0m\u001b[0;34m)\u001b[0m\u001b[0;34m\u001b[0m\u001b[0;34m\u001b[0m\u001b[0m\n\u001b[0m\u001b[1;32m    339\u001b[0m \u001b[0;34m\u001b[0m\u001b[0m\n\u001b[1;32m    340\u001b[0m         \u001b[0;31m# Step 1: save message and/or log it out\u001b[0m\u001b[0;34m\u001b[0m\u001b[0;34m\u001b[0m\u001b[0;34m\u001b[0m\u001b[0m\n",
      "\u001b[0;32m~/anaconda3/envs/PySyft_SLU/lib/python3.7/site-packages/syft/serde/serde.py\u001b[0m in \u001b[0;36mdeserialize\u001b[0;34m(binary, worker, strategy)\u001b[0m\n\u001b[1;32m     76\u001b[0m         \u001b[0mstrategy\u001b[0m \u001b[0;34m=\u001b[0m \u001b[0mmsgpack_deserialize\u001b[0m\u001b[0;34m\u001b[0m\u001b[0;34m\u001b[0m\u001b[0m\n\u001b[1;32m     77\u001b[0m \u001b[0;34m\u001b[0m\u001b[0m\n\u001b[0;32m---> 78\u001b[0;31m     \u001b[0;32mreturn\u001b[0m \u001b[0mstrategy\u001b[0m\u001b[0;34m(\u001b[0m\u001b[0mbinary\u001b[0m\u001b[0;34m,\u001b[0m \u001b[0mworker\u001b[0m\u001b[0;34m)\u001b[0m\u001b[0;34m\u001b[0m\u001b[0;34m\u001b[0m\u001b[0m\n\u001b[0m",
      "\u001b[0;32m~/anaconda3/envs/PySyft_SLU/lib/python3.7/site-packages/syft/serde/msgpack/serde.py\u001b[0m in \u001b[0;36mdeserialize\u001b[0;34m(binary, worker)\u001b[0m\n\u001b[1;32m    380\u001b[0m         \u001b[0mworker\u001b[0m \u001b[0;34m=\u001b[0m \u001b[0msyft\u001b[0m\u001b[0;34m.\u001b[0m\u001b[0mframework\u001b[0m\u001b[0;34m.\u001b[0m\u001b[0mhook\u001b[0m\u001b[0;34m.\u001b[0m\u001b[0mlocal_worker\u001b[0m\u001b[0;34m\u001b[0m\u001b[0;34m\u001b[0m\u001b[0m\n\u001b[1;32m    381\u001b[0m \u001b[0;34m\u001b[0m\u001b[0m\n\u001b[0;32m--> 382\u001b[0;31m     \u001b[0msimple_objects\u001b[0m \u001b[0;34m=\u001b[0m \u001b[0m_deserialize_msgpack_binary\u001b[0m\u001b[0;34m(\u001b[0m\u001b[0mbinary\u001b[0m\u001b[0;34m,\u001b[0m \u001b[0mworker\u001b[0m\u001b[0;34m)\u001b[0m\u001b[0;34m\u001b[0m\u001b[0;34m\u001b[0m\u001b[0m\n\u001b[0m\u001b[1;32m    383\u001b[0m     \u001b[0;32mreturn\u001b[0m \u001b[0m_deserialize_msgpack_simple\u001b[0m\u001b[0;34m(\u001b[0m\u001b[0msimple_objects\u001b[0m\u001b[0;34m,\u001b[0m \u001b[0mworker\u001b[0m\u001b[0;34m)\u001b[0m\u001b[0;34m\u001b[0m\u001b[0;34m\u001b[0m\u001b[0m\n\u001b[1;32m    384\u001b[0m \u001b[0;34m\u001b[0m\u001b[0m\n",
      "\u001b[0;32m~/anaconda3/envs/PySyft_SLU/lib/python3.7/site-packages/syft/serde/msgpack/serde.py\u001b[0m in \u001b[0;36m_deserialize_msgpack_binary\u001b[0;34m(binary, worker)\u001b[0m\n\u001b[1;32m    350\u001b[0m \u001b[0;34m\u001b[0m\u001b[0m\n\u001b[1;32m    351\u001b[0m     \u001b[0;31m# 1) Decompress the binary if needed\u001b[0m\u001b[0;34m\u001b[0m\u001b[0;34m\u001b[0m\u001b[0;34m\u001b[0m\u001b[0m\n\u001b[0;32m--> 352\u001b[0;31m     \u001b[0mbinary\u001b[0m \u001b[0;34m=\u001b[0m \u001b[0mcompression\u001b[0m\u001b[0;34m.\u001b[0m\u001b[0m_decompress\u001b[0m\u001b[0;34m(\u001b[0m\u001b[0mbinary\u001b[0m\u001b[0;34m)\u001b[0m\u001b[0;34m\u001b[0m\u001b[0;34m\u001b[0m\u001b[0m\n\u001b[0m\u001b[1;32m    353\u001b[0m \u001b[0;34m\u001b[0m\u001b[0m\n\u001b[1;32m    354\u001b[0m     \u001b[0;31m# 2) Deserialize\u001b[0m\u001b[0;34m\u001b[0m\u001b[0;34m\u001b[0m\u001b[0;34m\u001b[0m\u001b[0m\n",
      "\u001b[0;32m~/anaconda3/envs/PySyft_SLU/lib/python3.7/site-packages/syft/serde/compression.py\u001b[0m in \u001b[0;36m_decompress\u001b[0;34m(binary)\u001b[0m\n\u001b[1;32m    125\u001b[0m     \u001b[0;31m# 1)  Decompress or return the original stream\u001b[0m\u001b[0;34m\u001b[0m\u001b[0;34m\u001b[0m\u001b[0;34m\u001b[0m\u001b[0m\n\u001b[1;32m    126\u001b[0m     \u001b[0;32mif\u001b[0m \u001b[0mcompress_scheme\u001b[0m \u001b[0;34m==\u001b[0m \u001b[0mLZ4\u001b[0m\u001b[0;34m:\u001b[0m\u001b[0;34m\u001b[0m\u001b[0;34m\u001b[0m\u001b[0m\n\u001b[0;32m--> 127\u001b[0;31m         \u001b[0;32mreturn\u001b[0m \u001b[0mlz4\u001b[0m\u001b[0;34m.\u001b[0m\u001b[0mframe\u001b[0m\u001b[0;34m.\u001b[0m\u001b[0mdecompress\u001b[0m\u001b[0;34m(\u001b[0m\u001b[0mbinary\u001b[0m\u001b[0;34m)\u001b[0m\u001b[0;34m\u001b[0m\u001b[0;34m\u001b[0m\u001b[0m\n\u001b[0m\u001b[1;32m    128\u001b[0m     \u001b[0;32melif\u001b[0m \u001b[0mcompress_scheme\u001b[0m \u001b[0;34m==\u001b[0m \u001b[0mZLIB\u001b[0m\u001b[0;34m:\u001b[0m\u001b[0;34m\u001b[0m\u001b[0;34m\u001b[0m\u001b[0m\n\u001b[1;32m    129\u001b[0m         \u001b[0;32mreturn\u001b[0m \u001b[0mzlib\u001b[0m\u001b[0;34m.\u001b[0m\u001b[0mdecompress\u001b[0m\u001b[0;34m(\u001b[0m\u001b[0mbinary\u001b[0m\u001b[0;34m)\u001b[0m\u001b[0;34m\u001b[0m\u001b[0;34m\u001b[0m\u001b[0m\n",
      "\u001b[0;31mKeyboardInterrupt\u001b[0m: "
     ]
    }
   ],
   "source": [
    "# Define your number of epochs\n",
    "epochs = 5\n",
    "epoch_times = []\n",
    "\n",
    "# Train all workers for the set number of epochs\n",
    "for epoch in range(epochs):\n",
    "    \n",
    "    # Start counting the time for this epoch\n",
    "#     epoch_start_time = time.time()\n",
    "#     print(f\"Epoch Number {epoch + 1}\")\n",
    "    \n",
    "    # Train the individual models, and then obtain the federated averaged model\n",
    "#     train_start_time = time.time()\n",
    "    federated_model, batch_times, epoch_time = train()\n",
    "    \n",
    "    # Save your current epoch time\n",
    "    epoch_times.append(epoch_time)\n",
    "    \n",
    "#     train_total_time = time.time() - train_start_time\n",
    "#     print(\"Total TRAIN time for epoch \", epoch, \" = \", \n",
    "#           round(train_total_time/(len(compute_nodes) * 60), 2), \" min\")\n",
    "#     print(\"Finished training the federated model!\")\n",
    "    \n",
    "    # The model to be send and then trained on all workers from now on is the new federated model\n",
    "#     for model in models:\n",
    "#         model = federated_model.copy()\n",
    "    global worker1_model\n",
    "    worker1_model = federated_model.copy()\n",
    "    global worker2_model\n",
    "    worker2_model = federated_model.copy()\n",
    "    global worker3_model\n",
    "    worker3_model = federated_model.copy()\n",
    "#     print(\"Replaced original models with the new federated model!\")\n",
    "    \n",
    "    # Stop counting the time\n",
    "#     epoch_total_time = time.time() - epoch_start_time\n",
    "#     print('Time for this epoch', round(epoch_total_time/60, 2), 'min')\n",
    "    \n",
    "    # Test your new model to keep a log of how good we're doing per epoch \n",
    "    test(federated_model)\n",
    "#     print(\"Successfully tested the federated model!\")\n",
    "    \n",
    "    # Save your batch times for this epoch\n",
    "    df_batch = pd.DataFrame(batch_times)\n",
    "    df_batch.to_csv(\"./Batch_times/batch_times_FL_MINI_epoch_\" + str(epoch) + \".csv\")\n",
    "\n",
    "# OUTSIDE THE FOR LOOP\n",
    "# Save all your epoch times into a CSV\n",
    "df_epoch = pd.DataFrame(epoch_times)\n",
    "df_epoch.to_csv(\"./Epoch_times/epoch_times_FL_MINI.csv\")\n",
    "\n",
    "# Clean the global namespace after run is done\n",
    "%reset -f"
   ]
  }
 ],
 "metadata": {
  "kernelspec": {
   "display_name": "Python 3",
   "language": "python",
   "name": "python3"
  },
  "language_info": {
   "codemirror_mode": {
    "name": "ipython",
    "version": 3
   },
   "file_extension": ".py",
   "mimetype": "text/x-python",
   "name": "python",
   "nbconvert_exporter": "python",
   "pygments_lexer": "ipython3",
   "version": "3.7.10"
  }
 },
 "nbformat": 4,
 "nbformat_minor": 5
}
