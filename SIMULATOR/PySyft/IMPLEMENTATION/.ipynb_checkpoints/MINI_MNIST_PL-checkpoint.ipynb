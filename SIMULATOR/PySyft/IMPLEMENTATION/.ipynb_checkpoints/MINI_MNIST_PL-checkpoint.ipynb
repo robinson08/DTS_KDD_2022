{
 "cells": [
  {
   "cell_type": "markdown",
   "id": "18b99d94",
   "metadata": {},
   "source": [
    "# Import necessary libraries"
   ]
  },
  {
   "cell_type": "code",
   "execution_count": 1,
   "id": "dcc85fa8",
   "metadata": {},
   "outputs": [],
   "source": [
    "# General\n",
    "import os\n",
    "import cv2\n",
    "import numpy as np\n",
    "from tqdm import tqdm\n",
    "import matplotlib.pyplot as plt\n",
    "import pickle\n",
    "import time\n",
    "import copy\n",
    "import pandas as pd\n",
    "\n",
    "\n",
    "# Pytorch\n",
    "import torch\n",
    "import torch.nn as nn\n",
    "import torch.nn.functional as F\n",
    "import torch.optim as optim\n",
    "from torch.utils.data import TensorDataset, DataLoader\n",
    "from torchvision import datasets, transforms\n",
    "\n",
    "\n",
    "# PySyft\n",
    "import syft as sy\n",
    "from syft.frameworks.torch.fl import utils\n",
    "from syft.workers.websocket_client import WebsocketClientWorker"
   ]
  },
  {
   "cell_type": "markdown",
   "id": "e6f6e54b",
   "metadata": {},
   "source": [
    "# Pre-processing the Data"
   ]
  },
  {
   "cell_type": "code",
   "execution_count": 2,
   "id": "2ac2c73d",
   "metadata": {},
   "outputs": [],
   "source": [
    "# Set the image size Y where Y represents YxY \n",
    "IMG_SIZE = 50\n",
    "BATCH_SIZE = 100\n",
    "LR = 0.001"
   ]
  },
  {
   "cell_type": "code",
   "execution_count": 3,
   "id": "aa40c3cd",
   "metadata": {},
   "outputs": [],
   "source": [
    "train = datasets.MNIST(r\"/media/wilfredo/Willie931GB/EURECOM_SLU_Linux/II_SEMESTER/SLU/PAPER_KDD2022/EXPERIMENTS/PySyft/Datasets/MNIST\", \n",
    "                      train = True, download = True, \n",
    "                      transform = transforms.Compose([transforms.Resize(IMG_SIZE),\n",
    "                                                      transforms.ToTensor()]))\n",
    "\n",
    "test = datasets.MNIST(r\"/media/wilfredo/Willie931GB/EURECOM_SLU_Linux/II_SEMESTER/SLU/PAPER_KDD2022/EXPERIMENTS/PySyft/Datasets/MNIST\", \n",
    "                      train = False, download = True, \n",
    "                      transform = transforms.Compose([transforms.Resize(IMG_SIZE),\n",
    "                                                      transforms.ToTensor()]))"
   ]
  },
  {
   "cell_type": "code",
   "execution_count": 4,
   "id": "5b81b503",
   "metadata": {},
   "outputs": [],
   "source": [
    "# Load the data from the file it was saved in. Take the ENTIRE dataset!\n",
    "training_data = torch.utils.data.DataLoader(train, batch_size = int(len(train)/2), shuffle = True)\n",
    "test_data = torch.utils.data.DataLoader(test, batch_size = int(len(test)/2), shuffle = True)"
   ]
  },
  {
   "cell_type": "markdown",
   "id": "e27eba75",
   "metadata": {},
   "source": [
    "# Create the CNN (based on VGG11)\n",
    "Source: Page 3/14, Table 1, Configuration A, https://arxiv.org/pdf/1409.1556.pdf"
   ]
  },
  {
   "cell_type": "markdown",
   "id": "955580c7",
   "metadata": {},
   "source": [
    "## Individual Client Models"
   ]
  },
  {
   "cell_type": "code",
   "execution_count": 5,
   "id": "c0abf52a",
   "metadata": {},
   "outputs": [],
   "source": [
    "class Net_client1(nn.Module):\n",
    "    def __init__(self):\n",
    "        super().__init__()\n",
    "        # Define your first convolutional layer: input = 1, output = 32 convolutional features, kernel size = 5\n",
    "        # Remember that kernel = 5 means that the \"window\" used to scan for features will be 5x5\n",
    "        self.conv1 = nn.Conv2d(1, 16, 5)\n",
    "        self.conv2 = nn.Conv2d(16, 32, 5)\n",
    "\n",
    "    # Function defining only one part of the forward pass (the convolution layers only). This will also write\n",
    "    # the output dimensions of the conv layers to self._to_linear ONCE, and this information will then be used \n",
    "    # as the input data flattened dimensions of the next fully connected layers \n",
    "    def convs(self, x):\n",
    "        # Convolutional layer 1 + activation + max_pooling\n",
    "        x = self.conv1(x)\n",
    "        x = F.relu(x)\n",
    "        x = F.max_pool2d(x, (2, 2))\n",
    "        x = self.conv2(x)\n",
    "        x = F.relu(x)\n",
    "        x = F.max_pool2d(x, (2, 2))\n",
    "        return x\n",
    "    \n",
    "    # Function defining the rest of the forward pass\n",
    "    def forward(self, x):\n",
    "        # Run the convs layers first\n",
    "        x = self.convs(x)\n",
    "        return x\n",
    "\n",
    "net_client1 = Net_client1()"
   ]
  },
  {
   "cell_type": "code",
   "execution_count": 6,
   "id": "aacf59d1",
   "metadata": {},
   "outputs": [],
   "source": [
    "class Net_client2(nn.Module):\n",
    "    def __init__(self):\n",
    "        super().__init__()\n",
    "        \n",
    "        # Start from the third convolutional layer\n",
    "        self.conv3 = nn.Conv2d(32, 64, 5)\n",
    "\n",
    "    # Function defining only one part of the forward pass (the convolution layers only). This will also write\n",
    "    # the output dimensions of the conv layers to self._to_linear ONCE, and this information will then be used \n",
    "    # as the input data flattened dimensions of the next fully connected layers \n",
    "    def convs(self, x):\n",
    "        # Convolutional layer 1 + activation + max_pooling\n",
    "        x = self.conv3(x)\n",
    "        x = F.relu(x)\n",
    "        x = F.max_pool2d(x, (2, 2))\n",
    "        return x\n",
    "    \n",
    "    # Function defining the rest of the forward pass\n",
    "    def forward(self, x):\n",
    "        # Run the convs layers first\n",
    "        x = self.convs(x)\n",
    "        return x\n",
    "\n",
    "net_client2 = Net_client2()"
   ]
  },
  {
   "cell_type": "code",
   "execution_count": 7,
   "id": "f156b67a",
   "metadata": {},
   "outputs": [],
   "source": [
    "class Net_client3(nn.Module):\n",
    "    def __init__(self):\n",
    "        super().__init__()\n",
    "        \n",
    "        # Run the fully connected layers. We know the input of this fc1 layer is 512, because of our previous\n",
    "        # results with FL, where self.__to__linear told us this result when you run the cell that contains the \n",
    "        # NN\n",
    "        self._to_linear = 256\n",
    "        self.fc1 = nn.Linear(256, 32)\n",
    "        self.fc2 = nn.Linear(32, 2)\n",
    "\n",
    "    \n",
    "    # Function defining the rest of the forward pass\n",
    "    def forward(self, x):\n",
    "        # Reshape the output data from the convs to be flattened\n",
    "        x = x.view(-1, self._to_linear)\n",
    "        # Pass the data through the fully connected layers now\n",
    "        x = F.relu(self.fc1(x))\n",
    "        # Pass it through the final layer\n",
    "        x = self.fc2(x)\n",
    "        # One final softmax function to make the output vector look nicer\n",
    "        x = F.softmax(x, dim = 1)\n",
    "        return x\n",
    "\n",
    "net_client3 = Net_client3()"
   ]
  },
  {
   "cell_type": "code",
   "execution_count": 8,
   "id": "2ae4d2ab",
   "metadata": {},
   "outputs": [],
   "source": [
    "# Take a look at our models\n",
    "model_client1 = net_client1\n",
    "model_client2 = net_client2\n",
    "model_client3 = net_client3"
   ]
  },
  {
   "cell_type": "code",
   "execution_count": 9,
   "id": "5527a9e4",
   "metadata": {},
   "outputs": [
    {
     "data": {
      "text/plain": [
       "Net_client1(\n",
       "  (conv1): Conv2d(1, 16, kernel_size=(5, 5), stride=(1, 1))\n",
       "  (conv2): Conv2d(16, 32, kernel_size=(5, 5), stride=(1, 1))\n",
       ")"
      ]
     },
     "execution_count": 9,
     "metadata": {},
     "output_type": "execute_result"
    }
   ],
   "source": [
    "model_client1"
   ]
  },
  {
   "cell_type": "code",
   "execution_count": 10,
   "id": "364fb93f",
   "metadata": {},
   "outputs": [
    {
     "data": {
      "text/plain": [
       "Net_client2(\n",
       "  (conv3): Conv2d(32, 64, kernel_size=(5, 5), stride=(1, 1))\n",
       ")"
      ]
     },
     "execution_count": 10,
     "metadata": {},
     "output_type": "execute_result"
    }
   ],
   "source": [
    "model_client2"
   ]
  },
  {
   "cell_type": "code",
   "execution_count": 11,
   "id": "7fa52290",
   "metadata": {},
   "outputs": [
    {
     "data": {
      "text/plain": [
       "Net_client3(\n",
       "  (fc1): Linear(in_features=256, out_features=32, bias=True)\n",
       "  (fc2): Linear(in_features=32, out_features=2, bias=True)\n",
       ")"
      ]
     },
     "execution_count": 11,
     "metadata": {},
     "output_type": "execute_result"
    }
   ],
   "source": [
    "model_client3"
   ]
  },
  {
   "cell_type": "markdown",
   "id": "73527b1c",
   "metadata": {},
   "source": [
    "# Establish your loss function"
   ]
  },
  {
   "cell_type": "code",
   "execution_count": 12,
   "id": "55b819f8",
   "metadata": {},
   "outputs": [],
   "source": [
    "# Set your loss function (MSE for images!)\n",
    "loss_function = nn.MSELoss()"
   ]
  },
  {
   "cell_type": "markdown",
   "id": "49ad06e0",
   "metadata": {},
   "source": [
    "# Separate your data into data, labels, training, testing, and scale it"
   ]
  },
  {
   "cell_type": "code",
   "execution_count": 13,
   "id": "32fb664d",
   "metadata": {},
   "outputs": [],
   "source": [
    "# Take the data loaded onto training_data. You NEED to iterate over it to take it, even if you\n",
    "# want to take the entire thing. Make sure to convert the values to floats\n",
    "X = next(iter(training_data))[0]\n",
    "y_unformatted = next(iter(training_data))[1].type(torch.FloatTensor)\n",
    "X_test = next(iter(test_data))[0]\n",
    "y_test_unformatted = next(iter(test_data))[1].type(torch.FloatTensor)\n",
    "\n",
    "# The two other cases in this paper use 2 dimensional labels (0, 1), not only (0)\n",
    "# MNIST by default comes with labels in the format (9) instead of (9, 0). To change this:\n",
    "# Create tensors with all zeros of the same size\n",
    "y_unformatted_addition = torch.zeros(y_unformatted.size())\n",
    "y_test_unformatted_addition = torch.zeros(y_test_unformatted.size())\n",
    "# Then stack them together (0 for vertically, -1 for horizontally)\n",
    "y = torch.stack((y_unformatted, y_unformatted_addition), -1)\n",
    "y_test = torch.stack((y_test_unformatted, y_test_unformatted_addition), -1)\n"
   ]
  },
  {
   "cell_type": "code",
   "execution_count": 14,
   "id": "31eff6f8",
   "metadata": {},
   "outputs": [],
   "source": [
    "# Define your training data\n",
    "# train_X = X[:-val_size]\n",
    "# train_y = y[:-val_size]\n",
    "train_X = X\n",
    "train_y = y\n",
    "\n",
    "# Define your testing (validation) data\n",
    "# test_X = X[-val_size:]\n",
    "# test_y = y[-val_size:]\n",
    "test_X = X_test\n",
    "test_y = y_test"
   ]
  },
  {
   "cell_type": "markdown",
   "id": "3098dade",
   "metadata": {},
   "source": [
    "# Pipeline Learning"
   ]
  },
  {
   "cell_type": "markdown",
   "id": "a76910f2",
   "metadata": {},
   "source": [
    "## Establish the virtual workers, their data, their NNs, and their optimizers"
   ]
  },
  {
   "cell_type": "code",
   "execution_count": 15,
   "id": "63d9e245",
   "metadata": {},
   "outputs": [],
   "source": [
    "# Start the hook\n",
    "hook = sy.TorchHook(torch)\n",
    "\n",
    "# Create your virtual workers and our server\n",
    "worker1 = sy.VirtualWorker(hook, id=\"worker1\")\n",
    "worker2 = sy.VirtualWorker(hook, id=\"worker2\")\n",
    "worker3 = sy.VirtualWorker(hook, id=\"worker3\")\n",
    "\n",
    "# Put the WORKERS into a list for easier access later on\n",
    "compute_nodes = [worker1, worker2, worker3]"
   ]
  },
  {
   "cell_type": "code",
   "execution_count": 16,
   "id": "e9d6c0bb",
   "metadata": {},
   "outputs": [
    {
     "data": {
      "text/plain": [
       "<VirtualWorker id:worker3 #objects:0>"
      ]
     },
     "execution_count": 16,
     "metadata": {},
     "output_type": "execute_result"
    }
   ],
   "source": [
    "# Clear the workers of any objects, just in case you forgot some were still there from a previous run\n",
    "worker1.clear_objects()\n",
    "worker2.clear_objects()\n",
    "worker3.clear_objects()"
   ]
  },
  {
   "cell_type": "code",
   "execution_count": 17,
   "id": "722f283c",
   "metadata": {},
   "outputs": [],
   "source": [
    "# # Establish the NN model for each worker. This is model-centric FL, so it is the same model for all workers\n",
    "worker1_model = model_client1.copy()\n",
    "worker2_model = model_client2.copy()\n",
    "worker3_model = model_client3.copy()\n",
    "# worker1_model = model_client1\n",
    "# worker2_model = model_client2\n",
    "# worker3_model = model_client3\n",
    "\n",
    "# Establish the optimizer for each worker\n",
    "worker1_optimizer = optim.SGD(worker1_model.parameters(), lr=LR)\n",
    "worker2_optimizer = optim.SGD(worker2_model.parameters(), lr=LR)\n",
    "worker3_optimizer = optim.SGD(worker3_model.parameters(), lr=LR)"
   ]
  },
  {
   "cell_type": "code",
   "execution_count": 18,
   "id": "dfaa2712",
   "metadata": {},
   "outputs": [],
   "source": [
    "# Organize the WORKER models and optimizers into lists. The server stuff must not be mixed with these\n",
    "models = [worker1_model, worker2_model, worker3_model]\n",
    "optimizers = [worker1_optimizer, worker2_optimizer, worker3_optimizer]\n",
    "\n",
    "worker_collection = [(worker1, worker1_model, worker1_optimizer), (worker2, worker2_model, worker2_optimizer), \n",
    "                    (worker3, worker3_model, worker3_optimizer)]"
   ]
  },
  {
   "cell_type": "markdown",
   "id": "ae8c3519",
   "metadata": {},
   "source": [
    "## Sequential Training"
   ]
  },
  {
   "cell_type": "code",
   "execution_count": 19,
   "id": "5a31dcb7",
   "metadata": {},
   "outputs": [],
   "source": [
    "def train():\n",
    "    \n",
    "    # This is a completely sequential algorithm, so:\n",
    "    batch_count = 0\n",
    "    batch_times = []\n",
    "    total_epoch_time = 0\n",
    "    for i in tqdm(range(0, int(len(train_X)), BATCH_SIZE)):\n",
    "        # Send the models to their respective workers\n",
    "        worker1_model.send(worker1)\n",
    "        worker2_model.send(worker2)\n",
    "        worker3_model.send(worker3)\n",
    "        \n",
    "        # Send the data to first worker in the chain. The labels are only needed on the last worker in the\n",
    "        # chain\n",
    "        batch_X = train_X[i : i + BATCH_SIZE]\n",
    "        batch_y = train_y[i : i + BATCH_SIZE]\n",
    "        batch_X = batch_X.send(worker1)\n",
    "        batch_y = batch_y.send(worker3)\n",
    "        \n",
    "        # Zero the sequence for all models on both workers and server!\n",
    "        worker1_optimizer.zero_grad()\n",
    "        worker2_optimizer.zero_grad()\n",
    "        worker3_optimizer.zero_grad()\n",
    "#         print(\"Zeroed the grads for all workers\")\n",
    "\n",
    "        # Start FP on worker1\n",
    "        FP1_start_time = time.time()\n",
    "        intermediate_1 = worker1_model(batch_X)\n",
    "        FP1_end_time = time.time() - FP1_start_time \n",
    "#         print(\"Finished FP on \", worker1.id)\n",
    "\n",
    "        # Send the intermediate result to worker2 AND SPLIT THE COMPUTATIONAL GRAPH WITH DETACH()!\n",
    "        remote_intermediate_1 = intermediate_1.detach().move(worker2).requires_grad_()\n",
    "#         data_for_edge1 = intermediate_1.detach().move(edge1).requires_grad_()\n",
    "#         print(\"Sent FP status to \", worker2.id)\n",
    "\n",
    "        # Start FP on worker2\n",
    "        FP2_start_time = time.time()\n",
    "        intermediate_2 = worker2_model(remote_intermediate_1)\n",
    "        FP2_end_time = time.time() - FP2_start_time\n",
    "#         print(\"Finished FP on \", worker2.id)\n",
    "        \n",
    "        # Send the intermediate result to worker3 AND SPLIT THE COMPUTATIONAL GRAPH WITH DETACH()!\n",
    "        remote_intermediate_2 = intermediate_2.detach().move(worker3).requires_grad_()\n",
    "#         print(\"Sent FP status to \", worker3.id)\n",
    "\n",
    "        # Finish the FP on worker3\n",
    "        FP3_start_time = time.time()\n",
    "        pred = worker3_model(remote_intermediate_2)\n",
    "        FP3_end_time = time.time() - FP3_start_time\n",
    "        \n",
    "        total_FP_time = FP1_end_time + FP2_end_time + FP3_end_time \n",
    "#         print(\"Finished FP on \", worker3.id)\n",
    "\n",
    "        # Calculate loss on worker3\n",
    "        BP1_start_time = time.time()\n",
    "        loss = loss_function(pred, batch_y)\n",
    "        # Do BP on worker3\n",
    "        loss.backward()\n",
    "        worker3_optimizer.step()\n",
    "        BP1_end_time = time.time() - BP1_start_time\n",
    "#         print(\"Finished the BP on \", worker3.id)\n",
    "\n",
    "        # Move gradients to worker2\n",
    "        intermediate_2.move(worker2)\n",
    "        grad_intermediate_2 = remote_intermediate_2.grad.copy().move(worker2)\n",
    "        \n",
    "        # Do BP on worker2\n",
    "        BP2_start_time = time.time()\n",
    "        intermediate_2.backward(grad_intermediate_2)\n",
    "        worker2_optimizer.step()\n",
    "        BP2_end_time = time.time() - BP2_start_time\n",
    "        \n",
    "        # Send gradients to worker1\n",
    "        intermediate_1.move(worker1)\n",
    "        grad_intermediate_1 = remote_intermediate_1.grad.copy().move(worker1)\n",
    "        # Do BP on worker1\n",
    "        BP3_start_time = time.time()\n",
    "        intermediate_1.backward(grad_intermediate_1)\n",
    "        worker3_optimizer.step()\n",
    "        BP3_end_time = time.time() - BP3_start_time\n",
    "\n",
    "        total_BP_time = BP1_end_time + BP2_end_time + BP3_end_time\n",
    "        \n",
    "        # Total batch time\n",
    "        total_batch_time = total_FP_time + total_BP_time\n",
    "        # Now, for this to be equivalent to the time measured in the other architectures, our\n",
    "        # constant has to be THE AMOUNT OF DATA. ONE batch in the other architectures means\n",
    "        # ONE batch PER CLIENT. So 100 batches of data in the other archs are equivalent to:\n",
    "        # len(compute_nodes) * batch_time in this arch. As such:\n",
    "        equivalent_batch_time = total_batch_time * len(compute_nodes)\n",
    "        batch_times.append(equivalent_batch_time)\n",
    "        # We are multiplying it here by len(compute_nodes) so that each individual cell, when\n",
    "        # later comparing the CSV's is \"equal\" in amounts of data. HOWEVER, note we will still\n",
    "        # have 3x the amount of batch recordings in this code because it needs to do each batch\n",
    "        # individually. We can't have 3x times the amount of instances AND each instance be 3x\n",
    "        # times the amount of other archs!! You can either remove the \"*len(compute_nodes)\"\n",
    "        # section above OR do the following:\n",
    "        total_epoch_time += total_batch_time # NOT THE EQUIVALENT BATCH TIME!!\n",
    "        #because now you will have 3x the amount of instances but each instance counting as\n",
    "        # NOT the equivalent of 3x the other archs, but each instance counting as its own unit. \n",
    "        # So now, you will have 300 batches in PL with normal batch time recorded for each epoch,\n",
    "        # which is EQUIVALENT to 100 recorded batches in FL with normal batch time recorded\n",
    "        # TLDR: CAREFUL YOU MULTIPLY BY LEN(COMPUTE_NODES) TWICE!!!\n",
    "#         print(\"Total batch time = \", round(total_batch_time, 4), \" s\")\n",
    "        # Get back the models and delete the batches to free up memory space for next batch\n",
    "        worker1_model.get()\n",
    "        worker2_model.get()\n",
    "        worker3_model.get()\n",
    "        \n",
    "        worker1.clear_objects()\n",
    "        worker2.clear_objects()\n",
    "        worker3.clear_objects()\n",
    "        \n",
    "#         batch_count += 1\n",
    "#         if batch_count >= 25:\n",
    "#             break\n",
    "        \n",
    "    # OUTSIDE THE FOR LOOP\n",
    "    print(\"TOTAL TIME FOR THIS EPOCH = \", round(total_epoch_time, 4), \" s\")\n",
    "#     Return the new model on the server\n",
    "    return worker1_model, worker2_model, worker3_model, batch_times, total_epoch_time"
   ]
  },
  {
   "cell_type": "markdown",
   "id": "8d01fb8c",
   "metadata": {},
   "source": [
    "## Function used for testing"
   ]
  },
  {
   "cell_type": "code",
   "execution_count": 20,
   "id": "7408a95b",
   "metadata": {},
   "outputs": [],
   "source": [
    "def test(new_worker1_model, new_worker2_model, new_worker3_model):\n",
    "    \n",
    "    # Calculate the accuracy\n",
    "    correct = 0\n",
    "    total = 0\n",
    "\n",
    "    # Do not update your gradients while testing\n",
    "    with torch.no_grad():\n",
    "        print(\"Initiated model testing:\")\n",
    "        for i in tqdm(range(len(test_X))):\n",
    "            \n",
    "            # Put the model into evaluation mode so it does not update its gradients during this test\n",
    "            new_worker1_model.eval()\n",
    "            new_worker2_model.eval()\n",
    "            new_worker3_model.eval()\n",
    "            \n",
    "            # Obtain the real class for the sample\n",
    "            real_class = torch.argmax(test_y[i])\n",
    "\n",
    "            # Obtain our prediction for said sample (not arg_maxed yet)\n",
    "#             output = new_model_server(test_X[i].view(-1, 1, IMG_SIZE, IMG_SIZE))[0]\n",
    "            output = new_worker1_model(test_X[i].view(-1, 1, IMG_SIZE, IMG_SIZE))\n",
    "            output = new_worker2_model(output)\n",
    "            output = new_worker3_model(output)[0]\n",
    "                                       \n",
    "#             output = new_worker3_model(new_worker2_model((new_worker1_model(test_X[i].view(-1, 1, IMG_SIZE, IMG_SIZE)))))[0]\n",
    "\n",
    "            # Obtain our arg_maxed prediction for said sample\n",
    "            predicted_class = torch.argmax(output)\n",
    "\n",
    "            # Update counters\n",
    "            if predicted_class == real_class:\n",
    "                correct += 1\n",
    "            total += 1\n",
    "\n",
    "    print(\"Accuracy of the new model = \", round(correct/total, 3), \"\\n \\n\")"
   ]
  },
  {
   "cell_type": "code",
   "execution_count": 21,
   "id": "3ba8df3b",
   "metadata": {},
   "outputs": [],
   "source": [
    "def reset(new_worker1_model, new_worker2_model, new_worker3_model):\n",
    "    # Clear the workers of any objects, just in case you forgot some were still there from a previous run\n",
    "    worker1.clear_objects()\n",
    "    worker2.clear_objects()\n",
    "    worker3.clear_objects()\n",
    "    \n",
    "    # Establish the NN model for each worker. This is model-centric FL, so it is the same model for all workers\n",
    "    global worker1_model\n",
    "    worker1_model = new_worker1_model.copy()\n",
    "    global worker2_model\n",
    "    worker2_model = new_worker2_model.copy()\n",
    "    global worker3_model\n",
    "    worker3_model = new_worker3_model.copy()\n",
    "#     worker1_model = new_worker1_model\n",
    "#     worker2_model = new_worker2_model\n",
    "#     worker3_model = new_worker3_model\n",
    "    \n",
    "    # Establish the optimizer for each worker\n",
    "    global worker1_optimizer\n",
    "    worker1_optimizer = optim.SGD(worker1_model.parameters(), lr=LR)\n",
    "    global worker2_optimizer\n",
    "    worker2_optimizer = optim.SGD(worker2_model.parameters(), lr=LR)\n",
    "    global worker3_optimizer\n",
    "    worker3_optimizer = optim.SGD(worker3_model.parameters(), lr=LR)\n",
    "    \n",
    "    # Organize the WORKER models and optimizers into lists. The server stuff must not be mixed with these\n",
    "    global models\n",
    "    models = [worker1_model, worker2_model, worker3_model]\n",
    "    global optimizers\n",
    "    optimizers = [worker1_optimizer, worker2_optimizer, worker3_optimizer]\n",
    "    global worker_collection\n",
    "    worker_collection = [(worker1, worker1_model, worker1_optimizer), (worker2, worker2_model, worker2_optimizer), \n",
    "                        (worker3, worker3_model, worker3_optimizer)]"
   ]
  },
  {
   "cell_type": "code",
   "execution_count": 22,
   "id": "5d8aff0a",
   "metadata": {},
   "outputs": [],
   "source": [
    "# # Get all objects as a dictionary, as keys, or remove a specific object\n",
    "# worker1.object_store._objects.keys()\n",
    "# worker1.object_store.rm_obj( obj_id = )"
   ]
  },
  {
   "cell_type": "markdown",
   "id": "ea5e1d64",
   "metadata": {},
   "source": [
    "# RUN THE MODEL"
   ]
  },
  {
   "cell_type": "code",
   "execution_count": 23,
   "id": "50f5745e",
   "metadata": {
    "scrolled": false
   },
   "outputs": [
    {
     "name": "stdout",
     "output_type": "stream",
     "text": [
      "Epoch Number 1\n"
     ]
    },
    {
     "name": "stderr",
     "output_type": "stream",
     "text": [
      "100%|██████████| 300/300 [10:21<00:00,  2.07s/it]\n"
     ]
    },
    {
     "name": "stdout",
     "output_type": "stream",
     "text": [
      "TOTAL TIME FOR THIS EPOCH =  138.5664  s\n",
      "Initiated model testing:\n"
     ]
    },
    {
     "name": "stderr",
     "output_type": "stream",
     "text": [
      "100%|██████████| 5000/5000 [00:12<00:00, 407.97it/s]\n"
     ]
    },
    {
     "name": "stdout",
     "output_type": "stream",
     "text": [
      "Accuracy of the new model =  0.902 \n",
      " \n",
      "\n",
      "Epoch Number 2\n"
     ]
    },
    {
     "name": "stderr",
     "output_type": "stream",
     "text": [
      "100%|██████████| 300/300 [10:19<00:00,  2.07s/it]\n"
     ]
    },
    {
     "name": "stdout",
     "output_type": "stream",
     "text": [
      "TOTAL TIME FOR THIS EPOCH =  135.2971  s\n",
      "Initiated model testing:\n"
     ]
    },
    {
     "name": "stderr",
     "output_type": "stream",
     "text": [
      "100%|██████████| 5000/5000 [00:12<00:00, 413.71it/s]\n"
     ]
    },
    {
     "name": "stdout",
     "output_type": "stream",
     "text": [
      "Accuracy of the new model =  0.902 \n",
      " \n",
      "\n",
      "Epoch Number 3\n"
     ]
    },
    {
     "name": "stderr",
     "output_type": "stream",
     "text": [
      "100%|██████████| 300/300 [10:12<00:00,  2.04s/it]\n"
     ]
    },
    {
     "name": "stdout",
     "output_type": "stream",
     "text": [
      "TOTAL TIME FOR THIS EPOCH =  132.6342  s\n",
      "Initiated model testing:\n"
     ]
    },
    {
     "name": "stderr",
     "output_type": "stream",
     "text": [
      "100%|██████████| 5000/5000 [00:10<00:00, 454.57it/s]\n"
     ]
    },
    {
     "name": "stdout",
     "output_type": "stream",
     "text": [
      "Accuracy of the new model =  0.902 \n",
      " \n",
      "\n",
      "Epoch Number 4\n"
     ]
    },
    {
     "name": "stderr",
     "output_type": "stream",
     "text": [
      "100%|██████████| 300/300 [10:40<00:00,  2.14s/it]\n"
     ]
    },
    {
     "name": "stdout",
     "output_type": "stream",
     "text": [
      "TOTAL TIME FOR THIS EPOCH =  145.9953  s\n",
      "Initiated model testing:\n"
     ]
    },
    {
     "name": "stderr",
     "output_type": "stream",
     "text": [
      "100%|██████████| 5000/5000 [00:17<00:00, 277.82it/s]\n"
     ]
    },
    {
     "name": "stdout",
     "output_type": "stream",
     "text": [
      "Accuracy of the new model =  0.902 \n",
      " \n",
      "\n",
      "Epoch Number 5\n"
     ]
    },
    {
     "name": "stderr",
     "output_type": "stream",
     "text": [
      "100%|██████████| 300/300 [10:07<00:00,  2.02s/it]\n"
     ]
    },
    {
     "name": "stdout",
     "output_type": "stream",
     "text": [
      "TOTAL TIME FOR THIS EPOCH =  131.3853  s\n",
      "Initiated model testing:\n"
     ]
    },
    {
     "name": "stderr",
     "output_type": "stream",
     "text": [
      "100%|██████████| 5000/5000 [00:12<00:00, 413.91it/s]\n"
     ]
    },
    {
     "name": "stdout",
     "output_type": "stream",
     "text": [
      "Accuracy of the new model =  0.902 \n",
      " \n",
      "\n"
     ]
    }
   ],
   "source": [
    "# Define your number of epochs\n",
    "epochs = 5\n",
    "epoch_times = []\n",
    "\n",
    "# Train all workers for the set number of epochs\n",
    "for epoch in range(epochs):\n",
    "    \n",
    "    # Start counting the time for this epoch\n",
    "#     start_time = time.time()\n",
    "    print(f\"Epoch Number {epoch + 1}\")\n",
    "    \n",
    "    # Train the individual models, and then obtain the federated averaged model\n",
    "#     train_start_time = time.time()\n",
    "    new_worker1_model, new_worker2_model, new_worker3_model, batch_times, epoch_time = train()\n",
    "#     train_total_time = time.time() - train_start_time\n",
    "#     print(\"Total TRAIN time for epoch \", epoch, \" = \", \n",
    "#           round(train_total_time/60, 2), \" min\")\n",
    "    \n",
    "    # Save the epoch time\n",
    "    epoch_times.append(epoch_time)\n",
    "    \n",
    "    # Test your new model to keep a log of how good we're doing per epoch \n",
    "    test(new_worker1_model, new_worker2_model, new_worker3_model)\n",
    "    \n",
    "    # Stop counting the time\n",
    "#     epoch_total_time = time.time() - start_time\n",
    "#     print('Time for this epoch', round(epoch_total_time/60, 2), 'min')\n",
    "    \n",
    "    # Re-organize everything before starting next epoch\n",
    "    reset(new_worker1_model, new_worker2_model, new_worker3_model)\n",
    "    \n",
    "    # Save the batch times\n",
    "    df_batch = pd.DataFrame(batch_times)\n",
    "    df_batch.to_csv(\"./Batch_times/MINI_MNIST_PL_epoch_\" + str(epoch) + \".csv\")\n",
    "\n",
    "# Save the epoch time\n",
    "df_epoch = pd.DataFrame(epoch_times)\n",
    "df_epoch.to_csv(\"./Epoch_times/MINI_MNIST_PL.csv\")\n",
    "\n",
    "# Clean the global namespace after run is done\n",
    "%reset -f"
   ]
  },
  {
   "cell_type": "code",
   "execution_count": null,
   "id": "a45126b4",
   "metadata": {},
   "outputs": [],
   "source": []
  }
 ],
 "metadata": {
  "kernelspec": {
   "display_name": "Python 3",
   "language": "python",
   "name": "python3"
  },
  "language_info": {
   "codemirror_mode": {
    "name": "ipython",
    "version": 3
   },
   "file_extension": ".py",
   "mimetype": "text/x-python",
   "name": "python",
   "nbconvert_exporter": "python",
   "pygments_lexer": "ipython3",
   "version": "3.7.10"
  }
 },
 "nbformat": 4,
 "nbformat_minor": 5
}
