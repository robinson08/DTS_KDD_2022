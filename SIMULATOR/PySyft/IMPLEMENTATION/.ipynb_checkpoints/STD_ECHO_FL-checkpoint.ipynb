{
 "cells": [
  {
   "cell_type": "markdown",
   "id": "18feeb98",
   "metadata": {},
   "source": [
    "# Import necessary libraries"
   ]
  },
  {
   "cell_type": "code",
   "execution_count": 1,
   "id": "d4095c19",
   "metadata": {},
   "outputs": [],
   "source": [
    "# General\n",
    "import os\n",
    "import cv2\n",
    "import numpy as np\n",
    "from tqdm import tqdm\n",
    "import matplotlib.pyplot as plt\n",
    "import pickle\n",
    "import time\n",
    "import copy\n",
    "import pandas as pd\n",
    "\n",
    "\n",
    "# Pytorch\n",
    "import torch\n",
    "import torch.nn as nn\n",
    "import torch.nn.functional as F\n",
    "import torch.optim as optim\n",
    "from torch.utils.data import TensorDataset, DataLoader\n",
    "\n",
    "\n",
    "# PySyft\n",
    "import syft as sy\n",
    "from syft.frameworks.torch.fl import utils\n",
    "from syft.workers.websocket_client import WebsocketClientWorker"
   ]
  },
  {
   "cell_type": "markdown",
   "id": "b56e665c",
   "metadata": {},
   "source": [
    "# Pre-processing the Data"
   ]
  },
  {
   "cell_type": "code",
   "execution_count": 2,
   "id": "9e7cb9c2",
   "metadata": {},
   "outputs": [],
   "source": [
    "# Flag to only rebuild data once\n",
    "REBUILD_DATA = False"
   ]
  },
  {
   "cell_type": "code",
   "execution_count": 3,
   "id": "59ee3aad",
   "metadata": {},
   "outputs": [],
   "source": [
    "# Set the image size Y where Y represents YxY \n",
    "IMG_SIZE = 64\n",
    "BATCH_SIZE = 100\n",
    "LR = 0.001"
   ]
  },
  {
   "cell_type": "code",
   "execution_count": 4,
   "id": "6c464bfc",
   "metadata": {},
   "outputs": [],
   "source": [
    "# Create a pre-processing class\n",
    "class EchoData_Train():\n",
    "    \n",
    "    # Define the img_size we want for ALL of the images\n",
    "    \n",
    "#     source_folder = r\"/media/wilfredo/Willie931GB/SLU/EchoNet/EchoNet-Dynamic/TRAIN/Healthy_FRAMES/\"\n",
    "    # Define where your data is stored\n",
    "    HEALTHY = r\"/media/wilfredo/Willie931GB/SLU/EchoNet/EchoNet-Dynamic/TRAIN/Healthy_FRAMES/\"\n",
    "    ALERT = r\"/media/wilfredo/Willie931GB/SLU/EchoNet/EchoNet-Dynamic/TRAIN/Alert_FRAMES/\"\n",
    "#     TESTING = \"./Datasets/cats_and_dogs/PetImages/Testing\"\n",
    "    \n",
    "    # Define what each type of image is (their labels for the NN)\n",
    "    LABELS = {HEALTHY: 0, ALERT: 1}\n",
    "    \n",
    "    # Define your image size\n",
    "    IMG_SIZE = 64\n",
    "    \n",
    "    # Define your training data\n",
    "    training_data = []\n",
    "    \n",
    "    # Define your counters to check for imbalance issues\n",
    "    healthy_count = 0\n",
    "    alert_count = 0\n",
    "    \n",
    "    def make_training_data(self):\n",
    "        for label in self.LABELS:\n",
    "            # Iterare over the images in the directories\n",
    "            # tqdm is just here to show a progress bar\n",
    "            for f in tqdm(os.listdir(label)):\n",
    "                \n",
    "                # We will TRY this piece of code. Some images might lead to errors, so instead of stoppin EVERY\n",
    "                # time we find an error, let's just ignore the image\n",
    "                try: \n",
    "                    # Define the image path\n",
    "                    path = os.path.join(label, f)\n",
    "\n",
    "                    # Select the image and convert it to grayscale, because color is not a defining feature \n",
    "                    # to know if something is a cat or a dog\n",
    "                    img = cv2.imread(path, cv2.IMREAD_GRAYSCALE)\n",
    "\n",
    "                    # Resize the image\n",
    "                    img = cv2.resize(img, (self.IMG_SIZE, self.IMG_SIZE))\n",
    "\n",
    "                    # Add the image AND its label to the training data\n",
    "                    self.training_data.append([np.array(img), np.eye(2)[self.LABELS[label]]])\n",
    "                    # The label here was added as a 1-hot vector. We create an identity matrix with \n",
    "                    # numpy (np.eye), of two classes (np.eye(2)), and the corresponding output that each label \n",
    "                    # should represent label = 0 should be \"cat\", so [1, 0], and \"dog\" should be [0, 1]\n",
    "\n",
    "                    # COunt which are cats and which are dogs\n",
    "                    if label == self.HEALTHY:\n",
    "                        self.healthy_count += 1\n",
    "                    elif label == self.ALERT:\n",
    "                        self.alert_count += 1\n",
    "                \n",
    "                except Exception as e:\n",
    "                    pass\n",
    "#                     print(str(e))\n",
    "        \n",
    "        # Outside the for loop but still within the function\n",
    "        # Now we shuffle the data and save it to the local directory\n",
    "        np.random.shuffle(self.training_data)\n",
    "        np.save(r\"/media/wilfredo/Willie931GB/SLU/EchoNet/EchoNet-Dynamic/Numpy_Datasets/training_data_size_64.npy\", self.training_data)\n",
    "        print(\"Healthy = \", self.healthy_count)\n",
    "        print(\"Alert = \", self.alert_count)"
   ]
  },
  {
   "cell_type": "code",
   "execution_count": 5,
   "id": "fc8106b1",
   "metadata": {},
   "outputs": [],
   "source": [
    "# Create a pre-processing class\n",
    "class EchoData_Test():\n",
    "    \n",
    "    # Define the img_size we want for ALL of the images\n",
    "    \n",
    "#     source_folder = r\"/media/wilfredo/Willie931GB/SLU/EchoNet/EchoNet-Dynamic/TRAIN/Healthy_FRAMES/\"\n",
    "    # Define where your data is stored\n",
    "    HEALTHY = r\"/media/wilfredo/Willie931GB/SLU/EchoNet/EchoNet-Dynamic/TEST/Healthy_FRAMES/\"\n",
    "    ALERT = r\"/media/wilfredo/Willie931GB/SLU/EchoNet/EchoNet-Dynamic/TEST/Alert_FRAMES/\"\n",
    "#     TESTING = \"./Datasets/cats_and_dogs/PetImages/Testing\"\n",
    "    \n",
    "    # Define what each type of image is (their labels for the NN)\n",
    "    LABELS = {HEALTHY: 0, ALERT: 1}\n",
    "    \n",
    "    # Define your image size\n",
    "    IMG_SIZE = 64\n",
    "    \n",
    "    # Define your training data\n",
    "    test_data = []\n",
    "    \n",
    "    # Define your counters to check for imbalance issues\n",
    "    healthy_count = 0\n",
    "    alert_count = 0\n",
    "    \n",
    "    def make_test_data(self):\n",
    "        for label in self.LABELS:\n",
    "            # Iterare over the images in the directories\n",
    "            # tqdm is just here to show a progress bar\n",
    "            for f in tqdm(os.listdir(label)):\n",
    "                \n",
    "                # We will TRY this piece of code. Some images might lead to errors, so instead of stoppin EVERY\n",
    "                # time we find an error, let's just ignore the image\n",
    "                try: \n",
    "                    # Define the image path\n",
    "                    path = os.path.join(label, f)\n",
    "\n",
    "                    # Select the image and convert it to grayscale, because color is not a defining feature \n",
    "                    # to know if something is a cat or a dog\n",
    "                    img = cv2.imread(path, cv2.IMREAD_GRAYSCALE)\n",
    "\n",
    "                    # Resize the image\n",
    "                    img = cv2.resize(img, (self.IMG_SIZE, self.IMG_SIZE))\n",
    "\n",
    "                    # Add the image AND its label to the training data\n",
    "                    self.test_data.append([np.array(img), np.eye(2)[self.LABELS[label]]])\n",
    "                    # The label here was added as a 1-hot vector. We create an identity matrix with \n",
    "                    # numpy (np.eye), of two classes (np.eye(2)), and the corresponding output that each label \n",
    "                    # should represent label = 0 should be \"cat\", so [1, 0], and \"dog\" should be [0, 1]\n",
    "\n",
    "                    # COunt which are cats and which are dogs\n",
    "                    if label == self.HEALTHY:\n",
    "                        self.healthy_count += 1\n",
    "                    elif label == self.ALERT:\n",
    "                        self.alert_count += 1\n",
    "                \n",
    "                except Exception as e:\n",
    "                    pass\n",
    "#                     print(str(e))\n",
    "        \n",
    "        # Outside the for loop but still within the function\n",
    "        # Now we shuffle the data and save it to the local directory\n",
    "        np.random.shuffle(self.test_data)\n",
    "        np.save(r\"/media/wilfredo/Willie931GB/SLU/EchoNet/EchoNet-Dynamic/Numpy_Datasets/test_data_size_64.npy\", self.test_data)\n",
    "        print(\"Healthy = \", self.healthy_count)\n",
    "        print(\"Alert = \", self.alert_count)"
   ]
  },
  {
   "cell_type": "code",
   "execution_count": 6,
   "id": "f5b264bf",
   "metadata": {},
   "outputs": [],
   "source": [
    "# Run the thing IF we want to rebuild the data, and check our distribution of data\n",
    "if REBUILD_DATA:\n",
    "    echo_data_train = EchoData_Train()\n",
    "    echo_data_train.make_training_data()\n",
    "    echo_data_test = EchoData_Test()\n",
    "    echo_data_test.make_test_data()"
   ]
  },
  {
   "cell_type": "code",
   "execution_count": 7,
   "id": "1a874631",
   "metadata": {},
   "outputs": [],
   "source": [
    "# Load the data from the file it was saved in\n",
    "training_data = np.load(r\"/media/wilfredo/Willie931GB/SLU/EchoNet/EchoNet-Dynamic/Numpy_Datasets/training_data_size_64.npy\", allow_pickle = True)\n",
    "test_data = np.load(r\"/media/wilfredo/Willie931GB/SLU/EchoNet/EchoNet-Dynamic/Numpy_Datasets/test_data_size_64.npy\", allow_pickle = True)"
   ]
  },
  {
   "cell_type": "markdown",
   "id": "695a9f47",
   "metadata": {},
   "source": [
    "# Define your custom CNN\n",
    "Ours is baed on VGG-11. Source: Page 3/14, Table 1, Configuration A, https://arxiv.org/pdf/1409.1556.pdf"
   ]
  },
  {
   "cell_type": "markdown",
   "id": "80e530a0",
   "metadata": {},
   "source": [
    "## NN Standard"
   ]
  },
  {
   "cell_type": "code",
   "execution_count": 8,
   "id": "caa5676d",
   "metadata": {},
   "outputs": [],
   "source": [
    "class Net(nn.Module):\n",
    "    def __init__(self):\n",
    "        super().__init__()\n",
    "        IMG_SIZE = 64\n",
    "        # Define your first convolutional layer: input = 1, output = 32 convolutional features, kernel size = 5\n",
    "        # Remember that kernel = 5 means that the \"window\" used to scan for features will be 5x5\n",
    "        self.conv1 = nn.Conv2d(1, 32, 3)\n",
    "        self.conv2 = nn.Conv2d(32, 64, 3)\n",
    "        self.conv3 = nn.Conv2d(64, 128, 3)\n",
    "        self.conv4 = nn.Conv2d(128, 256, 3)\n",
    "        \n",
    "        \n",
    "        # Now we need to get the output of the convolution processed to get it into a fully connected layer\n",
    "        # To know what dimensions to use for our fully connected layers, the only known way in PyTorch is to \n",
    "        # pass some data through the convolutional layers, and then examine their output. Then we manually \n",
    "        # input the dimensions of this output into the next fully connected layer and voila.\n",
    "        \n",
    "        # Create random dummy data, run the convolution layers, check the size of the output of conv3, and then \n",
    "        # give that dimension info to the fully connected layers. This will only be done ONCE\n",
    "        x = torch.randn(IMG_SIZE,IMG_SIZE).view(-1, 1, IMG_SIZE, IMG_SIZE)\n",
    "        self._to_linear = None\n",
    "        self.convs(x)\n",
    "        \n",
    "        # Run the fully connected layers\n",
    "        self.fc1 = nn.Linear(self._to_linear, 512)\n",
    "        self.fc2 = nn.Linear(512, 256)\n",
    "        self.fc3 = nn.Linear(256, 2)\n",
    "\n",
    "    # Function defining only one part of the forward pass (the convolution layers only). This will also write\n",
    "    # the output dimensions of the conv layers to self._to_linear ONCE, and this information will then be used \n",
    "    # as the input data flattened dimensions of the next fully connected layers \n",
    "    def convs(self, x):\n",
    "        # Convolutional layer 1 + activation + max_pooling\n",
    "        x = self.conv1(x)\n",
    "        x = F.relu(x)\n",
    "        x = F.max_pool2d(x, (2, 2))\n",
    "        x = self.conv2(x)\n",
    "        x = F.relu(x)\n",
    "        x = F.max_pool2d(x, (2, 2))\n",
    "        x = self.conv3(x)\n",
    "        x = F.relu(x)\n",
    "        x = F.max_pool2d(x, (2, 2))\n",
    "        x = self.conv4(x)\n",
    "        x = F.relu(x)\n",
    "        x = F.max_pool2d(x, (2, 2))\n",
    "#         x = F.max_pool2d(F.relu(self.conv1(x)), (2, 2))\n",
    "#         x = F.max_pool2d(F.relu(self.conv2(x)), (2, 2))\n",
    "#         x = F.max_pool2d(F.relu(self.conv3(x)), (2, 2))\n",
    "        \n",
    "#         print(\"x[0].shape = \", x[0].shape)\n",
    "        if self._to_linear is None:\n",
    "            self._to_linear = x[0].shape[0] * x[0].shape[1] * x[0].shape[2]\n",
    "        return x\n",
    "    \n",
    "    # Function defining the rest of the forward pass\n",
    "    def forward(self, x):\n",
    "        # Run the convs layers first\n",
    "        x = self.convs(x)\n",
    "        # Reshape the output data from the convs to be flattened\n",
    "        x = x.view(-1, self._to_linear)\n",
    "        # Pass the data through the fully connected layers now\n",
    "        x = F.relu(self.fc1(x))\n",
    "        x = F.relu(self.fc2(x))\n",
    "        # Pass it through the final layer\n",
    "        x = self.fc3(x)\n",
    "        # One final softmax function to make the output vector look nicer\n",
    "        x = F.softmax(x, dim = 1)\n",
    "        return x\n",
    "\n",
    "net = Net()"
   ]
  },
  {
   "cell_type": "code",
   "execution_count": 9,
   "id": "b35d01bb",
   "metadata": {},
   "outputs": [
    {
     "data": {
      "text/plain": [
       "Net(\n",
       "  (conv1): Conv2d(1, 32, kernel_size=(3, 3), stride=(1, 1))\n",
       "  (conv2): Conv2d(32, 64, kernel_size=(3, 3), stride=(1, 1))\n",
       "  (conv3): Conv2d(64, 128, kernel_size=(3, 3), stride=(1, 1))\n",
       "  (conv4): Conv2d(128, 256, kernel_size=(3, 3), stride=(1, 1))\n",
       "  (fc1): Linear(in_features=1024, out_features=512, bias=True)\n",
       "  (fc2): Linear(in_features=512, out_features=256, bias=True)\n",
       "  (fc3): Linear(in_features=256, out_features=2, bias=True)\n",
       ")"
      ]
     },
     "execution_count": 9,
     "metadata": {},
     "output_type": "execute_result"
    }
   ],
   "source": [
    "# Take a look at our model\n",
    "model = net\n",
    "model"
   ]
  },
  {
   "cell_type": "markdown",
   "id": "c662da81",
   "metadata": {},
   "source": [
    "# Establish your loss function"
   ]
  },
  {
   "cell_type": "code",
   "execution_count": 10,
   "id": "df21db47",
   "metadata": {},
   "outputs": [],
   "source": [
    "# Set your loss function (MSE for images!)\n",
    "loss_function = nn.MSELoss()"
   ]
  },
  {
   "cell_type": "markdown",
   "id": "728e6c36",
   "metadata": {},
   "source": [
    "# Separate your data into data, labels, training, testing, and scale it"
   ]
  },
  {
   "cell_type": "code",
   "execution_count": 11,
   "id": "32c88646",
   "metadata": {},
   "outputs": [],
   "source": [
    "########################## TRAIN DATA ##########################\n",
    "# Separate the x's and the y's\n",
    "X = torch.Tensor([i[0] for i in training_data]).view(-1, 1, IMG_SIZE, IMG_SIZE)\n",
    "\n",
    "# Scale the images. The pixel values are between 0-255, but we want them to be between 0-1\n",
    "X = X/255.0\n",
    "\n",
    "# Get your y's\n",
    "y = torch.Tensor([i[1] for i in training_data])\n",
    "\n",
    "########################## TEST DATA ##########################\n",
    "# Separate the x's and the y's\n",
    "X_test = torch.Tensor([i[0] for i in test_data]).view(-1, 1, IMG_SIZE, IMG_SIZE)\n",
    "\n",
    "# Scale the images. The pixel values are between 0-255, but we want them to be between 0-1\n",
    "X_test = X_test/255.0\n",
    "\n",
    "# Get your y's\n",
    "y_test = torch.Tensor([i[1] for i in test_data])"
   ]
  },
  {
   "cell_type": "code",
   "execution_count": 12,
   "id": "2582102b",
   "metadata": {},
   "outputs": [],
   "source": [
    "# Set your validation data percentage\n",
    "# VAL_PCT = 0.1\n",
    "# val_size = int(len(X)*VAL_PCT)"
   ]
  },
  {
   "cell_type": "code",
   "execution_count": 13,
   "id": "be35f63c",
   "metadata": {},
   "outputs": [],
   "source": [
    "# Define your training data\n",
    "# train_X = X[:-val_size]\n",
    "# train_y = y[:-val_size]\n",
    "train_X = X\n",
    "train_y = y\n",
    "\n",
    "# Define your testing (validation) data\n",
    "# test_X = X[-val_size:]\n",
    "# test_y = y[-val_size:]\n",
    "test_X = X_test\n",
    "test_y = y_test"
   ]
  },
  {
   "cell_type": "markdown",
   "id": "94dd24b5",
   "metadata": {},
   "source": [
    "# Federated Learning"
   ]
  },
  {
   "cell_type": "markdown",
   "id": "d44b9ae1",
   "metadata": {},
   "source": [
    "## Establish the virtual workers, their data, their NNs, and their optimizers"
   ]
  },
  {
   "cell_type": "code",
   "execution_count": 14,
   "id": "840399d7",
   "metadata": {},
   "outputs": [],
   "source": [
    "# Start the hook\n",
    "hook = sy.TorchHook(torch)\n",
    "\n",
    "# Create your virtual workers\n",
    "worker1 = sy.VirtualWorker(hook, id=\"worker1\")\n",
    "worker2 = sy.VirtualWorker(hook, id=\"worker2\")\n",
    "worker3 = sy.VirtualWorker(hook, id=\"worker3\")\n",
    "\n",
    "compute_nodes = [worker1, worker2, worker3]"
   ]
  },
  {
   "cell_type": "code",
   "execution_count": 15,
   "id": "76de4b87",
   "metadata": {},
   "outputs": [],
   "source": [
    "train_X_worker1 = train_X[:int(len(train_X)/len(compute_nodes))].view(-1, 1, IMG_SIZE, IMG_SIZE)\n",
    "train_X_worker2 = train_X[int(len(train_X)/len(compute_nodes)):int(2 * len(train_X)/len(compute_nodes))].view(-1, 1, IMG_SIZE, IMG_SIZE)\n",
    "train_X_worker3 = train_X[int(2 * len(train_X)/len(compute_nodes)):int(3 * len(train_X)/len(compute_nodes))].view(-1, 1, IMG_SIZE, IMG_SIZE)\n",
    "\n",
    "train_y_worker1 = train_y[:int(len(train_X)/len(compute_nodes))]\n",
    "train_y_worker2 = train_y[int(len(train_X)/len(compute_nodes)):int(2 * len(train_X)/len(compute_nodes))]\n",
    "train_y_worker3 = train_y[int(2 * len(train_X)/len(compute_nodes)):int(3 * len(train_X)/len(compute_nodes))]"
   ]
  },
  {
   "cell_type": "code",
   "execution_count": 16,
   "id": "29032e8d",
   "metadata": {},
   "outputs": [
    {
     "data": {
      "text/plain": [
       "<VirtualWorker id:worker3 #objects:0>"
      ]
     },
     "execution_count": 16,
     "metadata": {},
     "output_type": "execute_result"
    }
   ],
   "source": [
    "# Clear the workers of any objects, just in case you forgot some were still there from a previous run\n",
    "worker1.clear_objects()\n",
    "worker2.clear_objects()\n",
    "worker3.clear_objects()"
   ]
  },
  {
   "cell_type": "code",
   "execution_count": 17,
   "id": "1810d049",
   "metadata": {},
   "outputs": [],
   "source": [
    "# # Establish the NN model for each worker. This is model-centric FL, so it is the same model for all workers\n",
    "worker1_model = model.copy()\n",
    "worker2_model = model.copy()\n",
    "worker3_model = model.copy()\n",
    "\n",
    "# # Establish the optimizer for each worker\n",
    "worker1_optimizer = optim.SGD(worker1_model.parameters(), lr=LR)\n",
    "worker2_optimizer = optim.SGD(worker2_model.parameters(), lr=LR)\n",
    "worker3_optimizer = optim.SGD(worker3_model.parameters(), lr=LR)"
   ]
  },
  {
   "cell_type": "code",
   "execution_count": 18,
   "id": "bd3e5fd1",
   "metadata": {},
   "outputs": [],
   "source": [
    "# # Organize the models and optimizers into lists\n",
    "models = [worker1_model, worker2_model, worker3_model]\n",
    "optimizers = [worker1_optimizer, worker2_optimizer, worker3_optimizer]"
   ]
  },
  {
   "cell_type": "markdown",
   "id": "fbf6afdb",
   "metadata": {},
   "source": [
    "## Functions used for Training"
   ]
  },
  {
   "cell_type": "code",
   "execution_count": 19,
   "id": "a03f2a06",
   "metadata": {},
   "outputs": [],
   "source": [
    "def train():\n",
    "    batch_count = 0\n",
    "    total_epoch_time = 0\n",
    "    batch_times = []\n",
    "    for i in tqdm(range(0, int(len(train_X)/len(compute_nodes)), BATCH_SIZE)):\n",
    "        \n",
    "        # Send the models to the worker. This step is not necessary in real life, as this is only done once. \n",
    "        # However, because the .rm_obj() method is not working to remove the batches at the end of each loop,\n",
    "        # we are forced to remove ALL objects from each worker, including the models, so the batches don't\n",
    "        # constantly add up, consuming more memory each time!\n",
    "        worker1_model.send(worker1)\n",
    "        worker2_model.send(worker2)\n",
    "        worker3_model.send(worker3)\n",
    "        \n",
    "        # Get the batches for each of the workers\n",
    "        batch_X_1 = train_X_worker1[i : i + BATCH_SIZE]\n",
    "        batch_y_1 = train_y_worker1[i : i + BATCH_SIZE]\n",
    "        \n",
    "        batch_X_2 = train_X_worker2[i : i + BATCH_SIZE]\n",
    "        batch_y_2 = train_y_worker2[i : i + BATCH_SIZE]\n",
    "        \n",
    "        batch_X_3 = train_X_worker3[i : i + BATCH_SIZE]\n",
    "        batch_y_3 = train_y_worker3[i : i + BATCH_SIZE]\n",
    "#         print(\"Got the batches for all workers (not sent yet)\")\n",
    "        \n",
    "        # Send the data and labels to each of the workers. This does not have to be done in real life, but \n",
    "        # must be done in this simulation\n",
    "        batch_X_1 = batch_X_1.send(worker1)\n",
    "        batch_y_1 = batch_y_1.send(worker1)\n",
    "        \n",
    "        batch_X_2 = batch_X_2.send(worker2)\n",
    "        batch_y_2 = batch_y_2.send(worker2)\n",
    "        \n",
    "        batch_X_3 = batch_X_3.send(worker3)\n",
    "        batch_y_3 = batch_y_3.send(worker3)\n",
    "#         print(\"Sent the batches for all workers\")\n",
    "        \n",
    "        # Train the models\n",
    "        # The following in real life would be done in parallel\n",
    "        FP_start_time = time.time()\n",
    "        pred1 = worker1_model(batch_X_1)\n",
    "        pred2 = worker2_model(batch_X_2)\n",
    "        pred3 = worker3_model(batch_X_3)\n",
    "        FP_end_time = (time.time() - FP_start_time)/len(compute_nodes)\n",
    "#         print(\"FP time = \", round(FP_end_time, 4), \" s\")\n",
    "#         print(\"Trained the models for all workers\")\n",
    "        \n",
    "        # Calculate the loss functions\n",
    "        BP_start_time = time.time()\n",
    "        loss1 = loss_function(pred1, batch_y_1)\n",
    "        loss2 = loss_function(pred2, batch_y_2)\n",
    "        loss3 = loss_function(pred3, batch_y_3)\n",
    "#         print(\"Calculates the loss function for all workers\")\n",
    "        \n",
    "        # Do the backwards pass\n",
    "        loss1.backward()\n",
    "        loss2.backward()\n",
    "        loss3.backward()\n",
    "#         print(\"Did the backwards propagation on all workers\")\n",
    "        \n",
    "        # Update the weights\n",
    "        worker1_optimizer.step()\n",
    "        worker2_optimizer.step()\n",
    "        worker3_optimizer.step()\n",
    "        BP_end_time = (time.time() - BP_start_time)/len(compute_nodes)\n",
    "#         print(\"BP time = \", round(BP_end_time, 4), \" s\")\n",
    "        \n",
    "        total_batch_time = FP_end_time + BP_end_time\n",
    "        batch_times.append(total_batch_time)\n",
    "        total_epoch_time += total_batch_time\n",
    "#         print(\"Total time for this batch = \", round(total_batch_time, 4), \" s \\n \\n\")\n",
    "#         print(\"Updated all the weights for all workers\")\n",
    "            \n",
    "        # Save the total training time for this batch\n",
    "    \n",
    "        # Get the models back from the workers\n",
    "        worker1_model.get()\n",
    "        worker2_model.get()\n",
    "        worker3_model.get()\n",
    "        \n",
    "        # Clear all batches from worker before next batch comes\n",
    "        worker1.clear_objects()\n",
    "        worker2.clear_objects()\n",
    "        worker3.clear_objects()\n",
    "#         print(\"Successfully finished training of all workers for batch \", counter)\n",
    "#         batch_count += 1\n",
    "#         if batch_count == 25:\n",
    "#             break\n",
    "        \n",
    "    # OUTSIDE THE FOR LOOP: After all workers are done training...\n",
    "    # Calculate the federated average and save the new model in \"fed_avg\"\n",
    "    fed_start_time = time.time()\n",
    "    fed_avg = utils.federated_avg({\n",
    "        \"worker1\": worker1_model,\n",
    "        \"worker2\": worker2_model,\n",
    "        \"worker3\": worker3_model\n",
    "    })\n",
    "    fed_end_time = time.time() - fed_start_time\n",
    "    total_epoch_time += fed_end_time\n",
    "    print(\"TOTAL TIME FOR THIS EPOCH: \", round(total_epoch_time, 4), \" s\")\n",
    "    \n",
    "    # Return the new fed_avg\n",
    "#     print(\"Obtained the federated model!\")\n",
    "    return fed_avg, batch_times, total_epoch_time"
   ]
  },
  {
   "cell_type": "markdown",
   "id": "093400c3",
   "metadata": {},
   "source": [
    "## Function used for testing"
   ]
  },
  {
   "cell_type": "code",
   "execution_count": 20,
   "id": "a0266e4b",
   "metadata": {},
   "outputs": [],
   "source": [
    "def test(federated_model):\n",
    "    \n",
    "    # Calculate the accuracy\n",
    "    correct = 0\n",
    "    total = 0\n",
    "\n",
    "    # Do not update your gradients while testing\n",
    "    with torch.no_grad():\n",
    "        print(\"Initiated federated model testing:\")\n",
    "        for i in tqdm(range(len(test_X))):\n",
    "            \n",
    "            # Put the model into evaluation mode so it does not update its gradients during this test\n",
    "            federated_model.eval()\n",
    "\n",
    "            # Obtain the real class for the sample\n",
    "            real_class = torch.argmax(test_y[i])\n",
    "\n",
    "            # Obtain our prediction for said sample (not arg_maxed yet)\n",
    "            output = federated_model(test_X[i].view(-1, 1, IMG_SIZE, IMG_SIZE))[0]\n",
    "\n",
    "            # Obtain our arg_maxed prediction for said sample\n",
    "            predicted_class = torch.argmax(output)\n",
    "\n",
    "            # Update counters\n",
    "            if predicted_class == real_class:\n",
    "                correct += 1\n",
    "            total += 1\n",
    "\n",
    "    print(\"Accuracy of the federated model = \", round(correct/total, 3), \"\\n \\n\")"
   ]
  },
  {
   "cell_type": "markdown",
   "id": "045b5773",
   "metadata": {},
   "source": [
    "# RUN THE MODEL"
   ]
  },
  {
   "cell_type": "code",
   "execution_count": 21,
   "id": "60ab980e",
   "metadata": {
    "scrolled": false
   },
   "outputs": [
    {
     "name": "stdout",
     "output_type": "stream",
     "text": [
      "Epoch Number 1\n"
     ]
    },
    {
     "name": "stderr",
     "output_type": "stream",
     "text": [
      "  1%|          | 1/124 [00:25<52:24, 25.56s/it]\n"
     ]
    },
    {
     "ename": "KeyboardInterrupt",
     "evalue": "",
     "output_type": "error",
     "traceback": [
      "\u001b[0;31m---------------------------------------------------------------------------\u001b[0m",
      "\u001b[0;31mKeyboardInterrupt\u001b[0m                         Traceback (most recent call last)",
      "\u001b[0;32m<ipython-input-21-736c8c2291e8>\u001b[0m in \u001b[0;36m<module>\u001b[0;34m\u001b[0m\n\u001b[1;32m     12\u001b[0m     \u001b[0;31m# Train the individual models, and then obtain the federated averaged model\u001b[0m\u001b[0;34m\u001b[0m\u001b[0;34m\u001b[0m\u001b[0;34m\u001b[0m\u001b[0m\n\u001b[1;32m     13\u001b[0m \u001b[0;31m#     train_start_time = time.time()\u001b[0m\u001b[0;34m\u001b[0m\u001b[0;34m\u001b[0m\u001b[0;34m\u001b[0m\u001b[0m\n\u001b[0;32m---> 14\u001b[0;31m     \u001b[0mfederated_model\u001b[0m\u001b[0;34m,\u001b[0m \u001b[0mbatch_times\u001b[0m\u001b[0;34m,\u001b[0m \u001b[0mepoch_time\u001b[0m \u001b[0;34m=\u001b[0m \u001b[0mtrain\u001b[0m\u001b[0;34m(\u001b[0m\u001b[0;34m)\u001b[0m\u001b[0;34m\u001b[0m\u001b[0;34m\u001b[0m\u001b[0m\n\u001b[0m\u001b[1;32m     15\u001b[0m \u001b[0;31m#     train_total_time = time.time() - train_start_time\u001b[0m\u001b[0;34m\u001b[0m\u001b[0;34m\u001b[0m\u001b[0;34m\u001b[0m\u001b[0m\n\u001b[1;32m     16\u001b[0m \u001b[0;31m#     print(\"Total TRAIN time for epoch \", epoch, \" = \",\u001b[0m\u001b[0;34m\u001b[0m\u001b[0;34m\u001b[0m\u001b[0;34m\u001b[0m\u001b[0m\n",
      "\u001b[0;32m<ipython-input-19-6e3e436ce0a1>\u001b[0m in \u001b[0;36mtrain\u001b[0;34m()\u001b[0m\n\u001b[1;32m     29\u001b[0m         \u001b[0mbatch_y_1\u001b[0m \u001b[0;34m=\u001b[0m \u001b[0mbatch_y_1\u001b[0m\u001b[0;34m.\u001b[0m\u001b[0msend\u001b[0m\u001b[0;34m(\u001b[0m\u001b[0mworker1\u001b[0m\u001b[0;34m)\u001b[0m\u001b[0;34m\u001b[0m\u001b[0;34m\u001b[0m\u001b[0m\n\u001b[1;32m     30\u001b[0m \u001b[0;34m\u001b[0m\u001b[0m\n\u001b[0;32m---> 31\u001b[0;31m         \u001b[0mbatch_X_2\u001b[0m \u001b[0;34m=\u001b[0m \u001b[0mbatch_X_2\u001b[0m\u001b[0;34m.\u001b[0m\u001b[0msend\u001b[0m\u001b[0;34m(\u001b[0m\u001b[0mworker2\u001b[0m\u001b[0;34m)\u001b[0m\u001b[0;34m\u001b[0m\u001b[0;34m\u001b[0m\u001b[0m\n\u001b[0m\u001b[1;32m     32\u001b[0m         \u001b[0mbatch_y_2\u001b[0m \u001b[0;34m=\u001b[0m \u001b[0mbatch_y_2\u001b[0m\u001b[0;34m.\u001b[0m\u001b[0msend\u001b[0m\u001b[0;34m(\u001b[0m\u001b[0mworker2\u001b[0m\u001b[0;34m)\u001b[0m\u001b[0;34m\u001b[0m\u001b[0;34m\u001b[0m\u001b[0m\n\u001b[1;32m     33\u001b[0m \u001b[0;34m\u001b[0m\u001b[0m\n",
      "\u001b[0;32m~/anaconda3/envs/PySyft_SLU/lib/python3.7/site-packages/syft/generic/abstract/hookable.py\u001b[0m in \u001b[0;36mhooked_method\u001b[0;34m(self, *args, **kwargs)\u001b[0m\n\u001b[1;32m     39\u001b[0m     \u001b[0;32mdef\u001b[0m \u001b[0mhooked_method\u001b[0m\u001b[0;34m(\u001b[0m\u001b[0mself\u001b[0m\u001b[0;34m,\u001b[0m \u001b[0;34m*\u001b[0m\u001b[0margs\u001b[0m\u001b[0;34m,\u001b[0m \u001b[0;34m**\u001b[0m\u001b[0mkwargs\u001b[0m\u001b[0;34m)\u001b[0m\u001b[0;34m:\u001b[0m\u001b[0;34m\u001b[0m\u001b[0;34m\u001b[0m\u001b[0m\n\u001b[1;32m     40\u001b[0m         \u001b[0mmap_chain_call\u001b[0m\u001b[0;34m(\u001b[0m\u001b[0mself\u001b[0m\u001b[0;34m,\u001b[0m \u001b[0;34mf\"_before_{method_name}\"\u001b[0m\u001b[0;34m,\u001b[0m \u001b[0;34m*\u001b[0m\u001b[0margs\u001b[0m\u001b[0;34m,\u001b[0m \u001b[0;34m**\u001b[0m\u001b[0mkwargs\u001b[0m\u001b[0;34m)\u001b[0m\u001b[0;34m\u001b[0m\u001b[0;34m\u001b[0m\u001b[0m\n\u001b[0;32m---> 41\u001b[0;31m         \u001b[0mreturn_val\u001b[0m \u001b[0;34m=\u001b[0m \u001b[0mhookable_method\u001b[0m\u001b[0;34m(\u001b[0m\u001b[0mself\u001b[0m\u001b[0;34m,\u001b[0m \u001b[0;34m*\u001b[0m\u001b[0margs\u001b[0m\u001b[0;34m,\u001b[0m \u001b[0;34m**\u001b[0m\u001b[0mkwargs\u001b[0m\u001b[0;34m)\u001b[0m\u001b[0;34m\u001b[0m\u001b[0;34m\u001b[0m\u001b[0m\n\u001b[0m\u001b[1;32m     42\u001b[0m         \u001b[0mreturn_val\u001b[0m \u001b[0;34m=\u001b[0m \u001b[0mreduce_chain_call\u001b[0m\u001b[0;34m(\u001b[0m\u001b[0mself\u001b[0m\u001b[0;34m,\u001b[0m \u001b[0;34mf\"_after_{method_name}\"\u001b[0m\u001b[0;34m,\u001b[0m \u001b[0mreturn_val\u001b[0m\u001b[0;34m,\u001b[0m \u001b[0;34m*\u001b[0m\u001b[0margs\u001b[0m\u001b[0;34m,\u001b[0m \u001b[0;34m**\u001b[0m\u001b[0mkwargs\u001b[0m\u001b[0;34m)\u001b[0m\u001b[0;34m\u001b[0m\u001b[0;34m\u001b[0m\u001b[0m\n\u001b[1;32m     43\u001b[0m         \u001b[0;32mreturn\u001b[0m \u001b[0mreturn_val\u001b[0m\u001b[0;34m\u001b[0m\u001b[0;34m\u001b[0m\u001b[0m\n",
      "\u001b[0;32m~/anaconda3/envs/PySyft_SLU/lib/python3.7/site-packages/syft/frameworks/torch/tensors/interpreters/native.py\u001b[0m in \u001b[0;36msend\u001b[0;34m(self, inplace, user, local_autograd, requires_grad, preinitialize_grad, no_wrap, garbage_collect_data, *location)\u001b[0m\n\u001b[1;32m    488\u001b[0m                 \u001b[0mrequires_grad\u001b[0m\u001b[0;34m=\u001b[0m\u001b[0mrequires_grad\u001b[0m\u001b[0;34m,\u001b[0m\u001b[0;34m\u001b[0m\u001b[0;34m\u001b[0m\u001b[0m\n\u001b[1;32m    489\u001b[0m                 \u001b[0mpreinitialize_grad\u001b[0m\u001b[0;34m=\u001b[0m\u001b[0mpreinitialize_grad\u001b[0m\u001b[0;34m,\u001b[0m\u001b[0;34m\u001b[0m\u001b[0;34m\u001b[0m\u001b[0m\n\u001b[0;32m--> 490\u001b[0;31m                 \u001b[0mgarbage_collect_data\u001b[0m\u001b[0;34m=\u001b[0m\u001b[0mgarbage_collect_data\u001b[0m\u001b[0;34m,\u001b[0m\u001b[0;34m\u001b[0m\u001b[0;34m\u001b[0m\u001b[0m\n\u001b[0m\u001b[1;32m    491\u001b[0m             )\n\u001b[1;32m    492\u001b[0m \u001b[0;34m\u001b[0m\u001b[0m\n",
      "\u001b[0;32m~/anaconda3/envs/PySyft_SLU/lib/python3.7/site-packages/syft/workers/base.py\u001b[0m in \u001b[0;36msend\u001b[0;34m(self, obj, workers, ptr_id, garbage_collect_data, requires_grad, create_pointer, **kwargs)\u001b[0m\n\u001b[1;32m    429\u001b[0m \u001b[0;34m\u001b[0m\u001b[0m\n\u001b[1;32m    430\u001b[0m         \u001b[0;31m# Send the object\u001b[0m\u001b[0;34m\u001b[0m\u001b[0;34m\u001b[0m\u001b[0;34m\u001b[0m\u001b[0m\n\u001b[0;32m--> 431\u001b[0;31m         \u001b[0mself\u001b[0m\u001b[0;34m.\u001b[0m\u001b[0msend_obj\u001b[0m\u001b[0;34m(\u001b[0m\u001b[0mobj\u001b[0m\u001b[0;34m,\u001b[0m \u001b[0mworker\u001b[0m\u001b[0;34m)\u001b[0m\u001b[0;34m\u001b[0m\u001b[0;34m\u001b[0m\u001b[0m\n\u001b[0m\u001b[1;32m    432\u001b[0m \u001b[0;34m\u001b[0m\u001b[0m\n\u001b[1;32m    433\u001b[0m         \u001b[0;32mif\u001b[0m \u001b[0mrequires_grad\u001b[0m\u001b[0;34m:\u001b[0m\u001b[0;34m\u001b[0m\u001b[0;34m\u001b[0m\u001b[0m\n",
      "\u001b[0;32m~/anaconda3/envs/PySyft_SLU/lib/python3.7/site-packages/syft/workers/base.py\u001b[0m in \u001b[0;36msend_obj\u001b[0;34m(self, obj, location)\u001b[0m\n\u001b[1;32m    587\u001b[0m                 \u001b[0mreceive\u001b[0m \u001b[0mthe\u001b[0m \u001b[0mobject\u001b[0m\u001b[0;34m.\u001b[0m\u001b[0;34m\u001b[0m\u001b[0;34m\u001b[0m\u001b[0m\n\u001b[1;32m    588\u001b[0m         \"\"\"\n\u001b[0;32m--> 589\u001b[0;31m         \u001b[0;32mreturn\u001b[0m \u001b[0mself\u001b[0m\u001b[0;34m.\u001b[0m\u001b[0msend_msg\u001b[0m\u001b[0;34m(\u001b[0m\u001b[0mObjectMessage\u001b[0m\u001b[0;34m(\u001b[0m\u001b[0mobj\u001b[0m\u001b[0;34m)\u001b[0m\u001b[0;34m,\u001b[0m \u001b[0mlocation\u001b[0m\u001b[0;34m)\u001b[0m\u001b[0;34m\u001b[0m\u001b[0;34m\u001b[0m\u001b[0m\n\u001b[0m\u001b[1;32m    590\u001b[0m \u001b[0;34m\u001b[0m\u001b[0m\n\u001b[1;32m    591\u001b[0m     def request_obj(\n",
      "\u001b[0;32m~/anaconda3/envs/PySyft_SLU/lib/python3.7/site-packages/syft/workers/base.py\u001b[0m in \u001b[0;36msend_msg\u001b[0;34m(self, message, location)\u001b[0m\n\u001b[1;32m    311\u001b[0m \u001b[0;34m\u001b[0m\u001b[0m\n\u001b[1;32m    312\u001b[0m         \u001b[0;31m# Step 1: serialize the message to a binary\u001b[0m\u001b[0;34m\u001b[0m\u001b[0;34m\u001b[0m\u001b[0;34m\u001b[0m\u001b[0m\n\u001b[0;32m--> 313\u001b[0;31m         \u001b[0mbin_message\u001b[0m \u001b[0;34m=\u001b[0m \u001b[0msy\u001b[0m\u001b[0;34m.\u001b[0m\u001b[0mserde\u001b[0m\u001b[0;34m.\u001b[0m\u001b[0mserialize\u001b[0m\u001b[0;34m(\u001b[0m\u001b[0mmessage\u001b[0m\u001b[0;34m,\u001b[0m \u001b[0mworker\u001b[0m\u001b[0;34m=\u001b[0m\u001b[0mself\u001b[0m\u001b[0;34m)\u001b[0m\u001b[0;34m\u001b[0m\u001b[0;34m\u001b[0m\u001b[0m\n\u001b[0m\u001b[1;32m    314\u001b[0m \u001b[0;34m\u001b[0m\u001b[0m\n\u001b[1;32m    315\u001b[0m         \u001b[0;31m# Step 2: send the message and wait for a response\u001b[0m\u001b[0;34m\u001b[0m\u001b[0;34m\u001b[0m\u001b[0;34m\u001b[0m\u001b[0m\n",
      "\u001b[0;32m~/anaconda3/envs/PySyft_SLU/lib/python3.7/site-packages/syft/serde/serde.py\u001b[0m in \u001b[0;36mserialize\u001b[0;34m(obj, worker, simplified, force_full_simplification, strategy)\u001b[0m\n\u001b[1;32m     45\u001b[0m         \u001b[0mstrategy\u001b[0m \u001b[0;34m=\u001b[0m \u001b[0mmsgpack_serialize\u001b[0m\u001b[0;34m\u001b[0m\u001b[0;34m\u001b[0m\u001b[0m\n\u001b[1;32m     46\u001b[0m \u001b[0;34m\u001b[0m\u001b[0m\n\u001b[0;32m---> 47\u001b[0;31m     \u001b[0;32mreturn\u001b[0m \u001b[0mstrategy\u001b[0m\u001b[0;34m(\u001b[0m\u001b[0mobj\u001b[0m\u001b[0;34m,\u001b[0m \u001b[0mworker\u001b[0m\u001b[0;34m,\u001b[0m \u001b[0msimplified\u001b[0m\u001b[0;34m,\u001b[0m \u001b[0mforce_full_simplification\u001b[0m\u001b[0;34m)\u001b[0m\u001b[0;34m\u001b[0m\u001b[0;34m\u001b[0m\u001b[0m\n\u001b[0m\u001b[1;32m     48\u001b[0m \u001b[0;34m\u001b[0m\u001b[0m\n\u001b[1;32m     49\u001b[0m \u001b[0;34m\u001b[0m\u001b[0m\n",
      "\u001b[0;32m~/anaconda3/envs/PySyft_SLU/lib/python3.7/site-packages/syft/serde/msgpack/serde.py\u001b[0m in \u001b[0;36mserialize\u001b[0;34m(obj, worker, simplified, force_full_simplification)\u001b[0m\n\u001b[1;32m    341\u001b[0m \u001b[0;34m\u001b[0m\u001b[0m\n\u001b[1;32m    342\u001b[0m     \u001b[0msimple_objects\u001b[0m \u001b[0;34m=\u001b[0m \u001b[0m_serialize_msgpack_simple\u001b[0m\u001b[0;34m(\u001b[0m\u001b[0mobj\u001b[0m\u001b[0;34m,\u001b[0m \u001b[0mworker\u001b[0m\u001b[0;34m,\u001b[0m \u001b[0msimplified\u001b[0m\u001b[0;34m,\u001b[0m \u001b[0mforce_full_simplification\u001b[0m\u001b[0;34m)\u001b[0m\u001b[0;34m\u001b[0m\u001b[0;34m\u001b[0m\u001b[0m\n\u001b[0;32m--> 343\u001b[0;31m     \u001b[0;32mreturn\u001b[0m \u001b[0m_serialize_msgpack_binary\u001b[0m\u001b[0;34m(\u001b[0m\u001b[0msimple_objects\u001b[0m\u001b[0;34m)\u001b[0m\u001b[0;34m\u001b[0m\u001b[0;34m\u001b[0m\u001b[0m\n\u001b[0m\u001b[1;32m    344\u001b[0m \u001b[0;34m\u001b[0m\u001b[0m\n\u001b[1;32m    345\u001b[0m \u001b[0;34m\u001b[0m\u001b[0m\n",
      "\u001b[0;32m~/anaconda3/envs/PySyft_SLU/lib/python3.7/site-packages/syft/serde/msgpack/serde.py\u001b[0m in \u001b[0;36m_serialize_msgpack_binary\u001b[0;34m(simple_objects, worker, simplified, force_full_simplification)\u001b[0m\n\u001b[1;32m    306\u001b[0m     \u001b[0;31m# even if compressed flag is set to false by the caller we\u001b[0m\u001b[0;34m\u001b[0m\u001b[0;34m\u001b[0m\u001b[0;34m\u001b[0m\u001b[0m\n\u001b[1;32m    307\u001b[0m     \u001b[0;31m# output the input stream as it is with header set to '0'\u001b[0m\u001b[0;34m\u001b[0m\u001b[0;34m\u001b[0m\u001b[0;34m\u001b[0m\u001b[0m\n\u001b[0;32m--> 308\u001b[0;31m     \u001b[0;32mreturn\u001b[0m \u001b[0mcompression\u001b[0m\u001b[0;34m.\u001b[0m\u001b[0m_compress\u001b[0m\u001b[0;34m(\u001b[0m\u001b[0mbinary\u001b[0m\u001b[0;34m)\u001b[0m\u001b[0;34m\u001b[0m\u001b[0;34m\u001b[0m\u001b[0m\n\u001b[0m\u001b[1;32m    309\u001b[0m \u001b[0;34m\u001b[0m\u001b[0m\n\u001b[1;32m    310\u001b[0m \u001b[0;34m\u001b[0m\u001b[0m\n",
      "\u001b[0;32m~/anaconda3/envs/PySyft_SLU/lib/python3.7/site-packages/syft/serde/compression.py\u001b[0m in \u001b[0;36m_compress\u001b[0;34m(decompressed_input_bin)\u001b[0m\n\u001b[1;32m     96\u001b[0m \u001b[0;34m\u001b[0m\u001b[0m\n\u001b[1;32m     97\u001b[0m     \"\"\"\n\u001b[0;32m---> 98\u001b[0;31m     \u001b[0mcompress_stream\u001b[0m\u001b[0;34m,\u001b[0m \u001b[0mcompress_scheme\u001b[0m \u001b[0;34m=\u001b[0m \u001b[0m_apply_compress_scheme\u001b[0m\u001b[0;34m(\u001b[0m\u001b[0mdecompressed_input_bin\u001b[0m\u001b[0;34m)\u001b[0m\u001b[0;34m\u001b[0m\u001b[0;34m\u001b[0m\u001b[0m\n\u001b[0m\u001b[1;32m     99\u001b[0m     \u001b[0;32mtry\u001b[0m\u001b[0;34m:\u001b[0m\u001b[0;34m\u001b[0m\u001b[0;34m\u001b[0m\u001b[0m\n\u001b[1;32m    100\u001b[0m         \u001b[0mz\u001b[0m \u001b[0;34m=\u001b[0m \u001b[0mscheme_to_bytes\u001b[0m\u001b[0;34m[\u001b[0m\u001b[0mcompress_scheme\u001b[0m\u001b[0;34m]\u001b[0m \u001b[0;34m+\u001b[0m \u001b[0mcompress_stream\u001b[0m\u001b[0;34m\u001b[0m\u001b[0;34m\u001b[0m\u001b[0m\n",
      "\u001b[0;32m~/anaconda3/envs/PySyft_SLU/lib/python3.7/site-packages/syft/serde/compression.py\u001b[0m in \u001b[0;36m_apply_compress_scheme\u001b[0;34m(decompressed_input_bin)\u001b[0m\n\u001b[1;32m     33\u001b[0m         \u001b[0mdecompressed_input_bin\u001b[0m\u001b[0;34m:\u001b[0m \u001b[0mthe\u001b[0m \u001b[0mbinary\u001b[0m \u001b[0mto\u001b[0m \u001b[0mbe\u001b[0m \u001b[0mcompressed\u001b[0m\u001b[0;34m\u001b[0m\u001b[0;34m\u001b[0m\u001b[0m\n\u001b[1;32m     34\u001b[0m     \"\"\"\n\u001b[0;32m---> 35\u001b[0;31m     \u001b[0;32mreturn\u001b[0m \u001b[0mscheme_to_compression\u001b[0m\u001b[0;34m[\u001b[0m\u001b[0mdefault_compress_scheme\u001b[0m\u001b[0;34m]\u001b[0m\u001b[0;34m(\u001b[0m\u001b[0mdecompressed_input_bin\u001b[0m\u001b[0;34m)\u001b[0m\u001b[0;34m\u001b[0m\u001b[0;34m\u001b[0m\u001b[0m\n\u001b[0m\u001b[1;32m     36\u001b[0m \u001b[0;34m\u001b[0m\u001b[0m\n\u001b[1;32m     37\u001b[0m \u001b[0;34m\u001b[0m\u001b[0m\n",
      "\u001b[0;32m~/anaconda3/envs/PySyft_SLU/lib/python3.7/site-packages/syft/serde/compression.py\u001b[0m in \u001b[0;36mapply_lz4_compression\u001b[0;34m(decompressed_input_bin)\u001b[0m\n\u001b[1;32m     60\u001b[0m         \u001b[0ma\u001b[0m \u001b[0mtuple\u001b[0m \u001b[0;34m(\u001b[0m\u001b[0mcompressed_result\u001b[0m\u001b[0;34m,\u001b[0m \u001b[0mLZ4\u001b[0m\u001b[0;34m)\u001b[0m\u001b[0;34m\u001b[0m\u001b[0;34m\u001b[0m\u001b[0m\n\u001b[1;32m     61\u001b[0m     \"\"\"\n\u001b[0;32m---> 62\u001b[0;31m     \u001b[0;32mreturn\u001b[0m \u001b[0mlz4\u001b[0m\u001b[0;34m.\u001b[0m\u001b[0mframe\u001b[0m\u001b[0;34m.\u001b[0m\u001b[0mcompress\u001b[0m\u001b[0;34m(\u001b[0m\u001b[0mdecompressed_input_bin\u001b[0m\u001b[0;34m)\u001b[0m\u001b[0;34m,\u001b[0m \u001b[0mLZ4\u001b[0m\u001b[0;34m\u001b[0m\u001b[0;34m\u001b[0m\u001b[0m\n\u001b[0m\u001b[1;32m     63\u001b[0m \u001b[0;34m\u001b[0m\u001b[0m\n\u001b[1;32m     64\u001b[0m \u001b[0;34m\u001b[0m\u001b[0m\n",
      "\u001b[0;31mKeyboardInterrupt\u001b[0m: "
     ]
    }
   ],
   "source": [
    "# Define your number of epochs\n",
    "epochs = 5\n",
    "epoch_times = []\n",
    "\n",
    "# Train all workers for the set number of epochs\n",
    "for epoch in range(epochs):\n",
    "    \n",
    "    # Start counting the time for this epoch\n",
    "    epoch_start_time = time.time()\n",
    "    print(f\"Epoch Number {epoch + 1}\")\n",
    "    \n",
    "    # Train the individual models, and then obtain the federated averaged model\n",
    "#     train_start_time = time.time()\n",
    "    federated_model, batch_times, epoch_time = train()\n",
    "#     train_total_time = time.time() - train_start_time\n",
    "#     print(\"Total TRAIN time for epoch \", epoch, \" = \", \n",
    "#           round(train_total_time/(len(compute_nodes) * 60), 2), \" min\")\n",
    "#     print(\"Finished training the federated model!\")\n",
    "    \n",
    "    # Save the epoch time\n",
    "    epoch_times.append(epoch_time)\n",
    "    \n",
    "    # The model to be send and then trained on all workers from now on is the new federated model\n",
    "#     for model in models:\n",
    "#         model = federated_model.copy()\n",
    "    global worker1_model\n",
    "    worker1_model = federated_model.copy()\n",
    "    global worker2_model\n",
    "    worker2_model = federated_model.copy()\n",
    "    global worker3_model\n",
    "    worker3_model = federated_model.copy()\n",
    "#     print(\"Replaced original models with the new federated model!\")\n",
    "    \n",
    "    # Stop counting the time\n",
    "#     epoch_total_time = time.time() - epoch_start_time\n",
    "#     print('Time for this epoch', round(epoch_total_time/60, 2), 'min')\n",
    "    \n",
    "    # Test your new model to keep a log of how good we're doing per epoch \n",
    "    test(federated_model)\n",
    "#     print(\"Successfully tested the federated model!\")\n",
    "    \n",
    "    # Save the batch times\n",
    "    df_batch = pd.DataFrame(batch_times)\n",
    "    df_batch.to_csv(\"./Batch_times/STD_ECHO_FL_epoch_\" + str(epoch) + \".csv\")\n",
    "    \n",
    "\n",
    "# OUTSIDE THE FOR LOOP\n",
    "df_epoch = pd.DataFrame(epoch_times)\n",
    "df_epoch.to_csv(\"./Epoch_times/STD_ECHO_FL.csv\")\n",
    "    \n",
    "# Clean the global namespace after run is done\n",
    "%reset -f"
   ]
  }
 ],
 "metadata": {
  "kernelspec": {
   "display_name": "Python 3",
   "language": "python",
   "name": "python3"
  },
  "language_info": {
   "codemirror_mode": {
    "name": "ipython",
    "version": 3
   },
   "file_extension": ".py",
   "mimetype": "text/x-python",
   "name": "python",
   "nbconvert_exporter": "python",
   "pygments_lexer": "ipython3",
   "version": "3.7.10"
  }
 },
 "nbformat": 4,
 "nbformat_minor": 5
}
