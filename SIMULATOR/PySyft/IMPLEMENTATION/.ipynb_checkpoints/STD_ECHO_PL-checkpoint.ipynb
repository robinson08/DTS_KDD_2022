{
 "cells": [
  {
   "cell_type": "markdown",
   "id": "bbe64fe5",
   "metadata": {},
   "source": [
    "# Import necessary libraries"
   ]
  },
  {
   "cell_type": "code",
   "execution_count": 1,
   "id": "852a0af3",
   "metadata": {},
   "outputs": [],
   "source": [
    "# General\n",
    "import os\n",
    "import cv2\n",
    "import numpy as np\n",
    "from tqdm import tqdm\n",
    "import matplotlib.pyplot as plt\n",
    "import pickle\n",
    "import time\n",
    "import copy\n",
    "import pandas as pd\n",
    "\n",
    "\n",
    "# Pytorch\n",
    "import torch\n",
    "import torch.nn as nn\n",
    "import torch.nn.functional as F\n",
    "import torch.optim as optim\n",
    "from torch.utils.data import TensorDataset, DataLoader\n",
    "\n",
    "\n",
    "# PySyft\n",
    "import syft as sy\n",
    "from syft.frameworks.torch.fl import utils\n",
    "from syft.workers.websocket_client import WebsocketClientWorker"
   ]
  },
  {
   "cell_type": "markdown",
   "id": "676b4bca",
   "metadata": {},
   "source": [
    "# Pre-processing the Data"
   ]
  },
  {
   "cell_type": "code",
   "execution_count": 2,
   "id": "73592f7b",
   "metadata": {},
   "outputs": [],
   "source": [
    "# Flag to only rebuild data once\n",
    "REBUILD_DATA = False"
   ]
  },
  {
   "cell_type": "code",
   "execution_count": 3,
   "id": "d402e03e",
   "metadata": {},
   "outputs": [],
   "source": [
    "# Set the image size Y where Y represents YxY \n",
    "IMG_SIZE = 64\n",
    "BATCH_SIZE = 100\n",
    "LR = 0.001"
   ]
  },
  {
   "cell_type": "code",
   "execution_count": 4,
   "id": "1884f11d",
   "metadata": {},
   "outputs": [],
   "source": [
    "# Create a pre-processing class\n",
    "class EchoData_Train():\n",
    "    \n",
    "    # Define the img_size we want for ALL of the images\n",
    "    \n",
    "#     source_folder = r\"/media/wilfredo/Willie931GB/SLU/EchoNet/EchoNet-Dynamic/TRAIN/Healthy_FRAMES/\"\n",
    "    # Define where your data is stored\n",
    "    HEALTHY = r\"/media/wilfredo/Willie931GB/SLU/EchoNet/EchoNet-Dynamic/TRAIN/Healthy_FRAMES/\"\n",
    "    ALERT = r\"/media/wilfredo/Willie931GB/SLU/EchoNet/EchoNet-Dynamic/TRAIN/Alert_FRAMES/\"\n",
    "#     TESTING = \"./Datasets/cats_and_dogs/PetImages/Testing\"\n",
    "    \n",
    "    # Define what each type of image is (their labels for the NN)\n",
    "    LABELS = {HEALTHY: 0, ALERT: 1}\n",
    "    \n",
    "    # Define your image size\n",
    "    IMG_SIZE = 64\n",
    "    \n",
    "    # Define your training data\n",
    "    training_data = []\n",
    "    \n",
    "    # Define your counters to check for imbalance issues\n",
    "    healthy_count = 0\n",
    "    alert_count = 0\n",
    "    \n",
    "    def make_training_data(self):\n",
    "        for label in self.LABELS:\n",
    "            # Iterare over the images in the directories\n",
    "            # tqdm is just here to show a progress bar\n",
    "            for f in tqdm(os.listdir(label)):\n",
    "                \n",
    "                # We will TRY this piece of code. Some images might lead to errors, so instead of stoppin EVERY\n",
    "                # time we find an error, let's just ignore the image\n",
    "                try: \n",
    "                    # Define the image path\n",
    "                    path = os.path.join(label, f)\n",
    "\n",
    "                    # Select the image and convert it to grayscale, because color is not a defining feature \n",
    "                    # to know if something is a cat or a dog\n",
    "                    img = cv2.imread(path, cv2.IMREAD_GRAYSCALE)\n",
    "\n",
    "                    # Resize the image\n",
    "                    img = cv2.resize(img, (self.IMG_SIZE, self.IMG_SIZE))\n",
    "\n",
    "                    # Add the image AND its label to the training data\n",
    "                    self.training_data.append([np.array(img), np.eye(2)[self.LABELS[label]]])\n",
    "                    # The label here was added as a 1-hot vector. We create an identity matrix with \n",
    "                    # numpy (np.eye), of two classes (np.eye(2)), and the corresponding output that each label \n",
    "                    # should represent label = 0 should be \"cat\", so [1, 0], and \"dog\" should be [0, 1]\n",
    "\n",
    "                    # COunt which are cats and which are dogs\n",
    "                    if label == self.HEALTHY:\n",
    "                        self.healthy_count += 1\n",
    "                    elif label == self.ALERT:\n",
    "                        self.alert_count += 1\n",
    "                \n",
    "                except Exception as e:\n",
    "                    pass\n",
    "#                     print(str(e))\n",
    "        \n",
    "        # Outside the for loop but still within the function\n",
    "        # Now we shuffle the data and save it to the local directory\n",
    "        np.random.shuffle(self.training_data)\n",
    "        np.save(r\"/media/wilfredo/Willie931GB/SLU/EchoNet/EchoNet-Dynamic/Numpy_Datasets/training_data_size_64.npy\", self.training_data)\n",
    "        print(\"Healthy = \", self.healthy_count)\n",
    "        print(\"Alert = \", self.alert_count)"
   ]
  },
  {
   "cell_type": "code",
   "execution_count": 5,
   "id": "41faa38b",
   "metadata": {},
   "outputs": [],
   "source": [
    "# Create a pre-processing class\n",
    "class EchoData_Test():\n",
    "    \n",
    "    # Define the img_size we want for ALL of the images\n",
    "    \n",
    "#     source_folder = r\"/media/wilfredo/Willie931GB/SLU/EchoNet/EchoNet-Dynamic/TRAIN/Healthy_FRAMES/\"\n",
    "    # Define where your data is stored\n",
    "    HEALTHY = r\"/media/wilfredo/Willie931GB/SLU/EchoNet/EchoNet-Dynamic/TEST/Healthy_FRAMES/\"\n",
    "    ALERT = r\"/media/wilfredo/Willie931GB/SLU/EchoNet/EchoNet-Dynamic/TEST/Alert_FRAMES/\"\n",
    "#     TESTING = \"./Datasets/cats_and_dogs/PetImages/Testing\"\n",
    "    \n",
    "    # Define what each type of image is (their labels for the NN)\n",
    "    LABELS = {HEALTHY: 0, ALERT: 1}\n",
    "    \n",
    "    # Define your image size\n",
    "    IMG_SIZE = 64\n",
    "    \n",
    "    # Define your training data\n",
    "    test_data = []\n",
    "    \n",
    "    # Define your counters to check for imbalance issues\n",
    "    healthy_count = 0\n",
    "    alert_count = 0\n",
    "    \n",
    "    def make_test_data(self):\n",
    "        for label in self.LABELS:\n",
    "            # Iterare over the images in the directories\n",
    "            # tqdm is just here to show a progress bar\n",
    "            for f in tqdm(os.listdir(label)):\n",
    "                \n",
    "                # We will TRY this piece of code. Some images might lead to errors, so instead of stoppin EVERY\n",
    "                # time we find an error, let's just ignore the image\n",
    "                try: \n",
    "                    # Define the image path\n",
    "                    path = os.path.join(label, f)\n",
    "\n",
    "                    # Select the image and convert it to grayscale, because color is not a defining feature \n",
    "                    # to know if something is a cat or a dog\n",
    "                    img = cv2.imread(path, cv2.IMREAD_GRAYSCALE)\n",
    "\n",
    "                    # Resize the image\n",
    "                    img = cv2.resize(img, (self.IMG_SIZE, self.IMG_SIZE))\n",
    "\n",
    "                    # Add the image AND its label to the training data\n",
    "                    self.test_data.append([np.array(img), np.eye(2)[self.LABELS[label]]])\n",
    "                    # The label here was added as a 1-hot vector. We create an identity matrix with \n",
    "                    # numpy (np.eye), of two classes (np.eye(2)), and the corresponding output that each label \n",
    "                    # should represent label = 0 should be \"cat\", so [1, 0], and \"dog\" should be [0, 1]\n",
    "\n",
    "                    # COunt which are cats and which are dogs\n",
    "                    if label == self.HEALTHY:\n",
    "                        self.healthy_count += 1\n",
    "                    elif label == self.ALERT:\n",
    "                        self.alert_count += 1\n",
    "                \n",
    "                except Exception as e:\n",
    "                    pass\n",
    "#                     print(str(e))\n",
    "        \n",
    "        # Outside the for loop but still within the function\n",
    "        # Now we shuffle the data and save it to the local directory\n",
    "        np.random.shuffle(self.test_data)\n",
    "        np.save(r\"/media/wilfredo/Willie931GB/SLU/EchoNet/EchoNet-Dynamic/Numpy_Datasets/test_data_size_64.npy\", self.test_data)\n",
    "        print(\"Healthy = \", self.healthy_count)\n",
    "        print(\"Alert = \", self.alert_count)"
   ]
  },
  {
   "cell_type": "code",
   "execution_count": 6,
   "id": "46874a4b",
   "metadata": {},
   "outputs": [],
   "source": [
    "# Run the thing IF we want to rebuild the data, and check our distribution of data\n",
    "if REBUILD_DATA:\n",
    "    echo_data_train = EchoData_Train()\n",
    "    echo_data_train.make_training_data()\n",
    "    echo_data_test = EchoData_Test()\n",
    "    echo_data_test.make_test_data()"
   ]
  },
  {
   "cell_type": "code",
   "execution_count": 7,
   "id": "c88ed6ed",
   "metadata": {},
   "outputs": [],
   "source": [
    "# Load the data from the file it was saved in\n",
    "training_data = np.load(r\"/media/wilfredo/Willie931GB/SLU/EchoNet/EchoNet-Dynamic/Numpy_Datasets/training_data_size_64.npy\", allow_pickle = True)\n",
    "test_data = np.load(r\"/media/wilfredo/Willie931GB/SLU/EchoNet/EchoNet-Dynamic/Numpy_Datasets/test_data_size_64.npy\", allow_pickle = True)"
   ]
  },
  {
   "cell_type": "code",
   "execution_count": 8,
   "id": "0af6ac9f",
   "metadata": {},
   "outputs": [
    {
     "name": "stdout",
     "output_type": "stream",
     "text": [
      "37172\n"
     ]
    }
   ],
   "source": [
    "# Check the length of the data\n",
    "print(len(training_data))"
   ]
  },
  {
   "cell_type": "code",
   "execution_count": 9,
   "id": "80aebc8f",
   "metadata": {},
   "outputs": [
    {
     "name": "stdout",
     "output_type": "stream",
     "text": [
      "[array([[0, 0, 0, ..., 0, 0, 0],\n",
      "        [0, 0, 0, ..., 0, 0, 0],\n",
      "        [0, 0, 0, ..., 0, 0, 0],\n",
      "        ...,\n",
      "        [1, 0, 0, ..., 0, 0, 1],\n",
      "        [0, 0, 1, ..., 2, 1, 0],\n",
      "        [1, 1, 0, ..., 0, 0, 0]], dtype=uint8) array([1., 0.])]\n"
     ]
    }
   ],
   "source": [
    "# Check how the data is stored\n",
    "print(training_data[1])"
   ]
  },
  {
   "cell_type": "code",
   "execution_count": 10,
   "id": "e18c59ad",
   "metadata": {
    "scrolled": true
   },
   "outputs": [
    {
     "data": {
      "image/png": "[encoded data removed]",
      "text/plain": [
       "<Figure size 432x288 with 1 Axes>"
      ]
     },
     "metadata": {
      "needs_background": "light"
     },
     "output_type": "display_data"
    }
   ],
   "source": [
    "# Check the image. cmap = coloring map\n",
    "plt.imshow(training_data[0][0], cmap = \"gray\")\n",
    "plt.show()\n",
    "\n",
    "# Here training_data is an array of THREE columns:\n",
    "    # one for ALL images of cats (training_data[0])\n",
    "    # one for ALL images of dogs (training_data[1]),\n",
    "    # and then another final column containing the 1-hot vector establishing \n",
    "    # what is the label of said image ([0,1])"
   ]
  },
  {
   "cell_type": "markdown",
   "id": "66927f43",
   "metadata": {},
   "source": [
    "# Create the CNN (based on VGG11)\n",
    "Source: Page 3/14, Table 1, Configuration A, https://arxiv.org/pdf/1409.1556.pdf"
   ]
  },
  {
   "cell_type": "markdown",
   "id": "d6048449",
   "metadata": {},
   "source": [
    "## Individual Client Models"
   ]
  },
  {
   "cell_type": "code",
   "execution_count": 11,
   "id": "ff535f02",
   "metadata": {},
   "outputs": [],
   "source": [
    "class Net_client1(nn.Module):\n",
    "    def __init__(self):\n",
    "        super().__init__()\n",
    "        # Define your first convolutional layer: input = 1, output = 32 convolutional features, kernel size = 5\n",
    "        # Remember that kernel = 5 means that the \"window\" used to scan for features will be 5x5\n",
    "        self.conv1 = nn.Conv2d(1, 32, 3)\n",
    "        self.conv2 = nn.Conv2d(32, 64, 3)\n",
    "\n",
    "    # Function defining only one part of the forward pass (the convolution layers only). This will also write\n",
    "    # the output dimensions of the conv layers to self._to_linear ONCE, and this information will then be used \n",
    "    # as the input data flattened dimensions of the next fully connected layers \n",
    "    def convs(self, x):\n",
    "        # Convolutional layer 1 + activation + max_pooling\n",
    "        x = self.conv1(x)\n",
    "        x = F.relu(x)\n",
    "        x = F.max_pool2d(x, (2, 2))\n",
    "        x = self.conv2(x)\n",
    "        x = F.relu(x)\n",
    "        x = F.max_pool2d(x, (2, 2))\n",
    "        return x\n",
    "    \n",
    "    # Function defining the rest of the forward pass\n",
    "    def forward(self, x):\n",
    "        # Run the convs layers first\n",
    "        x = self.convs(x)\n",
    "        return x\n",
    "\n",
    "net_client1 = Net_client1()"
   ]
  },
  {
   "cell_type": "code",
   "execution_count": 12,
   "id": "8083dc85",
   "metadata": {},
   "outputs": [],
   "source": [
    "class Net_client2(nn.Module):\n",
    "    def __init__(self):\n",
    "        super().__init__()\n",
    "        \n",
    "        # Start from the third convolutional layer\n",
    "        self.conv3 = nn.Conv2d(64, 128, 3)\n",
    "        self.conv4 = nn.Conv2d(128, 256, 3)\n",
    "\n",
    "    # Function defining only one part of the forward pass (the convolution layers only). This will also write\n",
    "    # the output dimensions of the conv layers to self._to_linear ONCE, and this information will then be used \n",
    "    # as the input data flattened dimensions of the next fully connected layers \n",
    "    def convs(self, x):\n",
    "        # Convolutional layer 1 + activation + max_pooling\n",
    "        x = self.conv3(x)\n",
    "        x = F.relu(x)\n",
    "        x = F.max_pool2d(x, (2, 2))\n",
    "        x = self.conv4(x)\n",
    "        x = F.relu(x)\n",
    "        x = F.max_pool2d(x, (2, 2))\n",
    "        return x\n",
    "    \n",
    "    # Function defining the rest of the forward pass\n",
    "    def forward(self, x):\n",
    "        # Run the convs layers first\n",
    "        x = self.convs(x)\n",
    "        return x\n",
    "\n",
    "net_client2 = Net_client2()"
   ]
  },
  {
   "cell_type": "code",
   "execution_count": 13,
   "id": "168490c8",
   "metadata": {},
   "outputs": [],
   "source": [
    "class Net_client3(nn.Module):\n",
    "    def __init__(self):\n",
    "        super().__init__()\n",
    "        \n",
    "        # Run the fully connected layers. We know the input of this fc1 layer is 512, because of our previous\n",
    "        # results with FL, where self.__to__linear told us this result when you run the cell that contains the \n",
    "        # NN\n",
    "        \n",
    "        self._to_linear = 1024\n",
    "        self.fc1 = nn.Linear(1024, 512)\n",
    "        self.fc2 = nn.Linear(512, 256)\n",
    "        self.fc3 = nn.Linear(256, 2)\n",
    "\n",
    "    \n",
    "    # Function defining the rest of the forward pass\n",
    "    def forward(self, x):\n",
    "        # Reshape the output data from the convs to be flattened\n",
    "        x = x.view(-1, self._to_linear)\n",
    "        # Pass the data through the fully connected layers now\n",
    "        x = F.relu(self.fc1(x))\n",
    "        x = F.relu(self.fc2(x))\n",
    "        # Pass it through the final layer\n",
    "        x = self.fc3(x)\n",
    "        # One final softmax function to make the output vector look nicer\n",
    "        x = F.softmax(x, dim = 1)\n",
    "        return x\n",
    "\n",
    "net_client3 = Net_client3()"
   ]
  },
  {
   "cell_type": "code",
   "execution_count": 14,
   "id": "7e0c287b",
   "metadata": {},
   "outputs": [],
   "source": [
    "# Take a look at our models\n",
    "model_client1 = net_client1\n",
    "model_client2 = net_client2\n",
    "model_client3 = net_client3"
   ]
  },
  {
   "cell_type": "code",
   "execution_count": 15,
   "id": "7e4f9c2b",
   "metadata": {},
   "outputs": [
    {
     "data": {
      "text/plain": [
       "Net_client1(\n",
       "  (conv1): Conv2d(1, 32, kernel_size=(3, 3), stride=(1, 1))\n",
       "  (conv2): Conv2d(32, 64, kernel_size=(3, 3), stride=(1, 1))\n",
       ")"
      ]
     },
     "execution_count": 15,
     "metadata": {},
     "output_type": "execute_result"
    }
   ],
   "source": [
    "model_client1"
   ]
  },
  {
   "cell_type": "code",
   "execution_count": 16,
   "id": "51c302dd",
   "metadata": {},
   "outputs": [
    {
     "data": {
      "text/plain": [
       "Net_client2(\n",
       "  (conv3): Conv2d(64, 128, kernel_size=(3, 3), stride=(1, 1))\n",
       "  (conv4): Conv2d(128, 256, kernel_size=(3, 3), stride=(1, 1))\n",
       ")"
      ]
     },
     "execution_count": 16,
     "metadata": {},
     "output_type": "execute_result"
    }
   ],
   "source": [
    "model_client2"
   ]
  },
  {
   "cell_type": "code",
   "execution_count": 17,
   "id": "dae2c1db",
   "metadata": {},
   "outputs": [
    {
     "data": {
      "text/plain": [
       "Net_client3(\n",
       "  (fc1): Linear(in_features=1024, out_features=512, bias=True)\n",
       "  (fc2): Linear(in_features=512, out_features=256, bias=True)\n",
       "  (fc3): Linear(in_features=256, out_features=2, bias=True)\n",
       ")"
      ]
     },
     "execution_count": 17,
     "metadata": {},
     "output_type": "execute_result"
    }
   ],
   "source": [
    "model_client3"
   ]
  },
  {
   "cell_type": "markdown",
   "id": "744e9505",
   "metadata": {},
   "source": [
    "# Establish your loss function"
   ]
  },
  {
   "cell_type": "code",
   "execution_count": 18,
   "id": "d394b046",
   "metadata": {},
   "outputs": [],
   "source": [
    "# Set your loss function (MSE for images!)\n",
    "loss_function = nn.MSELoss()"
   ]
  },
  {
   "cell_type": "markdown",
   "id": "b28216af",
   "metadata": {},
   "source": [
    "# Separate your data into data, labels, training, testing, and scale it"
   ]
  },
  {
   "cell_type": "code",
   "execution_count": 19,
   "id": "b023398f",
   "metadata": {},
   "outputs": [],
   "source": [
    "########################## TRAIN DATA ##########################\n",
    "# Separate the x's and the y's\n",
    "X = torch.Tensor([i[0] for i in training_data]).view(-1, 1, IMG_SIZE, IMG_SIZE)\n",
    "\n",
    "# Scale the images. The pixel values are between 0-255, but we want them to be between 0-1\n",
    "X = X/255.0\n",
    "\n",
    "# Get your y's\n",
    "y = torch.Tensor([i[1] for i in training_data])\n",
    "\n",
    "########################## TEST DATA ##########################\n",
    "# Separate the x's and the y's\n",
    "X_test = torch.Tensor([i[0] for i in test_data]).view(-1, 1, IMG_SIZE, IMG_SIZE)\n",
    "\n",
    "# Scale the images. The pixel values are between 0-255, but we want them to be between 0-1\n",
    "X_test = X_test/255.0\n",
    "\n",
    "# Get your y's\n",
    "y_test = torch.Tensor([i[1] for i in test_data])"
   ]
  },
  {
   "cell_type": "code",
   "execution_count": 20,
   "id": "091c778a",
   "metadata": {},
   "outputs": [],
   "source": [
    "# # Set your validation data percentage\n",
    "# VAL_PCT = 0.1\n",
    "# val_size = int(len(X)*VAL_PCT)"
   ]
  },
  {
   "cell_type": "code",
   "execution_count": 21,
   "id": "11253ec7",
   "metadata": {},
   "outputs": [],
   "source": [
    "# Define your training data\n",
    "# train_X = X[:-val_size]\n",
    "# train_y = y[:-val_size]\n",
    "train_X = X\n",
    "train_y = y\n",
    "\n",
    "# Define your testing (validation) data\n",
    "# test_X = X[-val_size:]\n",
    "# test_y = y[-val_size:]\n",
    "test_X = X_test\n",
    "test_y = y_test"
   ]
  },
  {
   "cell_type": "markdown",
   "id": "6c507a44",
   "metadata": {},
   "source": [
    "# Pipeline Learning"
   ]
  },
  {
   "cell_type": "markdown",
   "id": "849b03a2",
   "metadata": {},
   "source": [
    "## Establish the virtual workers, their data, their NNs, and their optimizers"
   ]
  },
  {
   "cell_type": "code",
   "execution_count": 22,
   "id": "f15449c7",
   "metadata": {},
   "outputs": [],
   "source": [
    "# Start the hook\n",
    "hook = sy.TorchHook(torch)\n",
    "\n",
    "# Create your virtual workers and our server\n",
    "worker1 = sy.VirtualWorker(hook, id=\"worker1\")\n",
    "worker2 = sy.VirtualWorker(hook, id=\"worker2\")\n",
    "worker3 = sy.VirtualWorker(hook, id=\"worker3\")\n",
    "\n",
    "# Put the WORKERS into a list for easier access later on\n",
    "compute_nodes = [worker1, worker2, worker3]"
   ]
  },
  {
   "cell_type": "code",
   "execution_count": 23,
   "id": "b0083c0e",
   "metadata": {},
   "outputs": [
    {
     "data": {
      "text/plain": [
       "<VirtualWorker id:worker3 #objects:0>"
      ]
     },
     "execution_count": 23,
     "metadata": {},
     "output_type": "execute_result"
    }
   ],
   "source": [
    "# Clear the workers of any objects, just in case you forgot some were still there from a previous run\n",
    "worker1.clear_objects()\n",
    "worker2.clear_objects()\n",
    "worker3.clear_objects()"
   ]
  },
  {
   "cell_type": "code",
   "execution_count": 24,
   "id": "5a170ccd",
   "metadata": {},
   "outputs": [],
   "source": [
    "# # Establish the NN model for each worker. This is model-centric FL, so it is the same model for all workers\n",
    "worker1_model = model_client1.copy()\n",
    "worker2_model = model_client2.copy()\n",
    "worker3_model = model_client3.copy()\n",
    "# worker1_model = model_client1\n",
    "# worker2_model = model_client2\n",
    "# worker3_model = model_client3\n",
    "\n",
    "# Establish the optimizer for each worker\n",
    "worker1_optimizer = optim.SGD(worker1_model.parameters(), lr=LR)\n",
    "worker2_optimizer = optim.SGD(worker2_model.parameters(), lr=LR)\n",
    "worker3_optimizer = optim.SGD(worker3_model.parameters(), lr=LR)"
   ]
  },
  {
   "cell_type": "code",
   "execution_count": 25,
   "id": "7a8606a1",
   "metadata": {},
   "outputs": [],
   "source": [
    "# Organize the WORKER models and optimizers into lists. The server stuff must not be mixed with these\n",
    "models = [worker1_model, worker2_model, worker3_model]\n",
    "optimizers = [worker1_optimizer, worker2_optimizer, worker3_optimizer]\n",
    "\n",
    "worker_collection = [(worker1, worker1_model, worker1_optimizer), (worker2, worker2_model, worker2_optimizer), \n",
    "                    (worker3, worker3_model, worker3_optimizer)]"
   ]
  },
  {
   "cell_type": "markdown",
   "id": "eb1b7797",
   "metadata": {},
   "source": [
    "## Sequential Training"
   ]
  },
  {
   "cell_type": "code",
   "execution_count": 26,
   "id": "c4d7215e",
   "metadata": {},
   "outputs": [],
   "source": [
    "def train():\n",
    "    \n",
    "    # This is a completely sequential algorithm, so:\n",
    "    batch_count = 0\n",
    "    batch_times = []\n",
    "    total_epoch_time = 0\n",
    "    for i in tqdm(range(0, int(len(train_X)), BATCH_SIZE)):\n",
    "        # Send the models to their respective workers\n",
    "        worker1_model.send(worker1)\n",
    "        worker2_model.send(worker2)\n",
    "        worker3_model.send(worker3)\n",
    "        \n",
    "        # Send the data to first worker in the chain. The labels are only needed on the last worker in the\n",
    "        # chain\n",
    "        batch_X = train_X[i : i + BATCH_SIZE]\n",
    "        batch_y = train_y[i : i + BATCH_SIZE]\n",
    "        batch_X = batch_X.send(worker1)\n",
    "        batch_y = batch_y.send(worker3)\n",
    "        \n",
    "        # Zero the sequence for all models on both workers and server!\n",
    "        worker1_optimizer.zero_grad()\n",
    "        worker2_optimizer.zero_grad()\n",
    "        worker3_optimizer.zero_grad()\n",
    "#         print(\"Zeroed the grads for all workers\")\n",
    "\n",
    "        # Start FP on worker1\n",
    "        FP1_start_time = time.time()\n",
    "        intermediate_1 = worker1_model(batch_X)\n",
    "        FP1_end_time = time.time() - FP1_start_time \n",
    "#         print(\"Finished FP on \", worker1.id)\n",
    "\n",
    "        # Send the intermediate result to worker2 AND SPLIT THE COMPUTATIONAL GRAPH WITH DETACH()!\n",
    "        remote_intermediate_1 = intermediate_1.detach().move(worker2).requires_grad_()\n",
    "#         data_for_edge1 = intermediate_1.detach().move(edge1).requires_grad_()\n",
    "#         print(\"Sent FP status to \", worker2.id)\n",
    "\n",
    "        # Start FP on worker2\n",
    "        FP2_start_time = time.time()\n",
    "        intermediate_2 = worker2_model(remote_intermediate_1)\n",
    "        FP2_end_time = time.time() - FP2_start_time\n",
    "#         print(\"Finished FP on \", worker2.id)\n",
    "        \n",
    "        # Send the intermediate result to worker3 AND SPLIT THE COMPUTATIONAL GRAPH WITH DETACH()!\n",
    "        remote_intermediate_2 = intermediate_2.detach().move(worker3).requires_grad_()\n",
    "#         print(\"Sent FP status to \", worker3.id)\n",
    "\n",
    "        # Finish the FP on worker3\n",
    "        FP3_start_time = time.time()\n",
    "        pred = worker3_model(remote_intermediate_2)\n",
    "        FP3_end_time = time.time() - FP3_start_time\n",
    "        \n",
    "        total_FP_time = FP1_end_time + FP2_end_time + FP3_end_time \n",
    "#         print(\"Finished FP on \", worker3.id)\n",
    "\n",
    "        # Calculate loss on worker3\n",
    "        BP1_start_time = time.time()\n",
    "        loss = loss_function(pred, batch_y)\n",
    "        # Do BP on worker3\n",
    "        loss.backward()\n",
    "        worker3_optimizer.step()\n",
    "        BP1_end_time = time.time() - BP1_start_time\n",
    "#         print(\"Finished the BP on \", worker3.id)\n",
    "\n",
    "        # Move gradients to worker2\n",
    "        intermediate_2.move(worker2)\n",
    "        grad_intermediate_2 = remote_intermediate_2.grad.copy().move(worker2)\n",
    "        \n",
    "        # Do BP on worker2\n",
    "        BP2_start_time = time.time()\n",
    "        intermediate_2.backward(grad_intermediate_2)\n",
    "        worker2_optimizer.step()\n",
    "        BP2_end_time = time.time() - BP2_start_time\n",
    "        \n",
    "        # Send gradients to worker1\n",
    "        intermediate_1.move(worker1)\n",
    "        grad_intermediate_1 = remote_intermediate_1.grad.copy().move(worker1)\n",
    "        # Do BP on worker1\n",
    "        BP3_start_time = time.time()\n",
    "        intermediate_1.backward(grad_intermediate_1)\n",
    "        worker3_optimizer.step()\n",
    "        BP3_end_time = time.time() - BP3_start_time\n",
    "\n",
    "        total_BP_time = BP1_end_time + BP2_end_time + BP3_end_time\n",
    "        \n",
    "        # Total batch time\n",
    "        total_batch_time = total_FP_time + total_BP_time\n",
    "        # Now, for this to be equivalent to the time measured in the other architectures, our\n",
    "        # constant has to be THE AMOUNT OF DATA. ONE batch in the other architectures means\n",
    "        # ONE batch PER CLIENT. So 100 batches of data in the other archs are equivalent to:\n",
    "        # len(compute_nodes) * batch_time in this arch. As such:\n",
    "        equivalent_batch_time = total_batch_time * len(compute_nodes)\n",
    "        batch_times.append(equivalent_batch_time)\n",
    "        # We are multiplying it here by len(compute_nodes) so that each individual cell, when\n",
    "        # later comparing the CSV's is \"equal\" in amounts of data. HOWEVER, note we will still\n",
    "        # have 3x the amount of batch recordings in this code because it needs to do each batch\n",
    "        # individually. We can't have 3x times the amount of instances AND each instance be 3x\n",
    "        # times the amount of other archs!! You can either remove the \"*len(compute_nodes)\"\n",
    "        # section above OR do the following:\n",
    "        total_epoch_time += total_batch_time # NOT THE EQUIVALENT BATCH TIME!!\n",
    "        #because now you will have 3x the amount of instances but each instance counting as\n",
    "        # NOT the equivalent of 3x the other archs, but each instance counting as its own unit. \n",
    "        # So now, you will have 300 batches in PL with normal batch time recorded for each epoch,\n",
    "        # which is EQUIVALENT to 100 recorded batches in FL with normal batch time recorded\n",
    "        # TLDR: CAREFUL YOU MULTIPLY BY LEN(COMPUTE_NODES) TWICE!!!\n",
    "#         print(\"Total batch time = \", round(total_batch_time, 4), \" s\")\n",
    "        # Get back the models and delete the batches to free up memory space for next batch\n",
    "        worker1_model.get()\n",
    "        worker2_model.get()\n",
    "        worker3_model.get()\n",
    "        \n",
    "        worker1.clear_objects()\n",
    "        worker2.clear_objects()\n",
    "        worker3.clear_objects()\n",
    "        \n",
    "#         batch_count += 1\n",
    "#         if batch_count >= 25:\n",
    "#             break\n",
    "        \n",
    "    # OUTSIDE THE FOR LOOP\n",
    "    print(\"TOTAL TIME FOR THIS EPOCH = \", round(total_epoch_time, 4), \" s\")\n",
    "#     Return the new model on the server\n",
    "    return worker1_model, worker2_model, worker3_model, batch_times, total_epoch_time"
   ]
  },
  {
   "cell_type": "markdown",
   "id": "cd4de0d2",
   "metadata": {},
   "source": [
    "## Function used for testing"
   ]
  },
  {
   "cell_type": "code",
   "execution_count": 27,
   "id": "69105405",
   "metadata": {},
   "outputs": [],
   "source": [
    "def test(new_worker1_model, new_worker2_model, new_worker3_model):\n",
    "    \n",
    "    # Calculate the accuracy\n",
    "    correct = 0\n",
    "    total = 0\n",
    "\n",
    "    # Do not update your gradients while testing\n",
    "    with torch.no_grad():\n",
    "        print(\"Initiated model testing:\")\n",
    "        for i in tqdm(range(len(test_X))):\n",
    "            \n",
    "            # Put the model into evaluation mode so it does not update its gradients during this test\n",
    "            new_worker1_model.eval()\n",
    "            new_worker2_model.eval()\n",
    "            new_worker3_model.eval()\n",
    "            \n",
    "            # Obtain the real class for the sample\n",
    "            real_class = torch.argmax(test_y[i])\n",
    "\n",
    "            # Obtain our prediction for said sample (not arg_maxed yet)\n",
    "#             output = new_model_server(test_X[i].view(-1, 1, IMG_SIZE, IMG_SIZE))[0]\n",
    "            output = new_worker1_model(test_X[i].view(-1, 1, IMG_SIZE, IMG_SIZE))\n",
    "            output = new_worker2_model(output)\n",
    "            output = new_worker3_model(output)[0]\n",
    "                                       \n",
    "#             output = new_worker3_model(new_worker2_model((new_worker1_model(test_X[i].view(-1, 1, IMG_SIZE, IMG_SIZE)))))[0]\n",
    "\n",
    "            # Obtain our arg_maxed prediction for said sample\n",
    "            predicted_class = torch.argmax(output)\n",
    "\n",
    "            # Update counters\n",
    "            if predicted_class == real_class:\n",
    "                correct += 1\n",
    "            total += 1\n",
    "\n",
    "    print(\"Accuracy of the new model = \", round(correct/total, 3), \"\\n \\n\")"
   ]
  },
  {
   "cell_type": "code",
   "execution_count": 28,
   "id": "d47f9b10",
   "metadata": {},
   "outputs": [],
   "source": [
    "def reset(new_worker1_model, new_worker2_model, new_worker3_model):\n",
    "    # Clear the workers of any objects, just in case you forgot some were still there from a previous run\n",
    "    worker1.clear_objects()\n",
    "    worker2.clear_objects()\n",
    "    worker3.clear_objects()\n",
    "    \n",
    "    # Establish the NN model for each worker. This is model-centric FL, so it is the same model for all workers\n",
    "    global worker1_model\n",
    "    worker1_model = new_worker1_model.copy()\n",
    "    global worker2_model\n",
    "    worker2_model = new_worker2_model.copy()\n",
    "    global worker3_model\n",
    "    worker3_model = new_worker3_model.copy()\n",
    "#     worker1_model = new_worker1_model\n",
    "#     worker2_model = new_worker2_model\n",
    "#     worker3_model = new_worker3_model\n",
    "    \n",
    "    # Establish the optimizer for each worker\n",
    "    global worker1_optimizer\n",
    "    worker1_optimizer = optim.SGD(worker1_model.parameters(), lr=LR)\n",
    "    global worker2_optimizer\n",
    "    worker2_optimizer = optim.SGD(worker2_model.parameters(), lr=LR)\n",
    "    global worker3_optimizer\n",
    "    worker3_optimizer = optim.SGD(worker3_model.parameters(), lr=LR)\n",
    "    \n",
    "    # Organize the WORKER models and optimizers into lists. The server stuff must not be mixed with these\n",
    "    global models\n",
    "    models = [worker1_model, worker2_model, worker3_model]\n",
    "    global optimizers\n",
    "    optimizers = [worker1_optimizer, worker2_optimizer, worker3_optimizer]\n",
    "    global worker_collection\n",
    "    worker_collection = [(worker1, worker1_model, worker1_optimizer), (worker2, worker2_model, worker2_optimizer), \n",
    "                        (worker3, worker3_model, worker3_optimizer)]"
   ]
  },
  {
   "cell_type": "code",
   "execution_count": 29,
   "id": "cdb898b6",
   "metadata": {},
   "outputs": [],
   "source": [
    "# # Get all objects as a dictionary, as keys, or remove a specific object\n",
    "# worker1.object_store._objects.keys()\n",
    "# worker1.object_store.rm_obj( obj_id = )"
   ]
  },
  {
   "cell_type": "markdown",
   "id": "52af82af",
   "metadata": {},
   "source": [
    "# RUN THE MODEL"
   ]
  },
  {
   "cell_type": "code",
   "execution_count": 30,
   "id": "9df43769",
   "metadata": {
    "scrolled": false
   },
   "outputs": [
    {
     "name": "stdout",
     "output_type": "stream",
     "text": [
      "Epoch Number 1\n"
     ]
    },
    {
     "name": "stderr",
     "output_type": "stream",
     "text": [
      "  0%|          | 1/372 [00:05<33:58,  5.50s/it]"
     ]
    },
    {
     "name": "stdout",
     "output_type": "stream",
     "text": [
      "Total batch time =  0.4709  s\n"
     ]
    },
    {
     "name": "stderr",
     "output_type": "stream",
     "text": [
      "\r",
      "  1%|          | 2/372 [00:10<33:19,  5.40s/it]"
     ]
    },
    {
     "name": "stdout",
     "output_type": "stream",
     "text": [
      "Total batch time =  0.4491  s\n"
     ]
    },
    {
     "name": "stderr",
     "output_type": "stream",
     "text": [
      "\r",
      "  1%|          | 3/372 [00:16<33:22,  5.43s/it]"
     ]
    },
    {
     "name": "stdout",
     "output_type": "stream",
     "text": [
      "Total batch time =  0.4373  s\n"
     ]
    },
    {
     "name": "stderr",
     "output_type": "stream",
     "text": [
      "\r",
      "  1%|          | 4/372 [00:21<33:17,  5.43s/it]"
     ]
    },
    {
     "name": "stdout",
     "output_type": "stream",
     "text": [
      "Total batch time =  0.459  s\n"
     ]
    },
    {
     "name": "stderr",
     "output_type": "stream",
     "text": [
      "\r",
      "  1%|▏         | 5/372 [00:27<33:04,  5.41s/it]"
     ]
    },
    {
     "name": "stdout",
     "output_type": "stream",
     "text": [
      "Total batch time =  0.4263  s\n"
     ]
    },
    {
     "name": "stderr",
     "output_type": "stream",
     "text": [
      "\r",
      "  2%|▏         | 6/372 [00:32<32:53,  5.39s/it]"
     ]
    },
    {
     "name": "stdout",
     "output_type": "stream",
     "text": [
      "Total batch time =  0.4415  s\n"
     ]
    },
    {
     "name": "stderr",
     "output_type": "stream",
     "text": [
      "\r",
      "  2%|▏         | 7/372 [00:37<32:54,  5.41s/it]"
     ]
    },
    {
     "name": "stdout",
     "output_type": "stream",
     "text": [
      "Total batch time =  0.4681  s\n"
     ]
    },
    {
     "name": "stderr",
     "output_type": "stream",
     "text": [
      "\r",
      "  2%|▏         | 8/372 [00:43<32:48,  5.41s/it]"
     ]
    },
    {
     "name": "stdout",
     "output_type": "stream",
     "text": [
      "Total batch time =  0.489  s\n"
     ]
    },
    {
     "name": "stderr",
     "output_type": "stream",
     "text": [
      "\r",
      "  2%|▏         | 9/372 [00:48<32:32,  5.38s/it]"
     ]
    },
    {
     "name": "stdout",
     "output_type": "stream",
     "text": [
      "Total batch time =  0.4345  s\n"
     ]
    },
    {
     "name": "stderr",
     "output_type": "stream",
     "text": [
      "\r",
      "  3%|▎         | 10/372 [00:54<32:34,  5.40s/it]"
     ]
    },
    {
     "name": "stdout",
     "output_type": "stream",
     "text": [
      "Total batch time =  0.4195  s\n"
     ]
    },
    {
     "name": "stderr",
     "output_type": "stream",
     "text": [
      "\r",
      "  3%|▎         | 11/372 [00:59<32:34,  5.41s/it]"
     ]
    },
    {
     "name": "stdout",
     "output_type": "stream",
     "text": [
      "Total batch time =  0.4767  s\n"
     ]
    },
    {
     "name": "stderr",
     "output_type": "stream",
     "text": [
      "\r",
      "  3%|▎         | 12/372 [01:04<32:23,  5.40s/it]"
     ]
    },
    {
     "name": "stdout",
     "output_type": "stream",
     "text": [
      "Total batch time =  0.4441  s\n"
     ]
    },
    {
     "name": "stderr",
     "output_type": "stream",
     "text": [
      "\r",
      "  3%|▎         | 13/372 [01:10<32:11,  5.38s/it]"
     ]
    },
    {
     "name": "stdout",
     "output_type": "stream",
     "text": [
      "Total batch time =  0.3878  s\n"
     ]
    },
    {
     "name": "stderr",
     "output_type": "stream",
     "text": [
      "\r",
      "  4%|▍         | 14/372 [01:15<32:12,  5.40s/it]"
     ]
    },
    {
     "name": "stdout",
     "output_type": "stream",
     "text": [
      "Total batch time =  0.4508  s\n"
     ]
    },
    {
     "name": "stderr",
     "output_type": "stream",
     "text": [
      "\r",
      "  4%|▍         | 15/372 [01:21<32:02,  5.38s/it]"
     ]
    },
    {
     "name": "stdout",
     "output_type": "stream",
     "text": [
      "Total batch time =  0.4479  s\n"
     ]
    },
    {
     "name": "stderr",
     "output_type": "stream",
     "text": [
      "\r",
      "  4%|▍         | 16/372 [01:26<31:52,  5.37s/it]"
     ]
    },
    {
     "name": "stdout",
     "output_type": "stream",
     "text": [
      "Total batch time =  0.4201  s\n"
     ]
    },
    {
     "name": "stderr",
     "output_type": "stream",
     "text": [
      "\r",
      "  5%|▍         | 17/372 [01:31<31:50,  5.38s/it]"
     ]
    },
    {
     "name": "stdout",
     "output_type": "stream",
     "text": [
      "Total batch time =  0.4642  s\n"
     ]
    },
    {
     "name": "stderr",
     "output_type": "stream",
     "text": [
      "\r",
      "  5%|▍         | 18/372 [01:37<31:37,  5.36s/it]"
     ]
    },
    {
     "name": "stdout",
     "output_type": "stream",
     "text": [
      "Total batch time =  0.472  s\n"
     ]
    },
    {
     "name": "stderr",
     "output_type": "stream",
     "text": [
      "\r",
      "  5%|▌         | 19/372 [01:42<31:20,  5.33s/it]"
     ]
    },
    {
     "name": "stdout",
     "output_type": "stream",
     "text": [
      "Total batch time =  0.3683  s\n"
     ]
    },
    {
     "name": "stderr",
     "output_type": "stream",
     "text": [
      "\r",
      "  5%|▌         | 20/372 [01:47<31:22,  5.35s/it]"
     ]
    },
    {
     "name": "stdout",
     "output_type": "stream",
     "text": [
      "Total batch time =  0.4373  s\n"
     ]
    },
    {
     "name": "stderr",
     "output_type": "stream",
     "text": [
      "\r",
      "  6%|▌         | 21/372 [01:53<31:15,  5.34s/it]"
     ]
    },
    {
     "name": "stdout",
     "output_type": "stream",
     "text": [
      "Total batch time =  0.4715  s\n"
     ]
    },
    {
     "name": "stderr",
     "output_type": "stream",
     "text": [
      "\r",
      "  6%|▌         | 22/372 [01:58<31:03,  5.32s/it]"
     ]
    },
    {
     "name": "stdout",
     "output_type": "stream",
     "text": [
      "Total batch time =  0.3925  s\n"
     ]
    },
    {
     "name": "stderr",
     "output_type": "stream",
     "text": [
      "\r",
      "  6%|▌         | 23/372 [02:03<31:12,  5.37s/it]"
     ]
    },
    {
     "name": "stdout",
     "output_type": "stream",
     "text": [
      "Total batch time =  0.5185  s\n"
     ]
    },
    {
     "name": "stderr",
     "output_type": "stream",
     "text": [
      "\r",
      "  6%|▋         | 24/372 [02:09<30:58,  5.34s/it]"
     ]
    },
    {
     "name": "stdout",
     "output_type": "stream",
     "text": [
      "Total batch time =  0.4631  s\n"
     ]
    },
    {
     "name": "stderr",
     "output_type": "stream",
     "text": [
      "  6%|▋         | 24/372 [02:14<32:27,  5.60s/it]\n"
     ]
    },
    {
     "name": "stdout",
     "output_type": "stream",
     "text": [
      "Total batch time =  0.4012  s\n",
      "Total TRAIN time for epoch  0  =  2.24  min\n",
      "Initiated model testing:\n"
     ]
    },
    {
     "name": "stderr",
     "output_type": "stream",
     "text": [
      "100%|██████████| 6472/6472 [00:29<00:00, 222.39it/s]\n"
     ]
    },
    {
     "name": "stdout",
     "output_type": "stream",
     "text": [
      "Accuracy of the new model =  0.496 \n",
      " \n",
      "\n",
      "Time for this epoch 2.72 min\n"
     ]
    }
   ],
   "source": [
    "# Define your number of epochs\n",
    "epochs = 5\n",
    "epoch_times = []\n",
    "\n",
    "# Train all workers for the set number of epochs\n",
    "for epoch in range(epochs):\n",
    "    \n",
    "    # Start counting the time for this epoch\n",
    "#     start_time = time.time()\n",
    "    print(f\"Epoch Number {epoch + 1}\")\n",
    "    \n",
    "    # Train the individual models, and then obtain the federated averaged model\n",
    "#     train_start_time = time.time()\n",
    "    new_worker1_model, new_worker2_model, new_worker3_model, batch_times, epoch_time = train()\n",
    "#     train_total_time = time.time() - train_start_time\n",
    "#     print(\"Total TRAIN time for epoch \", epoch, \" = \", \n",
    "#           round(train_total_time/60, 2), \" min\")\n",
    "    \n",
    "    # Save the epoch time\n",
    "    epoch_times.append(epoch_time)\n",
    "    \n",
    "    # Test your new model to keep a log of how good we're doing per epoch \n",
    "    test(new_worker1_model, new_worker2_model, new_worker3_model)\n",
    "    \n",
    "    # Stop counting the time\n",
    "#     epoch_total_time = time.time() - start_time\n",
    "#     print('Time for this epoch', round(epoch_total_time/60, 2), 'min')\n",
    "    \n",
    "    # Re-organize everything before starting next epoch\n",
    "    reset(new_worker1_model, new_worker2_model, new_worker3_model)\n",
    "    \n",
    "    # Save the batch times\n",
    "    df_batch = pd.DataFrame(batch_times)\n",
    "    df_batch.to_csv(\"./Batch_times/STD_ECHO_PL_epoch_\" + str(epoch) + \".csv\")\n",
    "\n",
    "# Save the epoch time\n",
    "df_epoch = pd.DataFrame(epoch_times)\n",
    "df_epoch.to_csv(\"./Epoch_times/STD_ECHO_PL.csv\")\n",
    "\n",
    "# Clean the global namespace after run is done\n",
    "%reset -f"
   ]
  },
  {
   "cell_type": "code",
   "execution_count": null,
   "id": "277ee78c",
   "metadata": {},
   "outputs": [],
   "source": []
  }
 ],
 "metadata": {
  "kernelspec": {
   "display_name": "Python 3",
   "language": "python",
   "name": "python3"
  },
  "language_info": {
   "codemirror_mode": {
    "name": "ipython",
    "version": 3
   },
   "file_extension": ".py",
   "mimetype": "text/x-python",
   "name": "python",
   "nbconvert_exporter": "python",
   "pygments_lexer": "ipython3",
   "version": "3.7.10"
  }
 },
 "nbformat": 4,
 "nbformat_minor": 5
}
