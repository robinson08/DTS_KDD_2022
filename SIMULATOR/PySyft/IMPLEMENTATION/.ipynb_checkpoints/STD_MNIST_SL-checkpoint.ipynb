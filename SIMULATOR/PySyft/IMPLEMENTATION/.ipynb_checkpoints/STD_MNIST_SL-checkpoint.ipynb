{
 "cells": [
  {
   "cell_type": "markdown",
   "id": "59790d8f",
   "metadata": {},
   "source": [
    "# Import necessary libraries"
   ]
  },
  {
   "cell_type": "code",
   "execution_count": 1,
   "id": "fc164214",
   "metadata": {},
   "outputs": [],
   "source": [
    "# General\n",
    "import os\n",
    "import cv2\n",
    "import numpy as np\n",
    "from tqdm import tqdm\n",
    "import matplotlib.pyplot as plt\n",
    "import pickle\n",
    "import time\n",
    "import copy\n",
    "import pandas as pd\n",
    "\n",
    "\n",
    "# Pytorch\n",
    "import torch\n",
    "import torch.nn as nn\n",
    "import torch.nn.functional as F\n",
    "import torch.optim as optim\n",
    "from torch.utils.data import TensorDataset, DataLoader\n",
    "from torchvision import datasets, transforms\n",
    "\n",
    "\n",
    "# PySyft\n",
    "import syft as sy\n",
    "from syft.frameworks.torch.fl import utils\n",
    "from syft.workers.websocket_client import WebsocketClientWorker"
   ]
  },
  {
   "cell_type": "markdown",
   "id": "c8797374",
   "metadata": {},
   "source": [
    "# Pre-processing the Data"
   ]
  },
  {
   "cell_type": "code",
   "execution_count": 2,
   "id": "8dd19954",
   "metadata": {},
   "outputs": [],
   "source": [
    "# Set the image size Y where Y represents YxY \n",
    "IMG_SIZE = 64\n",
    "BATCH_SIZE = 100\n",
    "LR = 0.001"
   ]
  },
  {
   "cell_type": "code",
   "execution_count": 3,
   "id": "622d08a3",
   "metadata": {},
   "outputs": [],
   "source": [
    "train = datasets.MNIST(r\"/media/wilfredo/Willie931GB/EURECOM_SLU_Linux/II_SEMESTER/SLU/PAPER_KDD2022/EXPERIMENTS/PySyft/Datasets/MNIST_64\", \n",
    "                      train = True, download = True, \n",
    "                      transform = transforms.Compose([transforms.Resize(IMG_SIZE),\n",
    "                                                      transforms.ToTensor()]))\n",
    "\n",
    "test = datasets.MNIST(r\"/media/wilfredo/Willie931GB/EURECOM_SLU_Linux/II_SEMESTER/SLU/PAPER_KDD2022/EXPERIMENTS/PySyft/Datasets/MNIST_64\", \n",
    "                      train = False, download = True, \n",
    "                      transform = transforms.Compose([transforms.Resize(IMG_SIZE),\n",
    "                                                      transforms.ToTensor()]))"
   ]
  },
  {
   "cell_type": "code",
   "execution_count": 4,
   "id": "2a5a5be5",
   "metadata": {},
   "outputs": [],
   "source": [
    "# Load the data from the file it was saved in. Take the ENTIRE dataset!\n",
    "training_data = torch.utils.data.DataLoader(train, batch_size = int(len(train)/2), shuffle = True)\n",
    "test_data = torch.utils.data.DataLoader(test, batch_size = int(len(test)/2), shuffle = True)"
   ]
  },
  {
   "cell_type": "markdown",
   "id": "81b16fe1",
   "metadata": {},
   "source": [
    "# Create the CNN (based on VGG11)\n",
    "Source: Page 3/14, Table 1, Configuration A, https://arxiv.org/pdf/1409.1556.pdf"
   ]
  },
  {
   "cell_type": "markdown",
   "id": "a837a9f5",
   "metadata": {},
   "source": [
    "## Model on clients (small portion)"
   ]
  },
  {
   "cell_type": "code",
   "execution_count": 5,
   "id": "0c55bb3e",
   "metadata": {},
   "outputs": [],
   "source": [
    "class Net_client(nn.Module):\n",
    "    def __init__(self):\n",
    "        super().__init__()\n",
    "        # Define your first convolutional layer: input = 1, output = 32 convolutional features, kernel size = 5\n",
    "        # Remember that kernel = 5 means that the \"window\" used to scan for features will be 5x5\n",
    "        self.conv1 = nn.Conv2d(1, 32, 3)\n",
    "        self.conv2 = nn.Conv2d(32, 64, 3)\n",
    "\n",
    "    # Function defining only one part of the forward pass (the convolution layers only). This will also write\n",
    "    # the output dimensions of the conv layers to self._to_linear ONCE, and this information will then be used \n",
    "    # as the input data flattened dimensions of the next fully connected layers \n",
    "    def convs(self, x):\n",
    "        # Convolutional layer 1 + activation + max_pooling\n",
    "        x = self.conv1(x)\n",
    "        x = F.relu(x)\n",
    "        x = F.max_pool2d(x, (2, 2))\n",
    "        x = self.conv2(x)\n",
    "        x = F.relu(x)\n",
    "        x = F.max_pool2d(x, (2, 2))\n",
    "        return x\n",
    "    \n",
    "    # Function defining the rest of the forward pass\n",
    "    def forward(self, x):\n",
    "        # Run the convs layers first\n",
    "        x = self.convs(x)\n",
    "        return x\n",
    "\n",
    "net_client = Net_client()"
   ]
  },
  {
   "cell_type": "markdown",
   "id": "adc421dd",
   "metadata": {},
   "source": [
    "## Model on Server (big portion)"
   ]
  },
  {
   "cell_type": "code",
   "execution_count": 6,
   "id": "88ede81d",
   "metadata": {},
   "outputs": [],
   "source": [
    "class Net_server(nn.Module):\n",
    "    def __init__(self):\n",
    "        super().__init__()\n",
    "        \n",
    "        # Start from the third convolutional layer\n",
    "        self.conv3 = nn.Conv2d(64, 128, 3)\n",
    "        self.conv4 = nn.Conv2d(128, 256, 3)\n",
    "        \n",
    "        # Run the fully connected layers. We know the input of this fc1 layer is 512, because of our previous\n",
    "        # results with FL, where self.__to__linear told us this result when you run the cell that contains the \n",
    "        # NN\n",
    "        self._to_linear = 1024\n",
    "        self.fc1 = nn.Linear(self._to_linear, 512)\n",
    "        self.fc2 = nn.Linear(512, 256)\n",
    "        self.fc3 = nn.Linear(256, 2)\n",
    "\n",
    "    # Function defining only one part of the forward pass (the convolution layers only). This will also write\n",
    "    # the output dimensions of the conv layers to self._to_linear ONCE, and this information will then be used \n",
    "    # as the input data flattened dimensions of the next fully connected layers \n",
    "    def convs(self, x):\n",
    "        # Convolutional layer 1 + activation + max_pooling\n",
    "        x = self.conv3(x)\n",
    "        x = F.relu(x)\n",
    "        x = F.max_pool2d(x, (2, 2))\n",
    "        x = self.conv4(x)\n",
    "        x = F.relu(x)\n",
    "        x = F.max_pool2d(x, (2, 2))\n",
    "        \n",
    "        if self._to_linear is None:\n",
    "            self._to_linear = x[0].shape[0] * x[0].shape[1] * x[0].shape[2]\n",
    "        return x\n",
    "    \n",
    "    # Function defining the rest of the forward pass\n",
    "    def forward(self, x):\n",
    "        # Run the convs layers first\n",
    "        x = self.convs(x)\n",
    "        # Reshape the output data from the convs to be flattened\n",
    "        x = x.view(-1, self._to_linear)\n",
    "        # Pass the data through the fully connected layers now\n",
    "        x = F.relu(self.fc1(x))\n",
    "        x = F.relu(self.fc2(x))\n",
    "        # Pass it through the final layer\n",
    "        x = self.fc3(x)\n",
    "        # One final softmax function to make the output vector look nicer\n",
    "        x = F.softmax(x, dim = 1)\n",
    "        return x\n",
    "\n",
    "net_server = Net_server()"
   ]
  },
  {
   "cell_type": "code",
   "execution_count": 7,
   "id": "d0942aed",
   "metadata": {},
   "outputs": [],
   "source": [
    "# Take a look at our models\n",
    "model_client = net_client\n",
    "model_server = net_server"
   ]
  },
  {
   "cell_type": "code",
   "execution_count": 8,
   "id": "0b471a73",
   "metadata": {},
   "outputs": [
    {
     "data": {
      "text/plain": [
       "Net_client(\n",
       "  (conv1): Conv2d(1, 32, kernel_size=(3, 3), stride=(1, 1))\n",
       "  (conv2): Conv2d(32, 64, kernel_size=(3, 3), stride=(1, 1))\n",
       ")"
      ]
     },
     "execution_count": 8,
     "metadata": {},
     "output_type": "execute_result"
    }
   ],
   "source": [
    "# Take a look at your model\n",
    "model_client"
   ]
  },
  {
   "cell_type": "code",
   "execution_count": 9,
   "id": "21aff6d6",
   "metadata": {
    "scrolled": true
   },
   "outputs": [
    {
     "data": {
      "text/plain": [
       "Net_server(\n",
       "  (conv3): Conv2d(64, 128, kernel_size=(3, 3), stride=(1, 1))\n",
       "  (conv4): Conv2d(128, 256, kernel_size=(3, 3), stride=(1, 1))\n",
       "  (fc1): Linear(in_features=1024, out_features=512, bias=True)\n",
       "  (fc2): Linear(in_features=512, out_features=256, bias=True)\n",
       "  (fc3): Linear(in_features=256, out_features=2, bias=True)\n",
       ")"
      ]
     },
     "execution_count": 9,
     "metadata": {},
     "output_type": "execute_result"
    }
   ],
   "source": [
    "# Take a look at your model\n",
    "model_server"
   ]
  },
  {
   "cell_type": "markdown",
   "id": "2e28f67c",
   "metadata": {},
   "source": [
    "# Establish your loss function"
   ]
  },
  {
   "cell_type": "code",
   "execution_count": 10,
   "id": "65691197",
   "metadata": {},
   "outputs": [],
   "source": [
    "# Set your loss function (MSE for images!)\n",
    "loss_function = nn.MSELoss()"
   ]
  },
  {
   "cell_type": "markdown",
   "id": "d050fea4",
   "metadata": {},
   "source": [
    "# Separate your data into data, labels, training, testing, and scale it"
   ]
  },
  {
   "cell_type": "code",
   "execution_count": 11,
   "id": "1ed475c3",
   "metadata": {},
   "outputs": [],
   "source": [
    "# Take the data loaded onto training_data. You NEED to iterate over it to take it, even if you\n",
    "# want to take the entire thing. Make sure to convert the values to floats\n",
    "X = next(iter(training_data))[0]\n",
    "y_unformatted = next(iter(training_data))[1].type(torch.FloatTensor)\n",
    "X_test = next(iter(test_data))[0]\n",
    "y_test_unformatted = next(iter(test_data))[1].type(torch.FloatTensor)\n",
    "\n",
    "# The two other cases in this paper use 2 dimensional labels (0, 1), not only (0)\n",
    "# MNIST by default comes with labels in the format (9) instead of (9, 0). To change this:\n",
    "# Create tensors with all zeros of the same size\n",
    "y_unformatted_addition = torch.zeros(y_unformatted.size())\n",
    "y_test_unformatted_addition = torch.zeros(y_test_unformatted.size())\n",
    "# Then stack them together (0 for vertically, -1 for horizontally)\n",
    "y = torch.stack((y_unformatted, y_unformatted_addition), -1)\n",
    "y_test = torch.stack((y_test_unformatted, y_test_unformatted_addition), -1)\n"
   ]
  },
  {
   "cell_type": "code",
   "execution_count": 12,
   "id": "2d090849",
   "metadata": {},
   "outputs": [],
   "source": [
    "# Define your training data\n",
    "# train_X = X[:-val_size]\n",
    "# train_y = y[:-val_size]\n",
    "train_X = X\n",
    "train_y = y\n",
    "\n",
    "# Define your testing (validation) data\n",
    "# test_X = X[-val_size:]\n",
    "# test_y = y[-val_size:]\n",
    "test_X = X_test\n",
    "test_y = y_test"
   ]
  },
  {
   "cell_type": "markdown",
   "id": "5f76bdad",
   "metadata": {},
   "source": [
    "# Split Learning"
   ]
  },
  {
   "cell_type": "markdown",
   "id": "cd021cd8",
   "metadata": {},
   "source": [
    "## Establish the virtual workers, their data, their NNs, and their optimizers"
   ]
  },
  {
   "cell_type": "code",
   "execution_count": 13,
   "id": "a8b62538",
   "metadata": {},
   "outputs": [],
   "source": [
    "# Start the hook\n",
    "hook = sy.TorchHook(torch)\n",
    "\n",
    "# Create your virtual workers and our server\n",
    "worker1 = sy.VirtualWorker(hook, id=\"worker1\")\n",
    "worker2 = sy.VirtualWorker(hook, id=\"worker2\")\n",
    "worker3 = sy.VirtualWorker(hook, id=\"worker3\")\n",
    "server = sy.VirtualWorker(hook, id=\"server\")\n",
    "\n",
    "# Put the WORKERS into a list for easier access later on\n",
    "compute_nodes = [worker1, worker2, worker3]"
   ]
  },
  {
   "cell_type": "code",
   "execution_count": 14,
   "id": "22f6248e",
   "metadata": {},
   "outputs": [],
   "source": [
    "# Split the training data for each worker\n",
    "# General method is:\n",
    "# train_X_workerN = train_X[int((N-1) * len(train_X)/len(compute_nodes)):int(N * len(train_X)/len(compute_nodes))].view(-1, 1, IMG_SIZE, IMG_SIZE)\n",
    "train_X_worker1 = train_X[:int(len(train_X)/len(compute_nodes))].view(-1, 1, IMG_SIZE, IMG_SIZE)\n",
    "train_X_worker2 = train_X[int(len(train_X)/len(compute_nodes)):int(2 * len(train_X)/len(compute_nodes))].view(-1, 1, IMG_SIZE, IMG_SIZE)\n",
    "train_X_worker3 = train_X[int(2 * len(train_X)/len(compute_nodes)):int(3 * len(train_X)/len(compute_nodes))].view(-1, 1, IMG_SIZE, IMG_SIZE)\n",
    "\n",
    "train_y_worker1 = train_y[:int(len(train_X)/len(compute_nodes))]\n",
    "train_y_worker2 = train_y[int(len(train_X)/len(compute_nodes)):int(2 * len(train_X)/len(compute_nodes))]\n",
    "train_y_worker3 = train_y[int(2 * len(train_X)/len(compute_nodes)):int(3 * len(train_X)/len(compute_nodes))]"
   ]
  },
  {
   "cell_type": "code",
   "execution_count": 15,
   "id": "be9f4108",
   "metadata": {},
   "outputs": [
    {
     "data": {
      "text/plain": [
       "<VirtualWorker id:server #objects:0>"
      ]
     },
     "execution_count": 15,
     "metadata": {},
     "output_type": "execute_result"
    }
   ],
   "source": [
    "# Clear the workers of any objects, just in case you forgot some were still there from a previous run\n",
    "worker1.clear_objects()\n",
    "worker2.clear_objects()\n",
    "worker3.clear_objects()\n",
    "server.clear_objects()"
   ]
  },
  {
   "cell_type": "code",
   "execution_count": 16,
   "id": "390c7a77",
   "metadata": {},
   "outputs": [],
   "source": [
    "# # Establish the NN model for each worker. This is model-centric FL, so it is the same model for all workers\n",
    "worker1_model = model_client.copy()\n",
    "worker2_model = model_client.copy()\n",
    "worker3_model = model_client.copy()\n",
    "server_model = model_server.copy()\n",
    "# worker_model = model_client.copy()\n",
    "\n",
    "# Establish the optimizer for each worker\n",
    "worker1_optimizer = optim.SGD(worker1_model.parameters(), lr=LR)\n",
    "worker2_optimizer = optim.SGD(worker2_model.parameters(), lr=LR)\n",
    "worker3_optimizer = optim.SGD(worker3_model.parameters(), lr=LR)\n",
    "# worker_optimizer = optim.SGD(worker_model.parameters(), lr=LR)\n",
    "server_optimizer = optim.SGD(server_model.parameters(), lr=LR)"
   ]
  },
  {
   "cell_type": "code",
   "execution_count": 17,
   "id": "9e411373",
   "metadata": {},
   "outputs": [],
   "source": [
    "# Organize the WORKER models and optimizers into lists. The server stuff must not be mixed with these\n",
    "models = [worker1_model, worker2_model, worker3_model]\n",
    "optimizers = [worker1_optimizer, worker2_optimizer, worker3_optimizer]\n",
    "\n",
    "worker_collection = [[worker1, worker1_model, worker1_optimizer], \n",
    "                     [worker2, worker2_model, worker2_optimizer], \n",
    "                    [worker3, worker3_model, worker3_optimizer]]"
   ]
  },
  {
   "cell_type": "markdown",
   "id": "f3b012bf",
   "metadata": {},
   "source": [
    "## Training Sequence"
   ]
  },
  {
   "cell_type": "code",
   "execution_count": 18,
   "id": "291a82e5",
   "metadata": {},
   "outputs": [],
   "source": [
    "def train():\n",
    "    \n",
    "    # We are going to train all workers, sequentialy, with all batches of their respective data.\n",
    "    # AFTER the training for one is done, THEN we move on to the next. So:\n",
    "    epoch_time = 0\n",
    "    batch_count = 0\n",
    "    batch_times = []\n",
    "    total_epoch_time = 0\n",
    "    \n",
    "    for worker, model, optimizer in worker_collection:\n",
    "        \n",
    "        for i in tqdm(range(0, int(len(train_X)/len(compute_nodes)), BATCH_SIZE)):\n",
    "            \n",
    "            # Send the models to the worker. This step is not necessary in real life, as this is only done once. \n",
    "            # However, because the .rm_obj() method is not working to remove the batches at the end of each loop,\n",
    "            # we are forced to remove ALL objects from each worker, including the models, so the batches don't\n",
    "            # constantly add up, consuming more memory each time!\n",
    "            model.send(worker)\n",
    "            server_model.send(server)\n",
    "            \n",
    "            # Make sure we're working with the correct batches\n",
    "            if worker is worker1:\n",
    "                batch_X = train_X_worker1[i : i + BATCH_SIZE]\n",
    "                batch_y = train_y_worker1[i : i + BATCH_SIZE]\n",
    "            elif worker is worker2:\n",
    "                batch_X = train_X_worker2[i : i + BATCH_SIZE]\n",
    "                batch_y = train_y_worker2[i : i + BATCH_SIZE]\n",
    "            elif worker is worker3:\n",
    "                batch_X = train_X_worker3[i : i + BATCH_SIZE]\n",
    "                batch_y = train_y_worker3[i : i + BATCH_SIZE]\n",
    "            \n",
    "            # Send ONLY the data  to each of the workers. This does not have to be done in real life, but \n",
    "            # must be done in this simulation. The LABELS are sent to the SERVER!\n",
    "            batch_X = batch_X.send(worker)\n",
    "            batch_y = batch_y.send(server)\n",
    "\n",
    "            # Zero the sequence for all models on both workers and server!\n",
    "            optimizer.zero_grad()\n",
    "            server_optimizer.zero_grad()\n",
    "\n",
    "            # Start FP on worker\n",
    "            FP_client_start_time = time.time()\n",
    "            intermediate = model(batch_X)\n",
    "            FP_client_end_time = time.time() - FP_client_start_time\n",
    "            \n",
    "            # Split the forward pass here. Send the result of the FP up to this point from the worker to \n",
    "            # the server\n",
    "            remote_intermediate = intermediate.detach().move(server).requires_grad_()\n",
    "\n",
    "            # Complete FP on servers\n",
    "            FP_server_start_time = time.time()\n",
    "            pred = server_model(remote_intermediate)\n",
    "            FP_server_end_time = time.time() - FP_server_start_time\n",
    "\n",
    "            # Calculate loss on server\n",
    "            BP_server_start_time = time.time()\n",
    "            loss = loss_function(pred, batch_y)\n",
    "            # Start BP on server\n",
    "            loss.backward()\n",
    "            # Update weights on server\n",
    "            server_optimizer.step()\n",
    "            BP_server_end_time = time.time() - BP_server_start_time\n",
    "            \n",
    "            # Continue BP on client\n",
    "            intermediate.move(worker)\n",
    "            grad_intermediate = remote_intermediate.grad.copy().move(worker)\n",
    "            \n",
    "            BP_client_start_time = time.time()\n",
    "            intermediate.backward(grad_intermediate)\n",
    "            server_optimizer.step()\n",
    "            BP_client_end_time = time.time() - BP_client_start_time\n",
    "            \n",
    "            \n",
    "            # Total batch time\n",
    "            total_batch_time_worker = FP_client_end_time + FP_server_end_time + BP_server_end_time + BP_client_end_time\n",
    "#             print(\"Total batch time for this worker = \", round(total_batch_time_worker, 4), \" s\")\n",
    "#             print(\"Total batch time for all workers = \", round(total_batch_time_worker*len(compute_nodes), 4), \" s\")\n",
    "#             total_batch_time += total_batch_time_worker\n",
    "            total_epoch_time += total_batch_time_worker\n",
    "    \n",
    "            # Save the batch time for this batch. For simplicity, we assume the time it took\n",
    "            # worker1 to do one batch is the same time it took the others to do their own\n",
    "            # respective batch\n",
    "            if worker is worker1:\n",
    "                batch_times.append(total_batch_time_worker * len(compute_nodes))\n",
    "            \n",
    "            # The following steps must not be done in real life. They are only done as a memory saving measure\n",
    "            # in this implementation because the .rm_obj() method does not work to remove the batches from \n",
    "            # the worker's memory after it is done\n",
    "            \n",
    "            # Get back the models\n",
    "            model.get()\n",
    "            server_model.get()\n",
    "            \n",
    "            # Clear the objects from the workers and servers\n",
    "            worker.clear_objects()\n",
    "            server.clear_objects()\n",
    "            \n",
    "#             batch_count += 1\n",
    "#             if batch_count >= 25:\n",
    "#                 break\n",
    "            \n",
    "    \n",
    "        # OUTSIDE first for loop!        \n",
    "        # Have the current worker send its model to the next worker\n",
    "        if worker is worker1:\n",
    "            # Make worker2's model be the finished model from worker1\n",
    "            worker_collection[1][1] = worker1_model.copy()\n",
    "#             worker2_model = worker1_model.copy()\n",
    "        elif worker is worker2:\n",
    "            # Make worker3's model be the finished model from worker2\n",
    "            worker_collection[2][1] = worker2_model.copy()\n",
    "#             worker3_model = worker2_model.copy()\n",
    "        # Nothing after this because worker3 won't send his model to anyone!\n",
    "    \n",
    "    # OUTISDE BIGGER FOR LOOP  \n",
    "    print(\"TOTAL TIME FOR THIS EPOCH = \", round(total_epoch_time, 4), \" s\")\n",
    "#     Return the new model on the server\n",
    "    return model, server_model, batch_times, total_epoch_time"
   ]
  },
  {
   "cell_type": "markdown",
   "id": "409395c2",
   "metadata": {},
   "source": [
    "## Function used for testing"
   ]
  },
  {
   "cell_type": "code",
   "execution_count": 19,
   "id": "3007fe97",
   "metadata": {},
   "outputs": [],
   "source": [
    "def test(new_worker_model, new_server_model):\n",
    "    \n",
    "    # Calculate the accuracy\n",
    "    correct = 0\n",
    "    total = 0\n",
    "\n",
    "    # Do not update your gradients while testing\n",
    "    with torch.no_grad():\n",
    "        print(\"Initiated model testing:\")\n",
    "        for i in tqdm(range(len(test_X))):\n",
    "            \n",
    "            # Put the model into evaluation mode so it does not update its gradients during this test\n",
    "            new_worker_model.eval()\n",
    "            new_server_model.eval()\n",
    "\n",
    "            # Obtain the real class for the sample\n",
    "            real_class = torch.argmax(test_y[i])\n",
    "\n",
    "            # Obtain our prediction for said sample (not arg_maxed yet)\n",
    "#             output = new_model_server(test_X[i].view(-1, 1, IMG_SIZE, IMG_SIZE))[0]\n",
    "            output = new_server_model(new_worker_model(test_X[i].view(-1, 1, IMG_SIZE, IMG_SIZE)))[0]\n",
    "            \n",
    "            # Obtain our arg_maxed prediction for said sample\n",
    "            predicted_class = torch.argmax(output)\n",
    "\n",
    "            # Update counters\n",
    "            if predicted_class == real_class:\n",
    "                correct += 1\n",
    "            total += 1\n",
    "\n",
    "    print(\"Accuracy of the new model = \", round(correct/total, 3), \"\\n \\n\")"
   ]
  },
  {
   "cell_type": "markdown",
   "id": "3f4c4c7a",
   "metadata": {},
   "source": [
    "## Reset function"
   ]
  },
  {
   "cell_type": "code",
   "execution_count": 20,
   "id": "c95d120a",
   "metadata": {},
   "outputs": [],
   "source": [
    "def update_models(new_worker_model, new_server_model):\n",
    "    # Clear the workers of any objects, just in case you forgot some were still there from a previous run\n",
    "    worker1.clear_objects()\n",
    "    worker2.clear_objects()\n",
    "    worker3.clear_objects()\n",
    "    server.clear_objects()\n",
    "    \n",
    "    # Establish the NN model for each worker. This is model-centric FL, so it is the same model for all workers\n",
    "    worker1_model = new_worker_model.copy()\n",
    "    worker2_model = new_worker_model.copy()\n",
    "    worker3_model = new_worker_model.copy()\n",
    "    server_model = new_server_model.copy()\n",
    "\n",
    "    # Establish the optimizer for each worker\n",
    "    worker1_optimizer = optim.SGD(worker1_model.parameters(), lr=LR)\n",
    "    worker2_optimizer = optim.SGD(worker2_model.parameters(), lr=LR)\n",
    "    worker3_optimizer = optim.SGD(worker3_model.parameters(), lr=LR)\n",
    "    server_optimizer = optim.SGD(server_model.parameters(), lr=LR)\n",
    "    \n",
    "    # Organize the WORKER models and optimizers into lists. The server stuff must not be mixed with these\n",
    "    global models\n",
    "    models = [worker1_model, worker2_model, worker3_model]\n",
    "    global optimizers\n",
    "    optimizers = [worker1_optimizer, worker2_optimizer, worker3_optimizer]\n",
    "    global worker_collection\n",
    "    worker_collection = [[worker1, worker1_model, worker1_optimizer], \n",
    "                         [worker2, worker2_model, worker2_optimizer], \n",
    "                        [worker3, worker3_model, worker3_optimizer]]"
   ]
  },
  {
   "cell_type": "markdown",
   "id": "bf7b6dbe",
   "metadata": {},
   "source": [
    "# RUN THE MODEL"
   ]
  },
  {
   "cell_type": "code",
   "execution_count": 21,
   "id": "b276bd23",
   "metadata": {
    "scrolled": false
   },
   "outputs": [
    {
     "name": "stdout",
     "output_type": "stream",
     "text": [
      "Epoch Number 1\n"
     ]
    },
    {
     "name": "stderr",
     "output_type": "stream",
     "text": [
      "100%|██████████| 100/100 [05:55<00:00,  3.55s/it]\n",
      "100%|██████████| 100/100 [05:21<00:00,  3.22s/it]\n",
      "100%|██████████| 100/100 [05:23<00:00,  3.23s/it]\n"
     ]
    },
    {
     "name": "stdout",
     "output_type": "stream",
     "text": [
      "TOTAL TIME FOR THIS EPOCH =  130.7924  s\n",
      "Initiated model testing:\n"
     ]
    },
    {
     "name": "stderr",
     "output_type": "stream",
     "text": [
      "100%|██████████| 5000/5000 [00:24<00:00, 202.59it/s]\n"
     ]
    },
    {
     "name": "stdout",
     "output_type": "stream",
     "text": [
      "Accuracy of the new model =  0.903 \n",
      " \n",
      "\n",
      "Epoch Number 2\n"
     ]
    },
    {
     "name": "stderr",
     "output_type": "stream",
     "text": [
      "100%|██████████| 100/100 [05:22<00:00,  3.22s/it]\n",
      "100%|██████████| 100/100 [05:22<00:00,  3.22s/it]\n",
      "100%|██████████| 100/100 [05:22<00:00,  3.22s/it]\n"
     ]
    },
    {
     "name": "stdout",
     "output_type": "stream",
     "text": [
      "TOTAL TIME FOR THIS EPOCH =  123.9225  s\n",
      "Initiated model testing:\n"
     ]
    },
    {
     "name": "stderr",
     "output_type": "stream",
     "text": [
      "100%|██████████| 5000/5000 [00:24<00:00, 202.05it/s]\n"
     ]
    },
    {
     "name": "stdout",
     "output_type": "stream",
     "text": [
      "Accuracy of the new model =  0.903 \n",
      " \n",
      "\n",
      "Epoch Number 3\n"
     ]
    },
    {
     "name": "stderr",
     "output_type": "stream",
     "text": [
      "100%|██████████| 100/100 [05:22<00:00,  3.22s/it]\n",
      "100%|██████████| 100/100 [05:21<00:00,  3.21s/it]\n",
      "100%|██████████| 100/100 [05:22<00:00,  3.23s/it]\n"
     ]
    },
    {
     "name": "stdout",
     "output_type": "stream",
     "text": [
      "TOTAL TIME FOR THIS EPOCH =  124.0155  s\n",
      "Initiated model testing:\n"
     ]
    },
    {
     "name": "stderr",
     "output_type": "stream",
     "text": [
      "100%|██████████| 5000/5000 [00:24<00:00, 204.94it/s]\n"
     ]
    },
    {
     "name": "stdout",
     "output_type": "stream",
     "text": [
      "Accuracy of the new model =  0.903 \n",
      " \n",
      "\n",
      "Epoch Number 4\n"
     ]
    },
    {
     "name": "stderr",
     "output_type": "stream",
     "text": [
      "100%|██████████| 100/100 [05:22<00:00,  3.23s/it]\n",
      "100%|██████████| 100/100 [05:21<00:00,  3.22s/it]\n",
      "100%|██████████| 100/100 [05:21<00:00,  3.21s/it]\n"
     ]
    },
    {
     "name": "stdout",
     "output_type": "stream",
     "text": [
      "TOTAL TIME FOR THIS EPOCH =  123.8991  s\n",
      "Initiated model testing:\n"
     ]
    },
    {
     "name": "stderr",
     "output_type": "stream",
     "text": [
      "100%|██████████| 5000/5000 [00:26<00:00, 191.45it/s]\n"
     ]
    },
    {
     "name": "stdout",
     "output_type": "stream",
     "text": [
      "Accuracy of the new model =  0.903 \n",
      " \n",
      "\n"
     ]
    }
   ],
   "source": [
    "# Define your number of epochs\n",
    "epochs = 4\n",
    "epoch_times = []\n",
    "\n",
    "# Train all workers for the set number of epochs\n",
    "for epoch in range(epochs):\n",
    "    \n",
    "    # Start counting the time for this epoch\n",
    "    start_time = time.time()\n",
    "    print(f\"Epoch Number {epoch + 1}\")\n",
    "    \n",
    "    # Train the individual models, and then obtain the federated averaged model\n",
    "#     train_start_time = time.time()\n",
    "    new_worker_model, new_server_model, batch_times, epoch_time = train()\n",
    "#     train_total_time = time.time() - train_start_time\n",
    "#     print(\"Total TRAIN time for epoch \", epoch, \" = \", \n",
    "#           round(train_total_time/60, 2), \" min\")\n",
    "    \n",
    "    # Save the epoch times\n",
    "    epoch_times.append(epoch_time)\n",
    "    \n",
    "    # Stop counting the time\n",
    "#     epoch_total_time = time.time() - start_time\n",
    "#     print('Time for this epoch', round(epoch_total_time/60, 2), 'min')\n",
    "    \n",
    "    # Test your new model to keep a log of how good we're doing per epoch \n",
    "    test(new_worker_model, new_server_model)\n",
    "    \n",
    "    # Update all models before the next epoch\n",
    "    update_models(new_worker_model, new_server_model)\n",
    "    \n",
    "    # Save all batch times\n",
    "    df_batch = pd.DataFrame(batch_times)\n",
    "    df_batch.to_csv(\"./Batch_times/STD_MNIST_SL_epoch_\" + str(epoch) + \".csv\")\n",
    "\n",
    "# OUTSIDE THE FOR LOOP\n",
    "# Save the epoch times\n",
    "df_epoch = pd.DataFrame(epoch_times)\n",
    "df_epoch.to_csv(\"./Epoch_times/STD_MNIST_SL.csv\")\n",
    "\n",
    "\n",
    "# Clean the global namespace after run is done\n",
    "%reset -f"
   ]
  }
 ],
 "metadata": {
  "kernelspec": {
   "display_name": "Python 3",
   "language": "python",
   "name": "python3"
  },
  "language_info": {
   "codemirror_mode": {
    "name": "ipython",
    "version": 3
   },
   "file_extension": ".py",
   "mimetype": "text/x-python",
   "name": "python",
   "nbconvert_exporter": "python",
   "pygments_lexer": "ipython3",
   "version": "3.7.10"
  }
 },
 "nbformat": 4,
 "nbformat_minor": 5
}
